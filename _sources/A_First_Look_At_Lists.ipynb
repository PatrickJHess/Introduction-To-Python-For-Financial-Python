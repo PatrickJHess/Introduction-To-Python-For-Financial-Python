{
 "cells": [
  {
   "cell_type": "markdown",
   "metadata": {
    "id": "lW77-zoVBPvF"
   },
   "source": [
    "<img src='https://docs.google.com/drawings/d/e/2PACX-1vQqQ4axsy3MtEoO9KfxzaMgieXChVHyF_KVlejN1Hd5GDZPR4fzBTf37h7XGgo2xvKF8DOmp0YeiMDb/pub?w=960&h=720'>"
   ]
  },
  {
   "cell_type": "markdown",
   "metadata": {
    "id": "iiHicItVmj2I"
   },
   "source": [
    "## ***Lists***\n",
    "#### A list is a data type that can hold multiple values.\n",
    "#### A list can be instantiated (created) in several ways.  The easiest way is to directly assign values by using square brackets with commas to separate data. Another way is using the list constructor <font color='green'>list()</font> with iterable data. List comprehension is also an option that involves iterating through data to create a list.\n",
    "\n",
    "```\n",
    "# Three different ways to create lists in Python\n",
    "\n",
    "# Method 1: Direct list creation using square brackets\n",
    "x = [1, 2]                        # Most common and straightforward approach\n",
    "                                  # Creates a list with integers 1 and 2\n",
    "\n",
    "# Method 2: Convert tuple to list using list() constructor\n",
    "y = list((3, 4))                  # Takes a tuple (3, 4) as input\n",
    "                                  # The list() function converts it to a list [3, 4]\n",
    "\n",
    "# Method 3: List comprehension\n",
    "z = [data for data in (5, 6)]     # Iterates through tuple (5, 6)\n",
    "                                  # Creates new list by extracting each element\n",
    "                                  # Equivalent to: z = [5, 6]\n",
    "                                  # This method is useful for transforming data\n",
    "\n",
    "# Output all three lists to verify they were created correctly\n",
    "print(x, y, z)                    # Expected output: [1, 2] [3, 4] [5, 6]\n",
    "\n",
    "```"
   ]
  },
  {
   "cell_type": "code",
   "execution_count": null,
   "metadata": {
    "colab": {
     "base_uri": "https://localhost:8080/"
    },
    "id": "pmfCfS57qpv_",
    "outputId": "580c327b-a275-44dd-bde3-d4db00b4155c"
   },
   "outputs": [
    {
     "name": "stdout",
     "output_type": "stream",
     "text": [
      "[1, 2] [3, 4] [5, 6]\n"
     ]
    }
   ],
   "source": [
    "# Three different ways to create lists in Python\n",
    "\n",
    "# Method 1: Direct list creation using square brackets\n",
    "x = [1, 2]                        # Most common and straightforward approach\n",
    "                                  # Creates a list with integers 1 and 2\n",
    "\n",
    "# Method 2: Convert tuple to list using list() constructor\n",
    "y = list((3, 4))                  # Takes a tuple (3, 4) as input\n",
    "                                  # The list() function converts it to a list [3, 4]\n",
    "\n",
    "# Method 3: List comprehension\n",
    "z = [data for data in (5, 6)]     # Iterates through tuple (5, 6)\n",
    "                                  # Creates new list by extracting each element\n",
    "                                  # Equivalent to: z = [5, 6]\n",
    "                                  # This method is useful for transforming data\n",
    "\n",
    "# Output all three lists to verify they were created correctly\n",
    "print(x, y, z)                    # Expected output: [1, 2] [3, 4] [5, 6]"
   ]
  },
  {
   "cell_type": "markdown",
   "metadata": {
    "id": "U4tWLbGssECN"
   },
   "source": [
    "## ***A Nexted List And A List With Multiple Data Types***\n",
    "#### The example demonstrates how a list can contain different data types, even other lists.<br> <font color='green'>list_lists</font> is created from the existing lists <font color='green'>x</font>, <font color='green'>y</font>, and <font color='green'>z</font>. <font color='green'>mixed_list</font> includes, a string, an integer, and a boolean value.\n",
    "\n",
    "\n",
    "```\n",
    "list_lists = [element for element in [x, y, z]]  # Creates [[1, 2], [3, 4], [7, 6, 5]]\n",
    "print(list_lists)\n",
    "mixed_list = ['Finance', 2, True]               # Mixed data types\n",
    "print(mixed_list)\n",
    "\n",
    "```"
   ]
  },
  {
   "cell_type": "code",
   "execution_count": null,
   "metadata": {
    "colab": {
     "base_uri": "https://localhost:8080/"
    },
    "id": "ZCHJlW7bN2_F",
    "outputId": "44e2ce8f-e9a4-4547-d6d9-82b5ec522019"
   },
   "outputs": [
    {
     "name": "stdout",
     "output_type": "stream",
     "text": [
      "[[1, 2], [3, 4], [5, 6]]\n",
      "['Finance', 2, True]\n"
     ]
    }
   ],
   "source": [
    "list_lists = [element for element in [x, y, z]]  # Creates [[1, 2], [3, 4], [7, 6, 5]]\n",
    "print(list_lists)\n",
    "mixed_list = ['Finance', 2, True]               # Mixed data types\n",
    "print(mixed_list)"
   ]
  },
  {
   "cell_type": "markdown",
   "metadata": {
    "id": "Xg_ryE0Ewg8y"
   },
   "source": [
    "## ***Some Useful Methods***\n",
    "#### The <font color='green'>append</font>, <font color='green'>index</font>, and <font color='green'>sort</font> methods are commonly used tools for working with lists. The <font color='green'>append</font> method adds a new element to the end of a list. The <font color='green'>index</font> method provides the first location of a specified value within the list. The <font color='green'>sort</font> method rearranges the elements of the list, with descending order as the default and ascending order as an option (reverse=True).\n",
    "#### Other list methods are described [here](https://www.w3schools.com/python/python_ref_list.asp)."
   ]
  },
  {
   "cell_type": "markdown",
   "metadata": {
    "id": "ww1k4SZgn-NN"
   },
   "source": [
    "### ***The Append Method***"
   ]
  },
  {
   "cell_type": "code",
   "execution_count": null,
   "metadata": {
    "colab": {
     "base_uri": "https://localhost:8080/"
    },
    "id": "1OuQPHgRwgF2",
    "outputId": "b670c271-b222-421c-b6c8-4e5f645326c5"
   },
   "outputs": [
    {
     "name": "stdout",
     "output_type": "stream",
     "text": [
      "[7, 6, 5] 2\n"
     ]
    }
   ],
   "source": [
    "# Add the value 7 to the end of list z\n",
    "z.append(7)\n",
    "\n",
    "# Find and store the index position of the value 7 in the list\n",
    "# Note: This captures the index BEFORE sorting occurs\n",
    "location = z.index(7)\n",
    "\n",
    "# Sort the list z in descending order (largest to smallest)\n",
    "# This modifies the original list z in-place\n",
    "z.sort(reverse=True)\n",
    "\n",
    "# Print the sorted list and the original location of value 6\n",
    "# Important: 'location' still refers to where 7 was BEFORE sorting\n",
    "print(z, location)"
   ]
  },
  {
   "cell_type": "markdown",
   "metadata": {
    "id": "ZwwN1AF3oEFl"
   },
   "source": [
    "### ***The Index Method***"
   ]
  },
  {
   "cell_type": "markdown",
   "metadata": {
    "id": "BeQd1gwcY7VG"
   },
   "source": [
    "#### ***If The Value Is Not In The List, The method <font color='green'>index()</font> Returns An Error Terminating Execution.***"
   ]
  },
  {
   "cell_type": "code",
   "execution_count": null,
   "metadata": {
    "colab": {
     "base_uri": "https://localhost:8080/",
     "height": 159
    },
    "id": "1ArNlGqPZKpx",
    "outputId": "0a0d75f5-d997-4e20-d0a6-c01c8eef6ef0"
   },
   "outputs": [
    {
     "ename": "ValueError",
     "evalue": "10 is not in list",
     "output_type": "error",
     "traceback": [
      "\u001b[0;31m---------------------------------------------------------------------------\u001b[0m",
      "\u001b[0;31mValueError\u001b[0m                                Traceback (most recent call last)",
      "\u001b[0;32m/tmp/ipython-input-4115913051.py\u001b[0m in \u001b[0;36m<cell line: 0>\u001b[0;34m()\u001b[0m\n\u001b[0;32m----> 1\u001b[0;31m \u001b[0mlocation\u001b[0m\u001b[0;34m=\u001b[0m\u001b[0mz\u001b[0m\u001b[0;34m.\u001b[0m\u001b[0mindex\u001b[0m\u001b[0;34m(\u001b[0m\u001b[0;36m10\u001b[0m\u001b[0;34m)\u001b[0m\u001b[0;34m\u001b[0m\u001b[0;34m\u001b[0m\u001b[0m\n\u001b[0m\u001b[1;32m      2\u001b[0m \u001b[0mprint\u001b[0m\u001b[0;34m(\u001b[0m\u001b[0mlocation\u001b[0m\u001b[0;34m)\u001b[0m\u001b[0;34m\u001b[0m\u001b[0;34m\u001b[0m\u001b[0m\n",
      "\u001b[0;31mValueError\u001b[0m: 10 is not in list"
     ]
    }
   ],
   "source": [
    "location=z.index(10)\n",
    "print(location)"
   ]
  },
  {
   "cell_type": "markdown",
   "metadata": {
    "id": "2FzGL7L6ooL_"
   },
   "source": [
    "### ***The Sort Method***\n",
    "\n",
    "\n",
    "```\n",
    "# Sort the list x_y_z in ascending order\n",
    "x_y_z.sort()\n",
    "\n",
    "# Print the list after sorting in ascending order\n",
    "print(x_y_z)\n",
    "\n",
    "# Sort the list x_y_z in descending order by setting reverse=True\n",
    "x_y_z.sort(reverse=True)\n",
    "\n",
    "# Print the list after sorting in descending order\n",
    "print(x_y_z)\n",
    "\n",
    "```\n"
   ]
  },
  {
   "cell_type": "code",
   "execution_count": null,
   "metadata": {
    "colab": {
     "base_uri": "https://localhost:8080/"
    },
    "id": "Igb59ku_osVu",
    "outputId": "491b45e2-bd6e-420b-b980-b3d13ad2248b"
   },
   "outputs": [
    {
     "name": "stdout",
     "output_type": "stream",
     "text": [
      "[1, 2, 3, 4, 5, 6]\n",
      "[6, 5, 4, 3, 2, 1]\n"
     ]
    }
   ],
   "source": [
    "# Sort the list x_y_z in ascending order\n",
    "x_y_z.sort()\n",
    "\n",
    "# Print the list after sorting in ascending order\n",
    "print(x_y_z)\n",
    "\n",
    "# Sort the list x_y_z in descending order by setting reverse=True\n",
    "x_y_z.sort(reverse=True)\n",
    "\n",
    "# Print the list after sorting in descending order\n",
    "print(x_y_z)"
   ]
  },
  {
   "cell_type": "markdown",
   "metadata": {
    "id": "MbzflB2H28W5"
   },
   "source": [
    "### ***Combining And Slicing Lists With The Index***\n",
    "#### The list <font color='green'>z</font> is returned to its original values [5,6] and then combined with lists <font color='green'>z</font> and <font color='green'>y</font> using the plus sign. The list method <font color='green'>extend</font> may be used to add an iterable to the end of a list. If you are working only with lists, the plus sign is more flexible.  The resulting combined list is then sliced and iterated through using a <font color='green'>for loop</font>.\n",
    "\n",
    "\n",
    "```\n",
    "# Reset list z to its original values for demonstration\n",
    "z = [5, 6]\n",
    "\n",
    "# Concatenate three lists (x, y, z) into a single combined list\n",
    "# The + operator joins lists together in sequence\n",
    "x_y_z = x + y + z\n",
    "print('X_Y_Z', x_y_z)\n",
    "\n",
    "# Extract the first four elements using slice notation [start:end]\n",
    "# [:4] means from beginning (index 0) up to but not including index 4\n",
    "slice_first_four_elements_x_y_z = x_y_z[:4]\n",
    "\n",
    "# Extract elements starting from the fifth element to the end\n",
    "# [4:] means from index 4 to the end of the list\n",
    "slice_start_fifth_element_x_y_z = x_y_z[4:]\n",
    "\n",
    "# Display both sliced portions with descriptive labels\n",
    "print('First Four Values x_y_z', slice_first_four_elements_x_y_z,\n",
    "      '\\nStart At Fifth Value Of x_y_z', slice_start_fifth_element_x_y_z)\n",
    "\n",
    "# Demonstrate zero-based indexing by showing specific element access\n",
    "# Index 3 corresponds to the 4th element (counting starts at 0)\n",
    "# Index 4 corresponds to the 5th element\n",
    "print('The Fourth Value Is At Index Value 3', x_y_z[3],\n",
    "      '\\nThe Fifth Value Is At Index Value  4', x_y_z[4])\n",
    "\n",
    "```"
   ]
  },
  {
   "cell_type": "code",
   "execution_count": null,
   "metadata": {
    "colab": {
     "base_uri": "https://localhost:8080/"
    },
    "id": "6wZx-HXrzkau",
    "outputId": "8a6903ab-5efb-47d9-f787-1fb4ce8b3c65"
   },
   "outputs": [
    {
     "name": "stdout",
     "output_type": "stream",
     "text": [
      "X_Y_Z [1, 2, 3, 4, 5, 6]\n",
      "First Four Values x_y_z [1, 2, 3, 4] \n",
      "Start At Fifth Value Of x_y_z [5, 6]\n",
      "The Fourth Value Is At Index Value 3 4 \n",
      "The Fifth Value Is At Index Value  4 5\n"
     ]
    }
   ],
   "source": [
    "# Reset list z to its original values for demonstration\n",
    "z = [5, 6]\n",
    "\n",
    "# Concatenate three lists (x, y, z) into a single combined list\n",
    "# The + operator joins lists together in sequence\n",
    "x_y_z = x + y + z\n",
    "print('X_Y_Z', x_y_z)\n",
    "\n",
    "# Extract the first four elements using slice notation [start:end]\n",
    "# [:4] means from beginning (index 0) up to but not including index 4\n",
    "slice_first_four_elements_x_y_z = x_y_z[:4]\n",
    "\n",
    "# Extract elements starting from the fifth element to the end\n",
    "# [4:] means from index 4 to the end of the list\n",
    "slice_start_fifth_element_x_y_z = x_y_z[4:]\n",
    "\n",
    "# Display both sliced portions with descriptive labels\n",
    "print('First Four Values x_y_z', slice_first_four_elements_x_y_z,\n",
    "      '\\nStart At Fifth Value Of x_y_z', slice_start_fifth_element_x_y_z)\n",
    "\n",
    "# Demonstrate zero-based indexing by showing specific element access\n",
    "# Index 3 corresponds to the 4th element (counting starts at 0)\n",
    "# Index 4 corresponds to the 5th element\n",
    "print('The Fourth Value Is At Index Value 3', x_y_z[3],\n",
    "      '\\nThe Fifth Value Is At Index Value  4', x_y_z[4])"
   ]
  },
  {
   "cell_type": "markdown",
   "metadata": {
    "id": "cAWViHRosIBu"
   },
   "source": [
    "## ***Create A List By Iterating Through A String: List Comprehension & For Loop***\n",
    "#### Assign the text \"Financial Python\" to the variable <font color='green'>financial_python</font>. The first option is to use list comprehension to convert the string to a list of characters: each character becomes a separate value.\n",
    "#### Option 2 is to use a <font color='green'>for loop</font>. Initialize a list with no values. Then iterate through each character in <font color='green'>financial_python</font> adding each element to the new list for iteration.\n",
    "\n",
    "\n",
    "```\n",
    "# Define a string variable containing the text \"Financial Python\"\n",
    "financial_python = 'Financial Python'\n",
    "\n",
    "# Option 1: List comprehension to convert string to list of characters\n",
    "# This creates a new list where each character in the string becomes a separate element\n",
    "# List comprehension is a concise, Pythonic way to create lists\n",
    "print([character for character in financial_python])\n",
    "\n",
    "# Option 2: Traditional for loop approach to achieve the same result\n",
    "# Initialize an empty list to store individual characters\n",
    "list_financial_python = []\n",
    "\n",
    "# Iterate through each character in the string\n",
    "for character in financial_python:\n",
    "    # Add each character as a separate element to the list\n",
    "    list_financial_python.append(character)\n",
    "\n",
    "# Print the resulting list created using the traditional loop method\n",
    "print(list_financial_python)\n",
    "\n",
    "```\n"
   ]
  },
  {
   "cell_type": "code",
   "execution_count": null,
   "metadata": {
    "colab": {
     "base_uri": "https://localhost:8080/"
    },
    "id": "aFENVrQtsZ-T",
    "outputId": "83bb037d-29cd-4843-d508-1296d73aa9a4"
   },
   "outputs": [
    {
     "name": "stdout",
     "output_type": "stream",
     "text": [
      "['F', 'i', 'n', 'a', 'n', 'c', 'i', 'a', 'l', ' ', 'P', 'y', 't', 'h', 'o', 'n']\n",
      "['F', 'i', 'n', 'a', 'n', 'c', 'i', 'a', 'l', ' ', 'P', 'y', 't', 'h', 'o', 'n']\n"
     ]
    }
   ],
   "source": [
    "# Define a string variable containing the text \"Financial Python\"\n",
    "financial_python = 'Financial Python'\n",
    "\n",
    "# Option 1: List comprehension to convert string to list of characters\n",
    "# This creates a new list where each character in the string becomes a separate element\n",
    "# List comprehension is a concise, Pythonic way to create lists\n",
    "print([character for character in financial_python])\n",
    "\n",
    "# Option 2: Traditional for loop approach to achieve the same result\n",
    "# Initialize an empty list to store individual characters\n",
    "list_financial_python = []\n",
    "\n",
    "# Iterate through each character in the string\n",
    "for character in financial_python:\n",
    "    # Add each character as a separate element to the list\n",
    "    list_financial_python.append(character)\n",
    "\n",
    "# Print the resulting list created using the traditional loop method\n",
    "print(list_financial_python)"
   ]
  }
 ],
 "metadata": {
  "colab": {
   "provenance": []
  },
  "kernelspec": {
   "display_name": "Python 3 (ipykernel)",
   "language": "python",
   "name": "python3"
  },
  "language_info": {
   "codemirror_mode": {
    "name": "ipython",
    "version": 3
   },
   "file_extension": ".py",
   "mimetype": "text/x-python",
   "name": "python",
   "nbconvert_exporter": "python",
   "pygments_lexer": "ipython3",
   "version": "3.9.7"
  }
 },
 "nbformat": 4,
 "nbformat_minor": 4
}
