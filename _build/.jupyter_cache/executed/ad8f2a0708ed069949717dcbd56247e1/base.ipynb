{
 "cells": [
  {
   "cell_type": "code",
   "execution_count": 1,
   "metadata": {
    "colab": {
     "base_uri": "https://localhost:8080/"
    },
    "id": "zfzuiY2PjcyH",
    "outputId": "dbce12e6-613c-4296-9717-217b64ccf835"
   },
   "outputs": [
    {
     "name": "stdout",
     "output_type": "stream",
     "text": [
      "Python Finance\n",
      "It's fun to use finance with python It's fun to use python with finance\n",
      "Type of fiance <class 'str'>\n"
     ]
    }
   ],
   "source": [
    "# Assign the string \"Python\" to the variable 'python'.\n",
    "python = 'Python'\n",
    "\n",
    "# Assign the string \"Finance\" to the variable 'finance'.\n",
    "finance = 'Finance'\n",
    "\n",
    "# Assign a descriptive string to 'python_fun'.\n",
    "# This string expresses an opinion about combining finance and python.\n",
    "python_fun = \"It's fun to use finance with python\"\n",
    "\n",
    "# Assign another descriptive string to 'finance_fun'.\n",
    "# This string also expresses an opinion, using an escaped single quote (\\')\n",
    "# because the string itself is defined with single quotes and contains an apostrophe.\n",
    "finance_fun = 'It\\'s fun to use python with finance'\n",
    "\n",
    "# Print the values of the 'python' and 'finance' variables.\n",
    "# They will be printed on the same line, separated by a space by default.\n",
    "print(python, finance)\n",
    "\n",
    "# Print the values of the 'python_fun' and 'finance_fun' variables.\n",
    "# They will also be printed on the same line, separated by a space.\n",
    "print(python_fun, finance_fun)\n",
    "\n",
    "# Print a descriptive label \"Type of fiance\" followed by the data type of the 'finance' variable.\n",
    "# The 'type()' built-in function returns the type of the object passed to it.\n",
    "# For a string literal like \"Finance\", its type is <class 'str'>.\n",
    "print('Type of fiance', type(finance))"
   ]
  },
  {
   "cell_type": "code",
   "execution_count": 2,
   "metadata": {
    "colab": {
     "base_uri": "https://localhost:8080/"
    },
    "id": "uBKrSpD2qcJ1",
    "outputId": "16712934-e57d-4936-a34a-bd6e415c299a"
   },
   "outputs": [
    {
     "name": "stdout",
     "output_type": "stream",
     "text": [
      "PythonFinance\n",
      "Python & Finance\n",
      "It's fun to use finance with python...It's fun to use python with finance\n"
     ]
    }
   ],
   "source": [
    "# Initialize a string variable 'python' with the value \"Python\".\n",
    "python = 'Python'\n",
    "\n",
    "# Initialize a string variable 'finance' with the value \"Finance\".\n",
    "finance = 'Finance'\n",
    "\n",
    "# Initialize a string variable 'python_fun' with a descriptive phrase.\n",
    "# Double quotes are used here, allowing a single apostrophe inside without escaping.\n",
    "python_fun = \"It's fun to use finance with python\"\n",
    "\n",
    "# Initialize a string variable 'finance_fun' with another descriptive phrase.\n",
    "# Single quotes are used, so the apostrophe in \"It's\" is escaped using a backslash (\\').\n",
    "finance_fun = 'It\\'s fun to use python with finance'\n",
    "\n",
    "# Print the result of concatenating the 'python' and 'finance' strings.\n",
    "# The '+' operator joins the two strings directly, without any space in between.\n",
    "print(python + finance)\n",
    "\n",
    "# Concatenate the string ' & ' to the existing value of 'python'.\n",
    "# The '+=' operator is an in-place operation, meaning it modifies the 'python' variable itself.\n",
    "# After this line, 'python' will become \"Python & \".\n",
    "python += ' & '\n",
    "\n",
    "# Print the new value of 'python' concatenated with the 'finance' string.\n",
    "# This will show \"Python & Finance\".\n",
    "print(python + finance)\n",
    "\n",
    "# Concatenate 'python_fun', the literal string '...', and 'finance_fun'.\n",
    "# The result will be a single string combining these three parts.\n",
    "print(python_fun + '...' + finance_fun)"
   ]
  },
  {
   "cell_type": "code",
   "execution_count": 3,
   "metadata": {
    "colab": {
     "base_uri": "https://localhost:8080/"
    },
    "id": "AVHNYOYU-LEL",
    "outputId": "53bc42df-e854-42ca-ffb8-732ef8e1066a"
   },
   "outputs": [
    {
     "name": "stdout",
     "output_type": "stream",
     "text": [
      "7 Finance\n",
      "9 Python & \n",
      "0 \n"
     ]
    }
   ],
   "source": [
    "# Initialize a string variable 'python' with the value \"Python\".\n",
    "python = 'Python'\n",
    "\n",
    "# Initialize a string variable 'finance' with the value \"Finance\".\n",
    "finance = 'Finance'\n",
    "\n",
    "# Concatenate the string ' & ' to the existing value of 'python'.\n",
    "# The '+=' operator modifies 'python' in-place.\n",
    "# After this line, 'python' will become \"Python & \".\n",
    "python += ' & '\n",
    "\n",
    "# Print two pieces of information about the 'finance' string:\n",
    "# 1. The length of the 'finance' string using the built-in 'len()' function.\n",
    "#    'Finance' has 7 characters, so len('Finance') is 7.\n",
    "# 2. The 'finance' string itself.\n",
    "print(len(finance), finance)\n",
    "\n",
    "# Print two pieces of information about the 'python' string:\n",
    "# 1. The length of the 'python' string. Since it was modified to \"Python & \",\n",
    "#    its length is 6 (for \"Python\") + 3 (for \" & \") = 9.\n",
    "# 2. The 'python' string itself.\n",
    "print(len(python), python)\n",
    "\n",
    "# Initialize an empty string literal and assign it to 'empty_string'.\n",
    "empty_string = ''\n",
    "\n",
    "# Print two pieces of information about the 'empty_string':\n",
    "# 1. The length of the 'empty_string'. An empty string has 0 characters.\n",
    "# 2. The 'empty_string' itself (which will be nothing).\n",
    "print(len(empty_string), empty_string)"
   ]
  },
  {
   "cell_type": "code",
   "execution_count": 4,
   "metadata": {
    "colab": {
     "base_uri": "https://localhost:8080/"
    },
    "id": "hecmKsU6zipc",
    "outputId": "db656d81-2e12-447f-df5e-c520a91be1c0"
   },
   "outputs": [
    {
     "name": "stdout",
     "output_type": "stream",
     "text": [
      "F\n",
      "i\n",
      "n\n",
      "a\n",
      "n\n",
      "c\n",
      "e\n"
     ]
    }
   ],
   "source": [
    "# Iterate over each individual character in the 'finance' string.\n",
    "# In each iteration of the loop, the variable 'character' will be\n",
    "# assigned the next character from the 'finance' string.\n",
    "for character in finance:\n",
    "  # Print the current 'character'.\n",
    "  # By default, 'print()' adds a newline character at the end,\n",
    "  # so each character will appear on a separate line in the output.\n",
    "  print(character)"
   ]
  },
  {
   "cell_type": "code",
   "execution_count": 5,
   "metadata": {
    "colab": {
     "base_uri": "https://localhost:8080/"
    },
    "id": "P2oqH5Ho1LQf",
    "outputId": "f9ccec5c-97c6-44cc-c391-d7e0a4706458"
   },
   "outputs": [
    {
     "name": "stdout",
     "output_type": "stream",
     "text": [
      "0 F\n",
      "1 i\n",
      "2 n\n",
      "3 a\n",
      "4 n\n",
      "5 c\n",
      "6 e\n"
     ]
    }
   ],
   "source": [
    "# Iterate over the 'finance' string using 'enumerate()'.\n",
    "# 'enumerate()' is a built-in function that adds a counter (index) to an iterable.\n",
    "# For each item in 'finance':\n",
    "#   - 'index' will be the current position (starting from 0).\n",
    "#   - 'character' will be the actual character at that position.\n",
    "for index, character in enumerate(finance):\n",
    "  # Print both the 'index' and the 'character' for the current iteration.\n",
    "  # By default, 'print()' separates arguments with a space and ends with a newline,\n",
    "  # so each index-character pair will appear on a separate line.\n",
    "  print(index, character)"
   ]
  },
  {
   "cell_type": "code",
   "execution_count": 6,
   "metadata": {
    "colab": {
     "base_uri": "https://localhost:8080/"
    },
    "id": "DFrlhywSq89F",
    "outputId": "b7717b71-a94f-45e3-cabc-24f0ac18c718"
   },
   "outputs": [
    {
     "name": "stdout",
     "output_type": "stream",
     "text": [
      "F a e\n"
     ]
    }
   ],
   "source": [
    "# Another example of zero-based indexing - prints characters in locations 0, 3, and 6 that represent F, a, and e.\n",
    "print(finance[0],finance[3],finance[6])"
   ]
  },
  {
   "cell_type": "code",
   "execution_count": 7,
   "metadata": {
    "colab": {
     "base_uri": "https://localhost:8080/"
    },
    "id": "O5neIGhEm4FP",
    "outputId": "653e9274-f430-41a0-a43e-c440226255ab"
   },
   "outputs": [
    {
     "name": "stdout",
     "output_type": "stream",
     "text": [
      "Fina\n",
      "Fina\n",
      "ance\n",
      "Fina\n"
     ]
    }
   ],
   "source": [
    "# Print a slice of the 'finance' string from index 0 (inclusive) up to, but not including, index 4.\n",
    "# This will extract the characters at indices 0, 1, 2, and 3.\n",
    "# 'Finance' -> F(0) i(1) n(2) a(3) n(4) c(5) e(6)\n",
    "# finance[0:4] will be 'Fina'\n",
    "print(finance[0:4])\n",
    "\n",
    "# Print a slice of the 'finance' string where the starting index is omitted.\n",
    "# When the starting index is omitted, it defaults to 0.\n",
    "# So, finance[:4] is equivalent to finance[0:4].\n",
    "# finance[:4] will also be 'Fina'\n",
    "print(finance[:4])\n",
    "\n",
    "# Print a slice of the 'finance' string using negative indexing from the end.\n",
    "# -4 means starting 4 characters from the end.\n",
    "# When the ending index is omitted, it defaults to the end of the string.\n",
    "# 'Finance' -> F i n a n c e\n",
    "# Indices:      0 1 2 3 4 5 6\n",
    "# Negative:    -7-6-5-4-3-2-1\n",
    "# finance[-4:] will be 'ance' (characters at -4, -3, -2, -1)\n",
    "print(finance[-4:])\n",
    "\n",
    "# Print a slice of the 'finance' string using negative indexing for the end.\n",
    "# When the starting index is omitted, it defaults to 0.\n",
    "# -3 means stopping 3 characters from the end (exclusive).\n",
    "# So, it extracts characters from index 0 up to, but not including, index -3.\n",
    "# 'Finance' -> F(0) i(1) n(2) a(3) n(4) c(5) e(6)\n",
    "# Negative:    -7-6-5-4-3-2-1\n",
    "# finance[:-3] will be 'Fina' (characters up to index 3, not including index 4)\n",
    "print(finance[:-3])"
   ]
  },
  {
   "cell_type": "code",
   "execution_count": 8,
   "metadata": {
    "colab": {
     "base_uri": "https://localhost:8080/"
    },
    "id": "8uN5zeosdT55",
    "outputId": "cf78c25f-0ba5-4178-edb3-ad231efaefff"
   },
   "outputs": [
    {
     "name": "stdout",
     "output_type": "stream",
     "text": [
      "<class 'int'> <class 'float'> <class 'bool'>\n",
      "5 <class 'str'> 10.3 <class 'str'> True <class 'str'>\n"
     ]
    }
   ],
   "source": [
    "# Initialize an integer variable 'x' with the value 5.\n",
    "x = 5\n",
    "\n",
    "# Initialize a floating-point variable 'y' with the value 10.3.\n",
    "y = 10.3\n",
    "\n",
    "# Perform a comparison operation: check if 'y' is greater than 'x'.\n",
    "# The result of a comparison is always a boolean value (True or False).\n",
    "# In this case, 10.3 > 5 is True, so 'z' will be assigned the boolean value True.\n",
    "z = y > x\n",
    "\n",
    "# Print the data type of each variable (x, y, and z) using the built-in 'type()' function.\n",
    "# - type(x) will be <class 'int'>\n",
    "# - type(y) will be <class 'float'>\n",
    "# - type(z) will be <class 'bool'>\n",
    "print(type(x), type(y), type(z))\n",
    "\n",
    "# Convert the integer 'x' to its string representation and assign it to 'a'.\n",
    "# 'a' will be the string \"5\".\n",
    "a = str(x)\n",
    "\n",
    "# Convert the float 'y' to its string representation and assign it to 'b'.\n",
    "# 'b' will be the string \"10.3\".\n",
    "b = str(y)\n",
    "\n",
    "# Convert the boolean 'z' (which is True) to its string representation and assign it to 'c'.\n",
    "# 'c' will be the string \"True\".\n",
    "c = str(z)\n",
    "\n",
    "# Print the value and data type of each of the newly created string variables (a, b, and c).\n",
    "# - a will be \"5\", type(a) will be <class 'str'>\n",
    "# - b will be \"10.3\", type(b) will be <class 'str'>\n",
    "# - c will be \"True\", type(c) will be <class 'str'>\n",
    "print(a, type(a), b, type(b), c, type(c))"
   ]
  },
  {
   "cell_type": "code",
   "execution_count": 9,
   "metadata": {
    "colab": {
     "base_uri": "https://localhost:8080/"
    },
    "id": "Kl7ol8zfsXZ_",
    "outputId": "18cff6db-f993-416c-92ea-94bd91922aa5"
   },
   "outputs": [
    {
     "name": "stdout",
     "output_type": "stream",
     "text": [
      "10.0\n",
      "10\n",
      "0 False\n",
      "1 True\n"
     ]
    }
   ],
   "source": [
    "# Convert the string '10' to a floating-point number (10.0) and print it.\n",
    "# The `float()` constructor can convert integers, floats, and string representations\n",
    "# of numbers to floating-point type.\n",
    "print(float('10'))\n",
    "\n",
    "# Convert the string '10' to an integer number (10) and print it.\n",
    "# The `int()` constructor can convert integers, floats, and string representations\n",
    "# of integers to integer type.\n",
    "print(int('10'))\n",
    "\n",
    "# Initialize an empty string literal and assign it to the variable 'empty'.\n",
    "empty = ''\n",
    "\n",
    "# Print two pieces of information about the 'empty' string:\n",
    "# 1. Its length using `len()`. An empty string has a length of 0.\n",
    "# 2. Its boolean value using `bool()`. An empty string is considered \"falsy\" (evaluates to False).\n",
    "print(len(empty), bool(empty))\n",
    "\n",
    "# Initialize a string containing a single space character and assign it to 'space'.\n",
    "space = ' '\n",
    "\n",
    "# Print two pieces of information about the 'space' string:\n",
    "# 1. Its length using `len()`. A string with one space has a length of 1.\n",
    "# 2. Its boolean value using `bool()`. A non-empty string (even one with just whitespace)\n",
    "#    is considered \"truthy\" (evaluates to True).\n",
    "print(len(space), bool(space))"
   ]
  },
  {
   "cell_type": "code",
   "execution_count": 10,
   "metadata": {
    "colab": {
     "base_uri": "https://localhost:8080/"
    },
    "id": "4pblL7v1Xiuv",
    "outputId": "76ee296e-fce9-4e1e-84e0-8f1e8db7ecdf"
   },
   "outputs": [
    {
     "name": "stdout",
     "output_type": "stream",
     "text": [
      "0     -1\n",
      "FiNaNce     FiNance     Fi a ce\n",
      "[\"It's\", 'fun', 'to', 'use', 'finance', 'with', 'python']     [\"It's fun to use f\", 'nance with python']\n",
      "It's  fun  to  use  finance  with  python     It's$fun$to$use$finance$with$python\n"
     ]
    }
   ],
   "source": [
    "# --- Section 1: Using the `str.find()` method ---\n",
    "\n",
    "# The `str.find(substring)` method returns the lowest index (position)\n",
    "# in the string where the 'substring' is found.\n",
    "# If the 'substring' is not found, it returns -1.\n",
    "\n",
    "# finance.find('F'): 'F' is the first character in 'Finance', so its index is 0.\n",
    "# finance.find('I'): 'I' (uppercase) is not present in 'Finance' (which has 'i' lowercase), so it returns -1.\n",
    "print(finance.find('F'), '   ', finance.find('I'))\n",
    "\n",
    "\n",
    "# --- Section 2: Using the `str.replace()` method ---\n",
    "\n",
    "# The `str.replace(old, new, count)` method returns a *new* string\n",
    "# where occurrences of 'old' are replaced by 'new'.\n",
    "# The original string ('finance') remains unchanged.\n",
    "# The optional 'count' argument specifies the maximum number of replacements to make.\n",
    "\n",
    "# finance.replace('n','N'): Replaces ALL occurrences of 'n' with 'N'.\n",
    "#   'Finance' (n at index 2, n at index 4) becomes 'FiNaNce'.\n",
    "# finance.replace('n','N',1): Replaces only the FIRST occurrence of 'n' with 'N'.\n",
    "#   'Finance' (n at index 2) becomes 'FiNance'.\n",
    "# finance.replace('n',' '): Replaces ALL occurrences of 'n' with a space character.\n",
    "#   'Finance' becomes 'Fi ance'.\n",
    "print(finance.replace('n','N'),'   ',finance.replace('n','N',1),'   ',finance.replace('n',' '))\n",
    "\n",
    "\n",
    "# --- Section 3: Using the `str.split()` method ---\n",
    "\n",
    "# The `str.split(separator, maxsplit)` method splits a string into a list of substrings.\n",
    "# If 'separator' is not provided (or is None), it splits by any whitespace\n",
    "# and automatically handles multiple spaces by treating them as one.\n",
    "\n",
    "# python_fun.split(): Splits the string by any whitespace.\n",
    "#   \"It's fun to use finance with python\" becomes\n",
    "#   ['It\\'s', 'fun', 'to', 'use', 'finance', 'with', 'python']\n",
    "# python_fun.split('i',1): Splits the string by the first occurrence of the character 'i'.\n",
    "#   The '1' limits the number of splits to one, resulting in two parts.\n",
    "#   \"It's fun to use finance with python\" splits at the 'i' in \"It's\"\n",
    "#   or at the first 'i' encountered (in 'finance'). Let's trace it:\n",
    "#   Original: \"It's fun to use finance with python\"\n",
    "#             ^ first 'i' is at index 4\n",
    "#   Result: [\"It's fun to use f\", \"nance with python\"]\n",
    "print(python_fun.split(),'   ',python_fun.split('i',1))\n",
    "\n",
    "\n",
    "# --- Section 4: Using the `str.join()` method ---\n",
    "\n",
    "# The `str.join(iterable)` method is a string method used to concatenate\n",
    "# elements of an iterable (like a list of strings).\n",
    "# The string on which `.join()` is called acts as the separator between the elements.\n",
    "\n",
    "# '  '.join(python_fun.split()):\n",
    "#   First, python_fun.split() creates the list: ['It\\'s', 'fun', 'to', 'use', 'finance', 'with', 'python'].\n",
    "#   Then, these elements are joined together with '  ' (two spaces) as the separator.\n",
    "#   Result: \"It's  fun  to  use  finance  with  python\"\n",
    "# '$'.join(python_fun.split()):\n",
    "#   Uses the same list, but joins the elements with '$' as the separator.\n",
    "#   Result: \"It's$fun$to$use$finance$with$python\"\n",
    "print('  '.join(python_fun.split()),'   ','$'.join(python_fun.split()))"
   ]
  }
 ],
 "metadata": {
  "colab": {
   "provenance": []
  },
  "kernelspec": {
   "display_name": "Python 3",
   "name": "python3"
  },
  "language_info": {
   "codemirror_mode": {
    "name": "ipython",
    "version": 3
   },
   "file_extension": ".py",
   "mimetype": "text/x-python",
   "name": "python",
   "nbconvert_exporter": "python",
   "pygments_lexer": "ipython3",
   "version": "3.9.7"
  }
 },
 "nbformat": 4,
 "nbformat_minor": 0
}