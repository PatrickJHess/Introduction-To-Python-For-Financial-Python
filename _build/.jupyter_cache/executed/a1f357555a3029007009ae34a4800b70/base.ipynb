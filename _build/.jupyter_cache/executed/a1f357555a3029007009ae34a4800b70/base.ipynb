{
 "cells": [
  {
   "cell_type": "code",
   "execution_count": 1,
   "metadata": {
    "colab": {
     "base_uri": "https://localhost:8080/"
    },
    "id": "pBQgpJH1fDau",
    "outputId": "f4336fa7-ec02-4904-b869-9aca491fd4b2"
   },
   "outputs": [
    {
     "name": "stdout",
     "output_type": "stream",
     "text": [
      "1\n",
      "2\n",
      "3\n",
      "4\n",
      "5\n",
      "6\n"
     ]
    }
   ],
   "source": [
    "# Define x, y and z lists\n",
    "x=[1,2]\n",
    "y=[3,4]\n",
    "z=[5,6]\n",
    "\n",
    "# Method 1: Create a set from an existing iterable (list x) using set() constructor\n",
    "# This converts list x into a set, removing any duplicate values\n",
    "# Sets only contain unique elements, so duplicates are automatically eliminated\n",
    "set_x = set(x)\n",
    "\n",
    "# Iterate through all elements in set_x and print each element\n",
    "# Note: Sets are unordered, so elements may not print in the same order as the original list\n",
    "for elements in set_x:\n",
    "    print(elements)\n",
    "\n",
    "# Method 2: Create a set using curly braces with literal values\n",
    "# This is the direct way to create a set with known values\n",
    "# Sets are defined with curly braces {}, similar to dictionaries but without key:value pairs\n",
    "set_y = {3, 4}\n",
    "\n",
    "# Iterate through all elements in set_y and print each element\n",
    "for elements in set_y:\n",
    "    print(elements)\n",
    "\n",
    "# Method 3: Create a set using set() constructor with generator expression\n",
    "# This is similar to Method 1 but uses a generator expression\n",
    "# The generator expression (element for element in z) creates elements on-the-fly\n",
    "# This approach is useful for more complex set creation with conditions or transformations\n",
    "set_z = set(element for element in z)\n",
    "\n",
    "# Iterate through all elements in set_z and print each element\n",
    "# Again, order is not guaranteed since sets are unordered collections\n",
    "for elements in set_z:\n",
    "    print(elements)"
   ]
  },
  {
   "cell_type": "code",
   "execution_count": 2,
   "metadata": {
    "colab": {
     "base_uri": "https://localhost:8080/"
    },
    "id": "WOmksAU-gbD5",
    "outputId": "25718822-26b0-41de-b0c5-33038b9c6a14"
   },
   "outputs": [
    {
     "name": "stdout",
     "output_type": "stream",
     "text": [
      "{1, 2, 3, 4, 5, 6}\n",
      "{1, 2, 3, 4, 5, 6}\n",
      "{1, 2, 3, 4, 5, 6}\n",
      "{1, 2, 3, 4, 5, 6}\n"
     ]
    }
   ],
   "source": [
    "# Method chaining (your current approach)\n",
    "set_union = set_x.union(set_y).union(set_z)\n",
    "print(set_union)\n",
    "\n",
    "# Multiple unions in one call\n",
    "set_union = set_x.union(set_y, set_z)\n",
    "print(set_union)\n",
    "\n",
    "# Using the | operator\n",
    "set_union = set_x | set_y | set_z\n",
    "print(set_union)\n",
    "\n",
    "# Using set() constructor with multiple iterables\n",
    "set_union = set().union(set_x, set_y, set_z)\n",
    "print(set_union)"
   ]
  },
  {
   "cell_type": "code",
   "execution_count": 3,
   "metadata": {
    "colab": {
     "base_uri": "https://localhost:8080/"
    },
    "id": "83h1-uB5dK3U",
    "outputId": "f7574964-d6b2-4dd3-be7a-d44c18fbd19e"
   },
   "outputs": [
    {
     "data": {
      "text/plain": [
       "{1, 2, 3, 4, 5, 6, 7, 8}"
      ]
     },
     "execution_count": 3,
     "metadata": {},
     "output_type": "execute_result"
    }
   ],
   "source": [
    "#Add new elements to union\n",
    "#value 6 is already in set and is ignored to avoid duplication\n",
    "set_union.union({6,7,8})"
   ]
  },
  {
   "cell_type": "code",
   "execution_count": 4,
   "metadata": {
    "colab": {
     "base_uri": "https://localhost:8080/"
    },
    "id": "LtFS3Dwm0-e5",
    "outputId": "7d4bedb5-2599-43ff-f927-a5998ac496c1"
   },
   "outputs": [
    {
     "data": {
      "text/plain": [
       "{1, 2, 3, 4, 5, 6, 7, 8}"
      ]
     },
     "execution_count": 4,
     "metadata": {},
     "output_type": "execute_result"
    }
   ],
   "source": [
    "list_numbers=[[1,2],[3,4],[4,5,6,7,8]]\n",
    "x={number for numbers in list_numbers for number in numbers}\n",
    "x"
   ]
  }
 ],
 "metadata": {
  "colab": {
   "provenance": []
  },
  "kernelspec": {
   "display_name": "Python 3 (ipykernel)",
   "language": "python",
   "name": "python3"
  },
  "language_info": {
   "codemirror_mode": {
    "name": "ipython",
    "version": 3
   },
   "file_extension": ".py",
   "mimetype": "text/x-python",
   "name": "python",
   "nbconvert_exporter": "python",
   "pygments_lexer": "ipython3",
   "version": "3.9.7"
  }
 },
 "nbformat": 4,
 "nbformat_minor": 4
}