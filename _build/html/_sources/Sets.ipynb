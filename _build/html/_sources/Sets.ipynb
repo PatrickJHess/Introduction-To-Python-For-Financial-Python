{
  "nbformat": 4,
  "nbformat_minor": 0,
  "metadata": {
    "colab": {
      "provenance": []
    },
    "kernelspec": {
      "name": "python3",
      "display_name": "Python 3"
    },
    "language_info": {
      "name": "python"
    }
  },
  "cells": [
    {
      "cell_type": "markdown",
      "source": [
        "<img src='https://docs.google.com/drawings/d/e/2PACX-1vQt7qLU6KQkNF4vf5Q1E3A7AH-mv_EAObPgxPsUwToh0-exCYmpP-HFOzOXbkGqyYWY6m_TmRSl_mtM/pub?w=960&h=720'>"
      ],
      "metadata": {
        "id": "2AyzQ8xGZmOY"
      }
    },
    {
      "cell_type": "markdown",
      "source": [
        "# ***Sets***\n",
        "#### Sets may be created with curly brackets, the <font color='green'>set()</font> constructor, and comprehension.\n",
        "\n",
        "\n",
        "*   Direct Method: direct creation with curly braces: {3, 4}\n",
        "*   Constructor Method: <font color='green'>set(x)</font> - Converting an existing iterable to a set.\n",
        "*   Comprehension Method: set(element for element in z) - Using a generator with the constructor.\n",
        "\n",
        "#### Elements of sets are unique and unordered.  Like dictionaries curly brackets are used.  But unlike dictionaries values have no keys.\n",
        "\n",
        "\n",
        "```\n",
        "# Define x, y and z lists\n",
        "x=[1,2]\n",
        "y=[3,4]\n",
        "z=[5,6]\n",
        "\n",
        "\n",
        "# Method 1: Create a set using curly braces with literal values\n",
        "# This is the direct way to create a set with known values\n",
        "# Sets are defined with curly braces {}, similar to dictionaries but without key:value pairs\n",
        "set_y = {3, 4}\n",
        "\n",
        "# Iterate through all elements in set_y and print each element\n",
        "for elements in set_y:\n",
        "    print(elements)\n",
        "\n",
        "# Method 2: Create a set from an existing iterable (list x) using set() constructor\n",
        "# This converts list x into a set, removing any duplicate values\n",
        "# Sets only contain unique elements, so duplicates are automatically eliminated\n",
        "set_x = set(x)\n",
        "\n",
        "# Iterate through all elements in set_x and print each element\n",
        "# Note: Sets are unordered, so elements may not print in the same order as the original list\n",
        "for elements in set_x:\n",
        "    print(elements)\n",
        "\n",
        "# Method 3: Create a set using set() constructor with generator expression\n",
        "# This is similar to Method 1 but uses a generator expression\n",
        "# The generator expression (element for element in z) creates elements on-the-fly\n",
        "# This approach is useful for more complex set creation with conditions or transformations\n",
        "set_z = set(element for element in z)\n",
        "\n",
        "# Iterate through all elements in set_z and print each element\n",
        "# Again, order is not guaranteed since sets are unordered collections\n",
        "for elements in set_z:\n",
        "    print(elements)\n",
        "\n",
        "\n",
        "```"
      ],
      "metadata": {
        "id": "GCrmjiZ4eSzm"
      }
    },
    {
      "cell_type": "code",
      "source": [
        "# Define x, y and z lists\n",
        "x=[1,2]\n",
        "y=[3,4]\n",
        "z=[5,6]\n",
        "\n",
        "# Method 1: Create a set using curly braces with literal values\n",
        "# This is the direct way to create a set with known values\n",
        "# Sets are defined with curly braces {}, similar to dictionaries but without key:value pairs\n",
        "set_x = {1, 2}\n",
        "\n",
        "# Iterate through all elements in set_y and print each element\n",
        "for elements in set_x:\n",
        "    print(elements)\n",
        "\n",
        "# Method 2: Create a set from an existing iterable (list x) using set() constructor\n",
        "# This converts list y into a set, removing any duplicate values\n",
        "# Sets only contain unique elements, so duplicates are automatically eliminated\n",
        "set_y = set(y)\n",
        "\n",
        "# Iterate through all elements in set_x and print each element\n",
        "# Note: Sets are unordered, so elements may not print in the same order as the original list\n",
        "for elements in set_y:\n",
        "    print(elements)\n",
        "\n",
        "# Method 3: Create a set using set() constructor with generator expression\n",
        "# This is similar to Method 1 but uses a generator expression\n",
        "# The generator expression (element for element in z) creates elements on-the-fly\n",
        "# This approach is useful for more complex set creation with conditions or transformations\n",
        "set_z = set(element for element in z)\n",
        "\n",
        "# Iterate through all elements in set_z and print each element\n",
        "# Again, order is not guaranteed since sets are unordered collections\n",
        "for elements in set_z:\n",
        "    print(elements)"
      ],
      "metadata": {
        "colab": {
          "base_uri": "https://localhost:8080/"
        },
        "id": "pBQgpJH1fDau",
        "outputId": "e793c0d7-5ced-4727-bb63-28d76b1a6073"
      },
      "execution_count": null,
      "outputs": [
        {
          "output_type": "stream",
          "name": "stdout",
          "text": [
            "1\n",
            "2\n",
            "3\n",
            "4\n",
            "5\n",
            "6\n"
          ]
        }
      ]
    },
    {
      "cell_type": "markdown",
      "source": [
        "## ***The <font color='green'>union()</font> Method Combines Elements Of Sets Without Duplication***\n",
        "\n",
        "\n",
        "```\n",
        "# Method chaining (your current approach)\n",
        "set_union = set_x.union(set_y).union(set_z)\n",
        "print(set_union)\n",
        "# Multiple unions in one call\n",
        "set_union = set_x.union(set_y, set_z)\n",
        "print(set_union)\n",
        "# Using the | operator\n",
        "set_union = set_x | set_y | set_z\n",
        "print(set_union)\n",
        "# Using set() constructor with multiple iterables\n",
        "set_union = set().union(set_x, set_y, set_z)\n",
        "print(set_union)\n",
        "\n",
        "```"
      ],
      "metadata": {
        "id": "UGHci17vcmZ6"
      }
    },
    {
      "cell_type": "code",
      "source": [
        "# Method chaining (your current approach)\n",
        "set_union = set_x.union(set_y).union(set_z)\n",
        "print(set_union)\n",
        "\n",
        "# Multiple unions in one call\n",
        "set_union = set_x.union(set_y, set_z)\n",
        "print(set_union)\n",
        "\n",
        "# Using the | operator\n",
        "set_union = set_x | set_y | set_z\n",
        "print(set_union)\n",
        "\n",
        "# Using set() constructor with multiple iterables\n",
        "set_union = set().union(set_x, set_y, set_z)\n",
        "print(set_union)"
      ],
      "metadata": {
        "colab": {
          "base_uri": "https://localhost:8080/"
        },
        "id": "WOmksAU-gbD5",
        "outputId": "c66c280e-f380-4471-df24-5422d9a50363"
      },
      "execution_count": null,
      "outputs": [
        {
          "output_type": "stream",
          "name": "stdout",
          "text": [
            "{1, 2, 3, 4, 5, 6}\n",
            "{1, 2, 3, 4, 5, 6}\n",
            "{1, 2, 3, 4, 5, 6}\n",
            "{1, 2, 3, 4, 5, 6}\n"
          ]
        }
      ]
    },
    {
      "cell_type": "code",
      "source": [
        "#Add new elements to union\n",
        "#value 6 is already in set and is ignored to avoid duplication\n",
        "set_union.union({6,7,8})"
      ],
      "metadata": {
        "colab": {
          "base_uri": "https://localhost:8080/"
        },
        "id": "83h1-uB5dK3U",
        "outputId": "9cecb1d7-b665-4b94-cef3-48f70d1aa15a"
      },
      "execution_count": null,
      "outputs": [
        {
          "output_type": "execute_result",
          "data": {
            "text/plain": [
              "{1, 2, 3, 4, 5, 6, 7, 8}"
            ]
          },
          "metadata": {},
          "execution_count": 3
        }
      ]
    },
    {
      "cell_type": "markdown",
      "source": [
        "## ***Set Comprehension***\n",
        "#### Set comprehension is similar to list comprehension but differs due to the uniqueness of the members of a set.  To illustrate the list of lists with the elements of <font color='green'>x, y</font> and a list of <font color='green'>[4,5,6, 7, 8]</font>.\n",
        "\n",
        "\n",
        "```\n",
        "list_numbers=[[1,2],[3,4],[4,5,6,7,8]]\n",
        " x={number for numbers in list_numbers for number in numbers}\n",
        " x\n",
        "```\n",
        "\n",
        "The set comprehension is identical to union of the elements. Notice that 5, 6, 7, 8 are added from the last list but 4 isn't duplicated."
      ],
      "metadata": {
        "id": "N6DdyNTUyUWR"
      }
    },
    {
      "cell_type": "code",
      "source": [
        "list_numbers=[[1,2],[3,4],[4,5,6,7,8]]\n",
        "x={number for numbers in list_numbers for number in numbers}\n",
        "x"
      ],
      "metadata": {
        "colab": {
          "base_uri": "https://localhost:8080/"
        },
        "id": "LtFS3Dwm0-e5",
        "outputId": "2f406f42-93b8-4707-e99f-d7d1ecf403fa"
      },
      "execution_count": null,
      "outputs": [
        {
          "output_type": "execute_result",
          "data": {
            "text/plain": [
              "{1, 2, 3, 4, 5, 6, 7, 8}"
            ]
          },
          "metadata": {},
          "execution_count": 4
        }
      ]
    }
  ]
}