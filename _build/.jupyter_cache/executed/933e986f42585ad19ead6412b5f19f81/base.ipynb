{
 "cells": [
  {
   "cell_type": "code",
   "execution_count": 1,
   "metadata": {
    "colab": {
     "base_uri": "https://localhost:8080/"
    },
    "id": "8NQuHxfftX_J",
    "outputId": "f2de667b-02fc-4c7b-fcaf-4d0599660fd1"
   },
   "outputs": [
    {
     "name": "stdout",
     "output_type": "stream",
     "text": [
      "11\n",
      "Type of eleven is : <class 'int'>\n"
     ]
    }
   ],
   "source": [
    "eleven=11\n",
    "print(eleven)\n",
    "print('Type of eleven is :',type(eleven))"
   ]
  },
  {
   "cell_type": "code",
   "execution_count": 2,
   "metadata": {
    "colab": {
     "base_uri": "https://localhost:8080/"
    },
    "id": "7ivdN4PXu77E",
    "outputId": "c16d4fbd-c9d4-4fb2-a7ff-154f681440df"
   },
   "outputs": [
    {
     "name": "stdout",
     "output_type": "stream",
     "text": [
      "0.5\n",
      "Type of one_half is : <class 'float'>\n"
     ]
    }
   ],
   "source": [
    "one_half=0.5\n",
    "print(one_half)\n",
    "print('Type of one_half is :',type(one_half))"
   ]
  },
  {
   "cell_type": "code",
   "execution_count": 3,
   "metadata": {
    "colab": {
     "base_uri": "https://localhost:8080/"
    },
    "id": "X8KqDlksEhoO",
    "outputId": "a7277344-8a6c-44bf-eb6e-08279f10252d"
   },
   "outputs": [
    {
     "name": "stdout",
     "output_type": "stream",
     "text": [
      "Floor Division Same Sign 1\n",
      "Floor Division Opposite Sign -2\n",
      "Modulus 1\n"
     ]
    }
   ],
   "source": [
    "print('Floor Division Same Sign',3//2)\n",
    "print('Floor Division Opposite Sign',3//-2)\n",
    "#The remainder of 3%2 is 0.5 which rounds up to the integer 1\n",
    "print('Modulus', 3%2)"
   ]
  },
  {
   "cell_type": "code",
   "execution_count": 4,
   "metadata": {
    "colab": {
     "base_uri": "https://localhost:8080/"
    },
    "id": "MgdMHi-EbGch",
    "outputId": "57cfe129-fba4-41e9-9cdb-72406a15b53a"
   },
   "outputs": [
    {
     "name": "stdout",
     "output_type": "stream",
     "text": [
      "Addition 3\n",
      "Multiplication 4\n",
      "Exponent 8\n",
      "Modulus 2\n"
     ]
    }
   ],
   "source": [
    "x=2\n",
    "x+=1\n",
    "print('Addition',x)\n",
    "x=2\n",
    "x*=2\n",
    "print('Multiplication',x)\n",
    "x=2\n",
    "x**=3\n",
    "print('Exponent',x)\n",
    "x=2\n",
    "x%=3\n",
    "print('Modulus',x)"
   ]
  },
  {
   "cell_type": "code",
   "execution_count": 5,
   "metadata": {
    "colab": {
     "base_uri": "https://localhost:8080/"
    },
    "id": "Y2_NJhwGxmop",
    "outputId": "a9db69ef-32e9-469f-e600-4de0162ee36d"
   },
   "outputs": [
    {
     "name": "stdout",
     "output_type": "stream",
     "text": [
      "10 Is > 5:  True\n",
      "10 Is < 5:  False\n",
      "5 Is > or = 5 True\n",
      "10 Is = 5:  False\n",
      "10 Is Not = 5:  True\n",
      "Type of 10 is > 5:  <class 'bool'>\n"
     ]
    }
   ],
   "source": [
    "x=5\n",
    "y=10\n",
    "print('10 Is > 5: ',y>x)\n",
    "print('10 Is < 5: ',y<x)\n",
    "print('5 Is > or = 5',x>=5)\n",
    "print('10 Is = 5: ',x==y)\n",
    "print('10 Is Not = 5: ',x!=y)\n",
    "print('Type of 10 is > 5: ',type(y>5))"
   ]
  },
  {
   "cell_type": "code",
   "execution_count": 6,
   "metadata": {
    "colab": {
     "base_uri": "https://localhost:8080/"
    },
    "id": "GuM40gZS3XN2",
    "outputId": "04ff3671-15fd-4e28-a372-a6a78a9a7304"
   },
   "outputs": [
    {
     "name": "stdout",
     "output_type": "stream",
     "text": [
      "Convert Integer To Floating Point 11.0\n",
      "Convert Boolean True To Floating Point 1.0\n",
      "Convert Floating Point To Integer 11\n",
      "Convert Boolean False To Integer 0\n",
      "Convert Integer 11 To Boolean True\n",
      "Convert Floating Point 0.0 To Boolean False\n"
     ]
    }
   ],
   "source": [
    "print('Convert Integer To Floating Point',float(11))\n",
    "print('Convert Boolean True To Floating Point',float(True))\n",
    "print('Convert Floating Point To Integer',int(11.5))\n",
    "print('Convert Boolean False To Integer',int(False))\n",
    "print('Convert Integer 11 To Boolean',bool(11))\n",
    "print('Convert Floating Point 0.0 To Boolean',bool(0.0))"
   ]
  }
 ],
 "metadata": {
  "colab": {
   "provenance": []
  },
  "kernelspec": {
   "display_name": "Python 3",
   "name": "python3"
  },
  "language_info": {
   "codemirror_mode": {
    "name": "ipython",
    "version": 3
   },
   "file_extension": ".py",
   "mimetype": "text/x-python",
   "name": "python",
   "nbconvert_exporter": "python",
   "pygments_lexer": "ipython3",
   "version": "3.9.7"
  }
 },
 "nbformat": 4,
 "nbformat_minor": 0
}