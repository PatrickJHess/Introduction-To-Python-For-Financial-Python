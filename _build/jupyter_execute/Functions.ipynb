{
 "cells": [
  {
   "cell_type": "markdown",
   "metadata": {
    "id": "mPmhmUOejp-A"
   },
   "source": [
    "# A Quick Look At Functions\n",
    "#### Python offers numerous built-in functions and methods, and users can easily create their own functions to address unique requirements. Functions are defined using the def keyword, followed by the function's name, parentheses, and a colon. Functions limit code duplication and improve the readability of complex code.$^{1}$\n",
    "\n",
    "\n",
    "---\n",
    "##### $^{1}$ Like other control statements, functions can be on a single line.  But the efficacy of such functions is a single line of code. Redundant code is created and clarity is not improved.\n",
    "\n",
    "\n"
   ]
  },
  {
   "cell_type": "markdown",
   "metadata": {
    "id": "KZqBWlOci1oJ"
   },
   "source": [
    "## Examples Of Simple Functions\n",
    "#### It's common but not required that functions return a value to the line of code that called the function.  The first example function <font color='green'>nothing_returned()</font> prints a line of code but returns nothing to the calling code.  Because nothing is returned the boolean value of the results is False.\n",
    "\n",
    "\n",
    "```\n",
    "def nothing_returned():\n",
    " print('Nothing here')\n",
    "```\n",
    "\n",
    "\n",
    "### The second example squares the variable <font color='green'>x</font> defined in the function and returns that value.\n",
    "\n",
    "\n",
    "```\n",
    "def giving_something_back():\n",
    " x=2\n",
    " return x**2\n",
    "```\n",
    "\n"
   ]
  },
  {
   "cell_type": "code",
   "execution_count": 1,
   "metadata": {
    "id": "b95XlrVhj2Q8"
   },
   "outputs": [],
   "source": [
    "def nothing_returned():\n",
    "  # This function prints a message to the console.\n",
    "  # It doesn't use a 'return' statement, so by default, it implicitly returns None.\n",
    "  print('Nothing here')"
   ]
  },
  {
   "cell_type": "code",
   "execution_count": 2,
   "metadata": {
    "colab": {
     "base_uri": "https://localhost:8080/"
    },
    "id": "7P-ZXX2ZkAuK",
    "outputId": "b6310fa6-e842-4b60-a120-9549e9819ead"
   },
   "outputs": [
    {
     "name": "stdout",
     "output_type": "stream",
     "text": [
      "Nothing here\n"
     ]
    },
    {
     "data": {
      "text/plain": [
       "False"
      ]
     },
     "execution_count": 2,
     "metadata": {},
     "output_type": "execute_result"
    }
   ],
   "source": [
    "value=nothing_returned()\n",
    "bool(value)"
   ]
  },
  {
   "cell_type": "code",
   "execution_count": 3,
   "metadata": {
    "id": "7UjasTmBkQ-W"
   },
   "outputs": [],
   "source": [
    "#Let's look at this function and what happens when it's called:\n",
    "def giving_something_back():\n",
    "  # Initialize a local variable 'x' with the value 2.\n",
    "  x = 2\n",
    "  # Calculate the square of 'x' (2 squared, which is 4)\n",
    "  # and return this value.\n",
    "  return x**2"
   ]
  },
  {
   "cell_type": "code",
   "execution_count": 4,
   "metadata": {
    "colab": {
     "base_uri": "https://localhost:8080/"
    },
    "id": "fmRuPZERki49",
    "outputId": "fbd72a24-1efb-4a0c-8043-821bffeb4ac9"
   },
   "outputs": [
    {
     "name": "stdout",
     "output_type": "stream",
     "text": [
      "4\n"
     ]
    }
   ],
   "source": [
    "# When you call this function, it will execute the code inside.\n",
    "# The 'return x**2' statement means the function will output the result of x**2.\n",
    "result = giving_something_back()\n",
    "\n",
    "# Now, the 'result' variable holds the value that was returned by the function.\n",
    "print(result) # This will print 4"
   ]
  },
  {
   "cell_type": "markdown",
   "metadata": {
    "id": "leesbNUdmrCp"
   },
   "source": [
    "## Local Variables\n",
    "#### Local variables exist only within the function where they are defined. Once the function finishes running, these variables are deleted and are no longer accessible.  For example, the variable <font color='green'>x</font> is established inside the function <font color='green'>giving_something_back()</font>. Attempting to execute the command:\n",
    "\n",
    "\n",
    "```\n",
    "print(x)\n",
    "```\n",
    "\n",
    "#### outside of that function will result in an error since <font color='green'>x</font> is not defined outside of the function."
   ]
  },
  {
   "cell_type": "markdown",
   "metadata": {
    "id": "JoQrWl3Epqy-"
   },
   "source": [
    "#### Example Where x Is local To <font color='green'>giving_something_back()</font>"
   ]
  },
  {
   "cell_type": "code",
   "execution_count": 5,
   "metadata": {
    "colab": {
     "base_uri": "https://localhost:8080/",
     "height": 141
    },
    "id": "nqm9TlsWkzho",
    "outputId": "c9022071-d5b6-453c-e331-d6bf0ed17b7c"
   },
   "outputs": [
    {
     "ename": "NameError",
     "evalue": "name 'x' is not defined",
     "output_type": "error",
     "traceback": [
      "\u001b[0;31m---------------------------------------------------------------------------\u001b[0m",
      "\u001b[0;31mNameError\u001b[0m                                 Traceback (most recent call last)",
      "\u001b[0;32m/tmp/ipykernel_16862/1353120783.py\u001b[0m in \u001b[0;36m<module>\u001b[0;34m\u001b[0m\n\u001b[0;32m----> 1\u001b[0;31m \u001b[0mprint\u001b[0m\u001b[0;34m(\u001b[0m\u001b[0mx\u001b[0m\u001b[0;34m)\u001b[0m\u001b[0;34m\u001b[0m\u001b[0;34m\u001b[0m\u001b[0m\n\u001b[0m",
      "\u001b[0;31mNameError\u001b[0m: name 'x' is not defined"
     ]
    }
   ],
   "source": [
    "print(x)"
   ]
  },
  {
   "cell_type": "markdown",
   "metadata": {
    "id": "hVZm9yTvsVNf"
   },
   "source": [
    "## A Variable Local To A Function Does Not Affect A Global Variable\n",
    "#### Global variables are defined outside of a function or defined as global inside a function.  Global variables are available everywhere. If a function defines a variable with the same name as a global variable, the variable is local and independent of the global variable.  A global variable can be modified by a function if declared global inside the function.\n",
    "\n",
    "\n",
    "### The variable <font color='green'>x</font> is assigned a value outside of the function and is now global.  Nevertheless, <font color='green'>giving_something_back()</font> defines a local variable <font color='green'>x</font> that exists only in the function. The code assigns five to the global variable <font color='green'>x</font> and then calls <font color='green'>giving_something_back()</font> that returns the squared value of two that is assigned to <font color='green'>x</font> in the function.\n",
    "\n",
    "```\n",
    "x=5\n",
    "squared_value=giving_something_back()\n",
    "print(squared_value,x)\n",
    "```\n",
    "\n",
    "\n"
   ]
  },
  {
   "cell_type": "code",
   "execution_count": 8,
   "metadata": {
    "colab": {
     "base_uri": "https://localhost:8080/"
    },
    "id": "jZFckKOjk-a5",
    "outputId": "b2d713e4-5a5b-4697-d67e-69d9bcae11f0"
   },
   "outputs": [
    {
     "name": "stdout",
     "output_type": "stream",
     "text": [
      "4 5\n"
     ]
    }
   ],
   "source": [
    "x=5\n",
    "squared_value=giving_something_back()\n",
    "print(squared_value,x)"
   ]
  },
  {
   "cell_type": "markdown",
   "metadata": {
    "id": "o85ifG3CQSSq"
   },
   "source": [
    "## A Global Variable Accessed By A Function\n",
    "#### The function accesses the global variable <font color='green'>x</font> that is assigned five."
   ]
  },
  {
   "cell_type": "code",
   "execution_count": 9,
   "metadata": {
    "id": "9ybiEqpuMBRg"
   },
   "outputs": [],
   "source": [
    "def giving_something_back_global():\n",
    "  return x**2"
   ]
  },
  {
   "cell_type": "code",
   "execution_count": 10,
   "metadata": {
    "colab": {
     "base_uri": "https://localhost:8080/"
    },
    "id": "ZID0RrTZQsbz",
    "outputId": "504aa23b-5a0c-41c6-ef11-bc28359551e2"
   },
   "outputs": [
    {
     "data": {
      "text/plain": [
       "25"
      ]
     },
     "execution_count": 10,
     "metadata": {},
     "output_type": "execute_result"
    }
   ],
   "source": [
    "giving_something_back_global()"
   ]
  },
  {
   "cell_type": "markdown",
   "metadata": {
    "id": "3Zg62Yo_N8tM"
   },
   "source": [
    "## A Global Variable Is Defined Inside A Function\n",
    "#### The function defines the variable <font color='green'>z</font> as <font color='green'>global</font> making it available outside the function."
   ]
  },
  {
   "cell_type": "code",
   "execution_count": 11,
   "metadata": {
    "id": "5P__ajuclX-V"
   },
   "outputs": [],
   "source": [
    "def create_global_variable():\n",
    "  global z\n",
    "  z=4"
   ]
  },
  {
   "cell_type": "code",
   "execution_count": 12,
   "metadata": {
    "colab": {
     "base_uri": "https://localhost:8080/"
    },
    "id": "D9m_o29JliOH",
    "outputId": "52717110-ef47-4066-ea16-f62d29cda1dc"
   },
   "outputs": [
    {
     "data": {
      "text/plain": [
       "4"
      ]
     },
     "execution_count": 12,
     "metadata": {},
     "output_type": "execute_result"
    }
   ],
   "source": [
    "create_global_variable()\n",
    "z"
   ]
  },
  {
   "cell_type": "markdown",
   "metadata": {
    "id": "liWPLHTNOj63"
   },
   "source": [
    "## Assigning A New Value To An Existing Global Variable Inside A Function\n",
    "#### The function defines <font color='green'>x</font> as <font color='green'>global</font> and assigns a new value to existing global variable."
   ]
  },
  {
   "cell_type": "code",
   "execution_count": 13,
   "metadata": {
    "id": "xr0_LnthMrjR"
   },
   "outputs": [],
   "source": [
    "# Initialize a global variable 'x' in the global scope.\n",
    "# This variable can be accessed and potentially modified from anywhere in the program.\n",
    "x = 10\n",
    "\n",
    "def define_existing_global():\n",
    "  # Declare that we intend to work with the 'global' variable 'x',\n",
    "  # rather than creating a new local variable named 'x'.\n",
    "  global x\n",
    "\n",
    "  # Assign a new value (7) to the global variable 'x'.\n",
    "  # This modification will affect 'x' in the global scope.\n",
    "  x = 7"
   ]
  },
  {
   "cell_type": "markdown",
   "metadata": {
    "id": "r99QB2vwOQNr"
   },
   "source": [
    "### Example Of The Global Keyword\n",
    "\n",
    "\n",
    "*   Without global <font color='green'>x</font> inside the function,  a new local variable also named <font color='green'>x</font> is created within that function's scope. The global <font color='green'>x</font> would remain unchanged.\n",
    "*   global <font color='green'>x</font> makes the function point to the global variable and alters the value of the global variable.\n",
    "\n"
   ]
  },
  {
   "cell_type": "code",
   "execution_count": 14,
   "metadata": {
    "colab": {
     "base_uri": "https://localhost:8080/"
    },
    "id": "ZzEY5yAoM3Vd",
    "outputId": "9acb3cf0-b581-487d-c200-973845c8ac53"
   },
   "outputs": [
    {
     "data": {
      "text/plain": [
       "7"
      ]
     },
     "execution_count": 14,
     "metadata": {},
     "output_type": "execute_result"
    }
   ],
   "source": [
    "x = 10\n",
    "define_existing_global()\n",
    "x"
   ]
  },
  {
   "cell_type": "markdown",
   "metadata": {
    "id": "2MYUP1CDPZn7"
   },
   "source": [
    "## Python Functions Are Like Any Other Object.\n",
    "#### In the first example The <font color='green'>create_global_variable</font>() function is modified to return the <font color='green'>give_something_back()</font> function.\n",
    "\n",
    "\n",
    "```\n",
    "def define_existing_global():\n",
    " global x\n",
    " x=7\n",
    " return giving_something_back_global()\n",
    "```\n",
    "\n",
    "#### In the second example, a function is passed as an argument of <font color='green'>function_as_argument()</font>.\n",
    "\n",
    "\n",
    "\n",
    "```\n",
    "def function_as_argument(function):\n",
    "  value=function()\n",
    "  return value\n",
    "```\n",
    "\n"
   ]
  },
  {
   "cell_type": "code",
   "execution_count": 15,
   "metadata": {
    "id": "v2NS7ef4Ryy0"
   },
   "outputs": [],
   "source": [
    "def define_existing_global():\n",
    "  # Declare that we intend to modify the global variable 'x'.\n",
    "  # Without 'global x', assigning to 'x' here would create a new local variable.\n",
    "  global x\n",
    "\n",
    "  # Update the value of the global variable 'x' to 7.\n",
    "  # This change will be visible throughout the entire program.\n",
    "  x = 7\n",
    "\n",
    "  # Call another function that depends on the global 'x'.\n",
    "  # Since 'x' was just changed to 7, this will now return 7 * 7 = 49.\n",
    "  return giving_something_back_global()"
   ]
  },
  {
   "cell_type": "code",
   "execution_count": 16,
   "metadata": {
    "colab": {
     "base_uri": "https://localhost:8080/"
    },
    "id": "9sURbcwlSLGo",
    "outputId": "6a958501-94ff-4a0d-eba9-56f95bcb17a2"
   },
   "outputs": [
    {
     "name": "stdout",
     "output_type": "stream",
     "text": [
      "49 7\n"
     ]
    }
   ],
   "source": [
    "print(define_existing_global(),x)"
   ]
  },
  {
   "cell_type": "code",
   "execution_count": 17,
   "metadata": {
    "id": "AL0c8zp4S7yH"
   },
   "outputs": [],
   "source": [
    "def function_as_argument(function):\n",
    "\n",
    "  # Call the function that was passed as an argument.\n",
    "  # The parentheses '()' are crucial here, as they execute the 'function'.\n",
    "  # The result of this execution is stored in 'value'.\n",
    "  value = function()\n",
    "\n",
    "  # Return the value obtained from executing the passed-in function.\n",
    "  return value"
   ]
  },
  {
   "cell_type": "code",
   "execution_count": null,
   "metadata": {
    "id": "Rl7zNEblTZxT"
   },
   "outputs": [],
   "source": [
    "x=10\n",
    "function_as_argument(giving_something_back_global)"
   ]
  },
  {
   "cell_type": "markdown",
   "metadata": {
    "id": "nJFJr12wTtUM"
   },
   "source": [
    "## Parameters And Arguments\n",
    "#### A function's parameters are the variables it accepts; its arguments, the specific values assigned to those variables. In the initial example, <font color='green'>x</font> is the parameter\n",
    "\n",
    "\n",
    "\n",
    "```\n",
    "def square_value(x):\n",
    "  returns x**2\n",
    "```\n",
    "\n",
    "\n",
    "\n",
    "#### and two is the argument used when the function is called.\n",
    "\n",
    "\n",
    "\n",
    "```\n",
    "square_value(2)\n",
    "```\n",
    "\n"
   ]
  },
  {
   "cell_type": "code",
   "execution_count": 18,
   "metadata": {
    "id": "LJFKp67elP4G"
   },
   "outputs": [],
   "source": [
    "def square_value(x):\n",
    "  return x**2"
   ]
  },
  {
   "cell_type": "code",
   "execution_count": null,
   "metadata": {
    "id": "wlFv90wFUt9Y"
   },
   "outputs": [],
   "source": [
    "square_value(2)"
   ]
  },
  {
   "cell_type": "markdown",
   "metadata": {
    "id": "-KGZfNXJesP_"
   },
   "source": [
    "## Positional And Keyword Arguments\n",
    "#### Arguments can be either positional or keyword. Positional arguments must be assigned in the order of the parameters. The <font color='green'>square_value_div()</font> function has parameters x and y. Both parameters are assigned positional arguments.\n",
    "\n",
    "\n",
    "```\n",
    "def square_value_div(x,y):\n",
    "  returns x**2/y\n",
    "```\n",
    "\n",
    "#### Assigning <font color='green'>x</font>=2 and <font color='green'>y</font>=4 is written as:\n",
    "\n",
    "```\n",
    "square_value_div(2,4)\n",
    "```\n",
    "#### and returns a value of (2**2)/4 = 1.0\n",
    "\n",
    "#### Keyword arguments are assigned when the function is called and are defined by the parameter's name. Keyword arguments are useful when default values are assigned or when the function's parameters are complex.  If both keyword and positional arguments are used, positional arguments must come first and in the right order.\n",
    "\n",
    "```\n",
    "square_value_div(2,y=4)\n",
    "```\n",
    "\n",
    "#### There is no need to order keyword arguments.\n",
    "\n",
    "```\n",
    "square_value_div(y=4,x=2)\n",
    "```\n"
   ]
  },
  {
   "cell_type": "code",
   "execution_count": 19,
   "metadata": {
    "id": "87RdzVTCUCdC"
   },
   "outputs": [],
   "source": [
    "def square_value_div(x,y):\n",
    "  return x**2/y"
   ]
  },
  {
   "cell_type": "markdown",
   "metadata": {
    "id": "Ks0tfTlHg-dn"
   },
   "source": [
    "### Two Positional Arguments Assigned In The order Of Parameters"
   ]
  },
  {
   "cell_type": "code",
   "execution_count": 20,
   "metadata": {
    "colab": {
     "base_uri": "https://localhost:8080/"
    },
    "id": "Ur_na4QJU6t3",
    "outputId": "32e3c379-ac53-4f91-8dfd-3b4751062a3a"
   },
   "outputs": [
    {
     "data": {
      "text/plain": [
       "1.0"
      ]
     },
     "execution_count": 20,
     "metadata": {},
     "output_type": "execute_result"
    }
   ],
   "source": [
    "square_value_div(2,4)"
   ]
  },
  {
   "cell_type": "markdown",
   "metadata": {
    "id": "ANs-MJa1hVj0"
   },
   "source": [
    "### One Positional And One Keyword: Positional Argument First"
   ]
  },
  {
   "cell_type": "code",
   "execution_count": 21,
   "metadata": {
    "colab": {
     "base_uri": "https://localhost:8080/"
    },
    "id": "Nq4ieoMJaOii",
    "outputId": "c4b1469f-f074-4e40-c730-c2f6b1dc38fd"
   },
   "outputs": [
    {
     "data": {
      "text/plain": [
       "1.0"
      ]
     },
     "execution_count": 21,
     "metadata": {},
     "output_type": "execute_result"
    }
   ],
   "source": [
    "square_value_div(2,y=4)"
   ]
  },
  {
   "cell_type": "markdown",
   "metadata": {
    "id": "9vtV4a-Fh50E"
   },
   "source": [
    "### Two Keyword Arguments: Position Irrelevant"
   ]
  },
  {
   "cell_type": "code",
   "execution_count": 22,
   "metadata": {
    "colab": {
     "base_uri": "https://localhost:8080/"
    },
    "id": "uMOYydBoVFXH",
    "outputId": "00b5694e-37d7-457f-ce91-c86a7df729e6"
   },
   "outputs": [
    {
     "data": {
      "text/plain": [
       "1.0"
      ]
     },
     "execution_count": 22,
     "metadata": {},
     "output_type": "execute_result"
    }
   ],
   "source": [
    "square_value_div(y=4,x=2)"
   ]
  },
  {
   "cell_type": "markdown",
   "metadata": {
    "id": "PZukb9vwj5LL"
   },
   "source": [
    "## Default Arguments\n",
    "#### When a function is created, default arguments may be assigned to its parameters. Any parameters with default arguments must appear after those without. For instance, in <font color='green'>square_value_div()</font>, the default arguments for <font color='green'>x</font> and <font color='green'>y</font> are zero and one, respectively.\n",
    "\n",
    "\n",
    "```\n",
    "def square_value_div(x=0,y=1):\n",
    "  return x**2/y\n",
    "```\n",
    "\n",
    "#### Default values can often make the function's purpose clearer by showing common usage patterns.  Defaults make parameters optional.\n",
    "#### If an argument is not provided for <font color='green'>x</font> or <font color='green'>y</font>, default values are used. Arguments can be passed either by position or by keyword; however, positional arguments must follow the order defined in the function signature."
   ]
  },
  {
   "cell_type": "code",
   "execution_count": 23,
   "metadata": {
    "id": "77R7KRpWll9q"
   },
   "outputs": [],
   "source": [
    "def square_value_div(x=0,y=1):\n",
    "  return x**2/y"
   ]
  },
  {
   "cell_type": "markdown",
   "metadata": {
    "id": "PyPqKRjIsuIa"
   },
   "source": [
    "### No Arguments Provided"
   ]
  },
  {
   "cell_type": "code",
   "execution_count": 24,
   "metadata": {
    "colab": {
     "base_uri": "https://localhost:8080/"
    },
    "id": "zMWFVLfQVPPY",
    "outputId": "4405d8d4-a445-4c68-d1b9-8612e27b94e4"
   },
   "outputs": [
    {
     "data": {
      "text/plain": [
       "0.0"
      ]
     },
     "execution_count": 24,
     "metadata": {},
     "output_type": "execute_result"
    }
   ],
   "source": [
    "square_value_div()"
   ]
  },
  {
   "cell_type": "markdown",
   "metadata": {
    "id": "cL0Rdr6_0uLm"
   },
   "source": [
    "### Positional And Keyword Arguments"
   ]
  },
  {
   "cell_type": "code",
   "execution_count": 25,
   "metadata": {
    "colab": {
     "base_uri": "https://localhost:8080/"
    },
    "id": "a1m9D_KM0uLn",
    "outputId": "b0994eb8-2795-4ae0-d503-1843446a26f0"
   },
   "outputs": [
    {
     "data": {
      "text/plain": [
       "1.0"
      ]
     },
     "execution_count": 25,
     "metadata": {},
     "output_type": "execute_result"
    }
   ],
   "source": [
    "square_value_div(2,y=4)"
   ]
  },
  {
   "cell_type": "markdown",
   "metadata": {
    "id": "mOdlEckls4Mf"
   },
   "source": [
    "## Type Hints And Docstrings\n",
    "#### Type hints specify the expected types of arguments and returned values. <font color='green'>Docstrings</font> provide brief documentation to clarify a function's rules and purpose. Type hints are added to <font color='green'>square_value_div()</font> with default arguments. The type of data returned follows the dash and greater than sign. The type of data is shown after colon following the parameter name.  The Union type is imported from typing indicating that provided values should be integers or floating points.$^{2}$.  Because the function returns a string if the argument of <font color='green'>y</font> is zero, the return types are float or str.\n",
    "\n",
    "\n",
    "\n",
    "```\n",
    "from typing import Union # Import Union for specifying multiple possible types\n",
    "\n",
    "def square_value_div(x: Union[int, float] = 0, y: Union[int, float] = 1) -> Union[float, str]: float:\n",
    "  if y==0: return 'Can\\'t divide by zero'\n",
    "  return x**2/y\n",
    "```\n",
    "\n",
    "#### The docstring is indented and is a multiline comment string.\n",
    "\n",
    "\n",
    "\n",
    "```\n",
    "def square_value_div(x: Union[int, float] = 0, y: Union[int, float] = 1) -> Union[float, str]:\n",
    "  '''\n",
    "  Squares the first numerical argument (x) and then divides the result by the second numerical argument (y).\n",
    "\n",
    "  This function performs the mathematical operation: result = (x * x) / y.\n",
    "  It includes robust handling for division by zero, returning a descriptive error message\n",
    "  instead of raising a runtime error in that specific case.\n",
    "\n",
    "  Args:\n",
    "    x (Union[int, float], optional): The base number to be squared.\n",
    "                                     Can be an integer or a floating-point number.\n",
    "                                     Defaults to 0.\n",
    "    y (Union[int, float], optional): The divisor. This number will divide the squared value of x.\n",
    "                                     Can be an integer or a floating-point number.\n",
    "                                     Defaults to 1.\n",
    "\n",
    "  Returns:\n",
    "    Union[float, str]:\n",
    "      - A `float` representing the calculated result of (x squared / y),\n",
    "        if the divisor `y` is not equal to zero.\n",
    "      - The `str` 'Can\\'t divide by zero' if the divisor `y` is 0,\n",
    "        to explicitly communicate the invalid operation.\n",
    "  '''\n",
    "  # Check if the divisor 'y' is zero.\n",
    "  # If it is, return a specific string message to indicate that division by zero is not allowed.\n",
    "  if y == 0:\n",
    "    return 'Can\\'t divide by zero'\n",
    "  \n",
    "  # If 'y' is not zero, perform the calculation.\n",
    "  # Python's division operator (/) automatically promotes integers to floats\n",
    "  # if necessary to ensure floating-point division.\n",
    "  return x**2 / y\n",
    "\n",
    "help(square_value_div)\n",
    "\n",
    "```\n",
    "\n",
    "---\n",
    "\n",
    "##### $^{2}$ The function returns a value complex number as well."
   ]
  },
  {
   "cell_type": "code",
   "execution_count": 26,
   "metadata": {
    "id": "RvheaQyGlUj6"
   },
   "outputs": [],
   "source": [
    "from typing import Union # Ensure Union is imported from the typing module\n",
    "\n",
    "def square_value_div(x: Union[int, float] = 0, y: Union[int, float] = 1) -> Union[float, str]:\n",
    "  '''\n",
    "  Squares the first numerical argument (x) and then divides the result by the second numerical argument (y).\n",
    "\n",
    "  This function performs the mathematical operation: result = (x * x) / y.\n",
    "  It includes robust handling for division by zero, returning a descriptive error message\n",
    "  instead of raising a runtime error in that specific case.\n",
    "\n",
    "  Args:\n",
    "    x (Union[int, float], optional): The base number to be squared.\n",
    "                                     Can be an integer or a floating-point number.\n",
    "                                     Defaults to 0.\n",
    "    y (Union[int, float], optional): The divisor. This number will divide the squared value of x.\n",
    "                                     Can be an integer or a floating-point number.\n",
    "                                     Defaults to 1.\n",
    "\n",
    "  Returns:\n",
    "    Union[float, str]:\n",
    "      - A `float` representing the calculated result of (x squared / y),\n",
    "        if the divisor `y` is not equal to zero.\n",
    "      - The `str` 'Can\\'t divide by zero' if the divisor `y` is 0,\n",
    "        to explicitly communicate the invalid operation.\n",
    "  '''\n",
    "  # Check if the divisor 'y' is zero.\n",
    "  # If it is, return a specific string message to indicate that division by zero is not allowed.\n",
    "  if y == 0:\n",
    "    return 'Can\\'t divide by zero'\n",
    "\n",
    "  # If 'y' is not zero, perform the calculation.\n",
    "  # Python's division operator (/) automatically promotes integers to floats\n",
    "  # if necessary to ensure floating-point division.\n",
    "  return x**2 / y"
   ]
  },
  {
   "cell_type": "code",
   "execution_count": 27,
   "metadata": {
    "colab": {
     "base_uri": "https://localhost:8080/"
    },
    "id": "0VmjwMlo0BHL",
    "outputId": "c68ba7a4-7268-470a-c16d-5084eacd9197"
   },
   "outputs": [
    {
     "name": "stdout",
     "output_type": "stream",
     "text": [
      "Help on function square_value_div in module __main__:\n",
      "\n",
      "square_value_div(x: Union[int, float] = 0, y: Union[int, float] = 1) -> Union[float, str]\n",
      "    Squares the first numerical argument (x) and then divides the result by the second numerical argument (y).\n",
      "\n",
      "    This function performs the mathematical operation: result = (x * x) / y.\n",
      "    It includes robust handling for division by zero, returning a descriptive error message\n",
      "    instead of raising a runtime error in that specific case.\n",
      "\n",
      "    Args:\n",
      "      x (Union[int, float], optional): The base number to be squared.\n",
      "                                       Can be an integer or a floating-point number.\n",
      "                                       Defaults to 0.\n",
      "      y (Union[int, float], optional): The divisor. This number will divide the squared value of x.\n",
      "                                       Can be an integer or a floating-point number.\n",
      "                                       Defaults to 1.\n",
      "\n",
      "    Returns:\n",
      "      Union[float, str]:\n",
      "        - A `float` representing the calculated result of (x squared / y),\n",
      "          if the divisor `y` is not equal to zero.\n",
      "        - The `str` 'Can't divide by zero' if the divisor `y` is 0,\n",
      "          to explicitly communicate the invalid operation.\n",
      "\n"
     ]
    }
   ],
   "source": [
    "help(square_value_div)"
   ]
  },
  {
   "cell_type": "code",
   "execution_count": 28,
   "metadata": {
    "colab": {
     "base_uri": "https://localhost:8080/"
    },
    "id": "0AwSAwjZlxNn",
    "outputId": "c7e3a5ba-4586-4bf8-88b3-49c73ce18e0f"
   },
   "outputs": [
    {
     "data": {
      "text/plain": [
       "1.0"
      ]
     },
     "execution_count": 28,
     "metadata": {},
     "output_type": "execute_result"
    }
   ],
   "source": [
    "square_value_div(2,y=4)"
   ]
  },
  {
   "cell_type": "markdown",
   "metadata": {
    "id": "DcOZmoZ8KNyz"
   },
   "source": [
    "## lambda: Anonymous Functions Often Used In Pandas\n",
    "#### A <font color='green'>lambda</font> can have numerous arguments, but only a single result. Unlike a typical function, <font color='green'>lambda</font> is not named and controls a single statement. The <font color='green'>square_value_div()</font> function can be expressed as a <font color='green'>lambda</font> function.\n",
    "\n",
    "\n",
    "```\n",
    "square=lambda x,y: x**2/y\n",
    "```\n",
    "\n"
   ]
  },
  {
   "cell_type": "code",
   "execution_count": 29,
   "metadata": {
    "colab": {
     "base_uri": "https://localhost:8080/"
    },
    "id": "0JX9e-WCKu9p",
    "outputId": "86e1019f-9e8b-4dda-a2f4-db616f015f1f"
   },
   "outputs": [
    {
     "data": {
      "text/plain": [
       "2.0"
      ]
     },
     "execution_count": 29,
     "metadata": {},
     "output_type": "execute_result"
    }
   ],
   "source": [
    "square=lambda x,y: x**2/y\n",
    "square(2,2)"
   ]
  }
 ],
 "metadata": {
  "colab": {
   "provenance": []
  },
  "kernelspec": {
   "display_name": "Python 3",
   "name": "python3"
  },
  "language_info": {
   "codemirror_mode": {
    "name": "ipython",
    "version": 3
   },
   "file_extension": ".py",
   "mimetype": "text/x-python",
   "name": "python",
   "nbconvert_exporter": "python",
   "pygments_lexer": "ipython3",
   "version": "3.9.7"
  }
 },
 "nbformat": 4,
 "nbformat_minor": 0
}