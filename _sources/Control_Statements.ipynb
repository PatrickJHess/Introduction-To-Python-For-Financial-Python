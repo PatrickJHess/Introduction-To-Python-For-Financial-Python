{
  "nbformat": 4,
  "nbformat_minor": 0,
  "metadata": {
    "colab": {
      "provenance": []
    },
    "kernelspec": {
      "name": "python3",
      "display_name": "Python 3"
    },
    "language_info": {
      "name": "python"
    }
  },
  "cells": [
    {
      "cell_type": "markdown",
      "source": [
        "# Control Statements\n",
        "#### Python provides various control statements to manage program flow.\n",
        "#### These include:\n",
        "\n",
        "\n",
        "*   Looping Statements\n",
        "*   Statements That Interrupt Loops\n",
        "*   Conditional statements\n",
        "*   Exception handling for errors\n",
        "*   Functions\n",
        "\n",
        "#### Generally, these statements conclude with a colon. The statement being controlled can be on the same line; however, separate lines and proper indentation are required to control multiple statements. This notebook demonstrates each of these control statements except for functions. For help with functions review the Chapter *A Quick Look At Functions*.\n",
        "\n",
        "#### To start, we assign the string \"Finance\" to the variable <font color='green'>finance</font>:\n",
        "\n",
        "\n",
        "```\n",
        "finance='Finance'\n",
        "```\n",
        "#### For help with strings review the Chapter *A Quick Look At Strings*.\n"
      ],
      "metadata": {
        "id": "3KXTCiefxGlu"
      }
    },
    {
      "cell_type": "code",
      "source": [
        "finance='Finance'"
      ],
      "metadata": {
        "id": "dMaHLSdwKGHe"
      },
      "execution_count": 1,
      "outputs": []
    },
    {
      "cell_type": "markdown",
      "source": [
        "## Looping Statements\n",
        "\n",
        "\n",
        "\n",
        "#### The first example demonstrates a <font color='green'>for</font> loop, iterating through each character of the string\n",
        "\n",
        "\n",
        "```\n",
        "characters=''\n",
        "for char in finance:\n",
        "  characters+=char\n",
        "print(characters)\n",
        "```\n",
        "\n",
        "#### The second example interrupts the iteration with a <font color='green'>while</font> statement. This loop continues as long as the Boolean value of the <font color='green'>while</font> condition remains True.\n",
        "\n",
        "\n",
        "```\n",
        "index=0\n",
        "characters=''\n",
        "while len(characters)<3:\n",
        "  characters+=finance[index]\n",
        "  index+=1\n",
        "print(characters)\n",
        "```\n",
        "\n",
        "\n",
        "#### The third example interrupts the iteration with the <font color='green'>continue</font> statement. This statement transfers control back to the beginning of the <font color='green'>for</font> loop skipping the remaining statements within the loop's current iteration.\n",
        "\n",
        "\n",
        "```\n",
        "characters=''\n",
        "for char in finance:\n",
        "  if char=='n':continue\n",
        "  characters+=char\n",
        "print(characters)\n",
        "```\n",
        "\n",
        "\n",
        "#### The fourth example utilizes the <font color='green'>break</font> statement to interrupt the iteration. This achieves an effect similar to the <font color='green'>while</font> loop condition, terminating the loop when the condition is met. Instead of defining a counter, the Python function <font color='green'>enumerate()</font> is used to create an iterable that includes two elements: the number of iterations (index location of each character) and the character.  The <font color='green'>enumerate()</font> function was demonstrated in the Chapter *A Quick Look At Strings*.\n",
        "\n",
        "\n",
        "```\n",
        "characters=''\n",
        "for index,char in enumerate(finance):\n",
        "  if index==3:break\n",
        "  characters+=char\n",
        "print(characters)\n",
        "```\n",
        "#### The same exercises could be performed with any iterable.  The first example is repeated with the list created from the string <font color='green'>split()</font> method.\n",
        "\n",
        "```\n",
        "characters=''\n",
        "split_finance=finance.split()\n",
        "for char in split_finance:\n",
        "  characters+=char\n",
        "print(characters)\n",
        "```\n",
        "\n",
        "#### For help with the string method <font color='green'>split()</font> take a look at the explanation in the Chapter *A Quick Look At Strings*.\n",
        "\n"
      ],
      "metadata": {
        "id": "w8_kfWAd6s-3"
      }
    },
    {
      "cell_type": "markdown",
      "source": [
        "### A Simple <font color='green'>for</font> Loop"
      ],
      "metadata": {
        "id": "Su_5MNN4LGSQ"
      }
    },
    {
      "cell_type": "code",
      "source": [
        "# Initialize an empty string variable named 'characters'.\n",
        "# This variable will be used to build a new string.\n",
        "characters = ''\n",
        "\n",
        "# Iterate over each character in the 'finance' variable.\n",
        "# It's assumed that 'finance' is an iterable, such as a string, list, or tuple.\n",
        "# For each iteration, 'char' will hold the current character.\n",
        "for char in finance:\n",
        "  # Concatenate the current 'char' to the 'characters' string with += operator\n",
        "  # This effectively appends each character from 'finance' one by one\n",
        "  # to build the 'characters' string.\n",
        "  characters += char\n",
        "\n",
        "# After the loop finishes (i.e., all characters from 'finance' have been processed),\n",
        "# print the final 'characters' string to the console.\n",
        "# This will display the complete sequence of characters that were in 'finance'.\n",
        "print(characters)"
      ],
      "metadata": {
        "colab": {
          "base_uri": "https://localhost:8080/"
        },
        "id": "zdH1RHRyH9u7",
        "outputId": "827930f6-5772-4d1f-ce00-01e0501c602c"
      },
      "execution_count": 2,
      "outputs": [
        {
          "output_type": "stream",
          "name": "stdout",
          "text": [
            "Finance\n"
          ]
        }
      ]
    },
    {
      "cell_type": "markdown",
      "source": [
        "### Using <font color='green'>while</font> To Interrupt Iteration"
      ],
      "metadata": {
        "id": "5xTgz4X4LMAl"
      }
    },
    {
      "cell_type": "code",
      "execution_count": 3,
      "metadata": {
        "colab": {
          "base_uri": "https://localhost:8080/"
        },
        "id": "a5BjEB5kwxQK",
        "outputId": "599d1b52-11f4-49c3-e6e0-a93d3848fa60"
      },
      "outputs": [
        {
          "output_type": "stream",
          "name": "stdout",
          "text": [
            "Fin\n"
          ]
        }
      ],
      "source": [
        "# Initialize an integer variable 'index' to 0.\n",
        "# This variable will serve as a counter or pointer,\n",
        "# indicating the current position when accessing characters from 'finance'.\n",
        "index = 0\n",
        "\n",
        "# Determine the 'limit' for how many characters to extract.\n",
        "# If 'finance' has 3 or more characters, set the limit to 3.\n",
        "if len(finance) >= 3:\n",
        "    limit = 3\n",
        "# Otherwise (if 'finance' has fewer than 3 characters),\n",
        "# set the limit to the actual length of 'finance'.\n",
        "# This prevents trying to access characters beyond the string's bounds.\n",
        "else:\n",
        "    limit = len(finance)\n",
        "\n",
        "# Initialize an empty string variable named 'characters'.\n",
        "# This string will be built up by appending characters from 'finance'.\n",
        "characters = ''\n",
        "\n",
        "# Start a 'while' loop.\n",
        "# The loop will continue as long as the number of characters collected\n",
        "# in the 'characters' string is less than the calculated 'limit'.\n",
        "# This ensures that we only extract up to 'limit' characters.\n",
        "while len(characters) < limit:\n",
        "  # Append the character at the current 'index' from the 'finance' variable\n",
        "  # to the 'characters' string.\n",
        "  # Example: If finance=\"abc\" and index=0, characters becomes \"a\".\n",
        "  characters += finance[index]\n",
        "\n",
        "  # Increment the 'index' by 1.\n",
        "  # This moves the pointer to the next character in 'finance' for the\n",
        "  # subsequent iteration of the loop.\n",
        "  index += 1\n",
        "\n",
        "# After the loop has completed (i.e., 'limit' number of characters have been\n",
        "# extracted and appended to 'characters'), print the final 'characters' string.\n",
        "print(characters)"
      ]
    },
    {
      "cell_type": "markdown",
      "source": [
        "### Using The <font color='green'>continue</font> Statement To Control A <font color='green'>for</font> Loop"
      ],
      "metadata": {
        "id": "-df0vNYjLWn_"
      }
    },
    {
      "cell_type": "code",
      "source": [
        "# Initialize an empty string variable named 'characters'.\n",
        "# This string will be used to store characters from 'finance'\n",
        "# after some filtering.\n",
        "characters = ''\n",
        "\n",
        "# Iterate over each character present in the 'finance' variable.\n",
        "# It's assumed that 'finance' is an iterable, such as a string or a list of characters.\n",
        "# In each iteration, the current character is assigned to the variable 'char'.\n",
        "for char in finance:\n",
        "  # Check if the current character 'char' is equal to the lowercase letter 'n'.\n",
        "  if char == 'n':\n",
        "    # If 'char' is 'n', the 'continue' statement is executed.\n",
        "    # 'continue' immediately skips the rest of the current loop iteration\n",
        "    # and proceeds to the next iteration of the 'for' loop.\n",
        "    # This effectively causes any 'n' characters to be skipped and not appended.\n",
        "    continue\n",
        "\n",
        "  # If the 'char' is NOT 'n' (i.e., the 'continue' statement was not executed),\n",
        "  # append the current 'char' to the 'characters' string.\n",
        "  # This builds up the new string, excluding any 'n's.\n",
        "  characters += char\n",
        "\n",
        "# After the loop has completed, print the final 'characters' string to the console.\n",
        "# This string will contain all characters from 'finance' except for the letter 'n'.\n",
        "print(characters)"
      ],
      "metadata": {
        "colab": {
          "base_uri": "https://localhost:8080/"
        },
        "id": "Gy9HaQ88BKjH",
        "outputId": "253dd610-c8cc-4870-d45d-defbb6f06778"
      },
      "execution_count": 4,
      "outputs": [
        {
          "output_type": "stream",
          "name": "stdout",
          "text": [
            "Fiace\n"
          ]
        }
      ]
    },
    {
      "cell_type": "markdown",
      "source": [
        "### Using Break To Interrupt A For Loop"
      ],
      "metadata": {
        "id": "o50frOrMLkNX"
      }
    },
    {
      "cell_type": "code",
      "source": [
        "# Initialize an empty string variable named 'characters'.\n",
        "# This string will be built up by appending selected characters from 'finance'.\n",
        "characters = ''\n",
        "\n",
        "# Iterate over the 'finance' sequence (e.g., a string or list).\n",
        "# The 'enumerate' function provides both the 'index' (position) and the 'char' (character)\n",
        "# for each item in 'finance' during the loop.\n",
        "for index, char in enumerate(finance):\n",
        "  # Check if the current 'index' has reached the predefined 'limit'.\n",
        "  # IMPORTANT: The 'limit' variable must be defined and have an integer value\n",
        "  # before this loop is executed. It dictates how many characters to extract.\n",
        "  if index == limit:\n",
        "    # If the 'index' reaches the 'limit', the 'break' statement is executed.\n",
        "    # 'break' immediately terminates the loop entirely,\n",
        "    # regardless of whether there are more characters in 'finance'.\n",
        "    break\n",
        "\n",
        "  # If the 'index' has not yet reached the 'limit' (i.e., 'break' was not executed),\n",
        "  # append the current 'char' to the 'characters' string.\n",
        "  # This gradually builds the string with characters up to the 'limit'.\n",
        "  characters += char\n",
        "\n",
        "# After the loop has completed (either by reaching 'limit' or exhausting 'finance'),\n",
        "# print the final 'characters' string to the console.\n",
        "# This string will contain the characters from 'finance' up to the 'limit' specified.\n",
        "print(characters)"
      ],
      "metadata": {
        "colab": {
          "base_uri": "https://localhost:8080/"
        },
        "id": "twgtP16wFmoW",
        "outputId": "89b0af65-e1dd-4993-c1d4-d2b7ffc04cd0"
      },
      "execution_count": 5,
      "outputs": [
        {
          "output_type": "stream",
          "name": "stdout",
          "text": [
            "Fin\n"
          ]
        }
      ]
    },
    {
      "cell_type": "markdown",
      "source": [
        "### Looping Through A List Created By The String Method <font color='green'>split()</font>"
      ],
      "metadata": {
        "id": "kOrexPsxLx3I"
      }
    },
    {
      "cell_type": "code",
      "source": [
        "# Initialize an empty string variable named 'characters'.\n",
        "# This string will be used to accumulate parts of the 'finance' variable,\n",
        "# specifically after it has been split.\n",
        "characters = ''\n",
        "\n",
        "# Split the 'finance' string into a list of substrings (words).\n",
        "# The `.split()` method, when called without any arguments, splits the string\n",
        "# by any whitespace (spaces, tabs, newlines) and removes empty strings\n",
        "# from the result. For example, \"hello world\" becomes [\"hello\", \"world\"].\n",
        "# The resulting list of words is stored in 'split_finance'.\n",
        "split_finance = finance.split()\n",
        "\n",
        "# Iterate over each item (which will be a word/substring) in the 'split_finance' list.\n",
        "# In each iteration, 'char' (though it represents a word here) will hold\n",
        "# the current word from the list.\n",
        "for char in split_finance:\n",
        "  # Append the current 'char' (word) to the 'characters' string.\n",
        "  # Since 'char' is a word and not a single character, this concatenates\n",
        "  # all the words together without any spaces in between them.\n",
        "  characters += char\n",
        "\n",
        "# After the loop has completed, print the final 'characters' string to the console.\n",
        "# This string will contain all the original words from 'finance' joined together\n",
        "# without any intervening spaces or other whitespace.\n",
        "print(characters)"
      ],
      "metadata": {
        "colab": {
          "base_uri": "https://localhost:8080/"
        },
        "id": "bPLlIDJgJkP7",
        "outputId": "cbb753bc-1612-4626-b6a8-eb377445af42"
      },
      "execution_count": 6,
      "outputs": [
        {
          "output_type": "stream",
          "name": "stdout",
          "text": [
            "Finance\n"
          ]
        }
      ]
    },
    {
      "cell_type": "markdown",
      "source": [
        "## Conditional Statements\n",
        "#### The conditional statements in Python are <font color='green'>if, elif</font>, and <font color='green'>else</font>.  In the case of <font color='green'>if</font> and <font color='green'>elif</font> the controlled statements are executed when the condition is true.   The controlled statements of <font color='green'>else</font> are executed when the proceeding <font color='green'>if</font> or <font color='green'>elif</font> statements are false.\n",
        "#### The first example tests the boolean value of <font color='green'>finance</font> when the conditional and controlled statements are on one and two lines.  \n",
        "\n",
        "\n",
        "```\n",
        "if bool(finance):\n",
        "  print(finance)\n",
        "if bool(finance): print(finance)\n",
        "\n",
        "```\n",
        "#### The second example does the same with the variable <font color='green'>empty</font> that is assigned an empty string.  \n",
        "\n",
        "\n",
        "```\n",
        "empty = ''\n",
        "if bool(empty):\n",
        "  print(empty)\n",
        "if bool(empty): print(empty)\n",
        "\n",
        "```\n",
        "\n",
        "#### The third, fourth, and fifth examples demonstrate the <font color='green'>if, elif</font>, and <font color='green'>else</font> statements.  These examples use the <font color='green'>in</font> operator to determine if a letter is in the string assigned to <font color='green'>finance</font> (a member of the object).\n",
        "#### Recall that 'finance' is defined as the string 'Finance'\n",
        "\n",
        "```\n",
        "char = 'i'\n",
        "if char.capitalize() in finance:\n",
        "  print(char + ' present') # This will print \"i present\"\n",
        "elif char in finance:\n",
        "else:.\n",
        "  print(char + ' or ' + char.capitalize() + ' not present')\n",
        "```\n",
        "\n",
        "\n",
        "```\n",
        "char = 'f'\n",
        "\n",
        "if char in finance:\n",
        "  print(char + ' present') # This will print \"f present\"\n",
        "elif char.capitalize() in finance:\n",
        "  print(char.capitalize() + ' present') # This will print \"F present\"\n",
        "else:\n",
        "  print(char + ' or ' + char.capitalize() + ' not present')\n",
        "\n",
        "```\n",
        "\n",
        "\n",
        "```\n",
        "char = 'g'\n",
        "if char in finance:\n",
        "  print(char + ' present')\n",
        "elif char.capitalize() in finance:\n",
        "  print(char.capitalize() + ' present')\n",
        "else:\n",
        "  print(char + ' or ' + char.capitalize() + ' not present')\n",
        "\n",
        "```\n"
      ],
      "metadata": {
        "id": "XSdbH1UdIzkf"
      }
    },
    {
      "cell_type": "markdown",
      "source": [
        "### Control & Controlled Statements On Single Or Multiple Lines"
      ],
      "metadata": {
        "id": "lt9kVIyxzG14"
      }
    },
    {
      "cell_type": "markdown",
      "source": [],
      "metadata": {
        "id": "vD05hE4L9CYm"
      }
    },
    {
      "cell_type": "code",
      "source": [
        "# Check if the 'finance' variable evaluates to True in a boolean context.\n",
        "# Recall that the variable 'finance' equals the string 'Finance'\n",
        "# The built-in 'bool()' function returns True for \"truthy\" values and False for \"falsy\" values.\n",
        "# In Python, common \"falsy\" values include:\n",
        "# - None\n",
        "# - False\n",
        "# - Numeric zero (0, 0.0, 0j)\n",
        "# - Empty sequences (e.g., '', [], (), {})\n",
        "# All other values are generally considered \"truthy\".\n",
        "if bool(finance):\n",
        "  # If 'finance' is truthy (e.g., a non-empty string, a non-zero number, a non-empty list),\n",
        "  # then print its value to the console.\n",
        "  print(finance)\n",
        "\n",
        "# This is functionally identical to the block above, but written as a one-liner.\n",
        "# Python allows the statement following 'if' to be on the same line if it's a single statement.\n",
        "# The condition 'bool(finance)' evaluates the truthiness of 'finance' in the same way.\n",
        "if bool(finance): print(finance)"
      ],
      "metadata": {
        "colab": {
          "base_uri": "https://localhost:8080/"
        },
        "id": "mZAwjQucUFEv",
        "outputId": "ca133255-4ba2-4f5d-d007-323f4f373800"
      },
      "execution_count": 7,
      "outputs": [
        {
          "output_type": "stream",
          "name": "stdout",
          "text": [
            "Finance\n",
            "Finance\n"
          ]
        }
      ]
    },
    {
      "cell_type": "code",
      "source": [
        "# Initialize an empty string literal and assign it to the variable 'empty'.\n",
        "# An empty string is considered a \"falsy\" value in Python's boolean context.\n",
        "empty = ''\n",
        "\n",
        "# Check if the 'empty' variable evaluates to True in a boolean context.\n",
        "# The `bool('')` operation will return False because an empty string is a \"falsy\" value.\n",
        "if bool(empty):\n",
        "  # Since 'bool(empty)' evaluates to False, this 'print' statement will NOT be executed.\n",
        "  print(empty)\n",
        "\n",
        "# This is a concise, one-line 'if' statement that performs the exact same check.\n",
        "# The condition 'bool(empty)' will again evaluate to False.\n",
        "if bool(empty): print(empty)\n",
        "# Consequently, this 'print' statement will also NOT be executed."
      ],
      "metadata": {
        "id": "QhwiPcrDgGdg"
      },
      "execution_count": 8,
      "outputs": []
    },
    {
      "cell_type": "markdown",
      "source": [
        "### The <font color='green'>if, elif</font>, And <font color='green'>else</font> Statements: if Statement True\n",
        "#### <font color='green'>capitalize()</font> method of string objects changes the lower case letter to upper case."
      ],
      "metadata": {
        "id": "ftVrCJjQIAvF"
      }
    },
    {
      "cell_type": "code",
      "source": [
        "# Initialize a string variable 'char' with the lowercase letter 'i'.\n",
        "char = 'i'\n",
        "\n",
        "# --- Conditional Logic to Check for Character Presence ---\n",
        "\n",
        "# First Condition: Check if the capitalized version of 'char' exists within 'finance'.\n",
        "# - char.capitalize() converts 'i' to 'I'.\n",
        "# - The 'in' operator checks if the substring ('I') is present anywhere in 'finance'.\n",
        "# IMPORTANT: The 'finance' variable must be a string (or other sequence) defined elsewhere in your code.\n",
        "if char.capitalize() in finance:\n",
        "  # If 'I' is found in 'finance', print a message indicating its presence.\n",
        "  # This branch takes precedence. For example, if finance is \"FINANCE\", this will be true.\n",
        "  print(char + ' present') # This will print \"i present\"\n",
        "\n",
        "# Second Condition (executed ONLY if the first 'if' condition was False):\n",
        "# Check if the original lowercase 'char' exists within 'finance'.\n",
        "elif char in finance:\n",
        "  # If 'i' is found in 'finance' (and 'I' was NOT found), print a message.\n",
        "  # Note: This will capitalize 'char' for printing, even though the check was for lowercase.\n",
        "  # For example, if finance is \"finance\" (and not \"FINANCE\"), this will be true.\n",
        "  print(char.capitalize() + ' present') # This will print \"I present\"\n",
        "\n",
        "# Else Condition (executed ONLY if both the 'if' and 'elif' conditions were False):\n",
        "# Neither the capitalized nor the original lowercase 'char' was found in 'finance'.\n",
        "else:\n",
        "  # Print a message indicating that neither form of the character is present.\n",
        "  print(char + ' or ' + char.capitalize() + ' not present')"
      ],
      "metadata": {
        "colab": {
          "base_uri": "https://localhost:8080/"
        },
        "outputId": "863da474-1da8-4432-bcbd-3a64c9c2e118",
        "id": "Kg8DJ4yhwIy3"
      },
      "execution_count": 9,
      "outputs": [
        {
          "output_type": "stream",
          "name": "stdout",
          "text": [
            "I present\n"
          ]
        }
      ]
    },
    {
      "cell_type": "markdown",
      "source": [
        "### The <font color='green'>if, elif</font>, And <font color='green'>else</font> Statements: if Statement False, <font color='green'>elif</font> True\n",
        "#### <font color='green'>capitalize()</font> method of string objects changes the lower case letter to upper case."
      ],
      "metadata": {
        "id": "0N0PeNM1cbTE"
      }
    },
    {
      "cell_type": "code",
      "source": [
        "# Initialize a string variable 'char' with the lowercase letter 'f'.\n",
        "char = 'f'\n",
        "\n",
        "# --- Conditional Logic to Check for Character Presence ---\n",
        "\n",
        "# First Condition: Check if the original lowercase 'char' exists within 'finance'.\n",
        "# - The 'in' operator checks if the substring ('f') is present anywhere in 'finance'.\n",
        "# IMPORTANT: The 'finance' variable must be a string (or other sequence) defined elsewhere in your code.\n",
        "if char in finance:\n",
        "  # If 'f' is found in 'finance', print a message indicating its presence.\n",
        "  # This branch takes precedence. For example, if finance is \"finance\", this will be true.\n",
        "  print(char + ' present') # This will print \"f present\"\n",
        "\n",
        "# Second Condition (executed ONLY if the first 'if' condition was False):\n",
        "# Check if the capitalized version of 'char' exists within 'finance'.\n",
        "# - char.capitalize() converts 'f' to 'F'.\n",
        "# - This check runs only if the lowercase 'f' was NOT found in 'finance'.\n",
        "elif char.capitalize() in finance:\n",
        "  # If 'F' is found in 'finance' (and 'f' was NOT found), print a message.\n",
        "  # For example, if finance is \"FINANCE\" (and not \"finance\"), this will be true.\n",
        "  print(char.capitalize() + ' present') # This will print \"F present\"\n",
        "\n",
        "# Else Condition (executed ONLY if both the 'if' and 'elif' conditions were False):\n",
        "# Neither the lowercase 'char' nor its capitalized version was found in 'finance'.\n",
        "else:\n",
        "  # Print a message indicating that neither form of the character is present.\n",
        "  print(char + ' or ' + char.capitalize() + ' not present')"
      ],
      "metadata": {
        "colab": {
          "base_uri": "https://localhost:8080/"
        },
        "id": "SbTe99Dvb8eS",
        "outputId": "447935e3-a147-4d40-cf7e-7522ef6cf296"
      },
      "execution_count": 10,
      "outputs": [
        {
          "output_type": "stream",
          "name": "stdout",
          "text": [
            "F present\n"
          ]
        }
      ]
    },
    {
      "cell_type": "markdown",
      "source": [
        "### The <font color='green'>if, elif</font>, And <font color='green'>else</font> Statements: <font color='green'>if & elif</font> Statements False, <font color='green'>else</font> Statement Executed\n",
        "#### <font color='green'>capitalize()</font> Method Of string objects changes the lower case letter to upper case."
      ],
      "metadata": {
        "id": "JJt6NjyMJGhK"
      }
    },
    {
      "cell_type": "code",
      "source": [
        "# Define the character we are looking for.\n",
        "# In this case, 'char' is initialized to the lowercase letter 'g'.\n",
        "char = 'g'\n",
        "\n",
        "# --- Conditional Logic to Check for Character Presence (Case-Sensitive) ---\n",
        "\n",
        "# First condition: Check if the exact lowercase 'char' ('g') exists within the 'finance' variable.\n",
        "# The 'in' operator performs a case-sensitive substring check.\n",
        "# The 'finance' variable is assumed to be a string or other iterable defined elsewhere in the code.\n",
        "if char in finance:\n",
        "  # If 'g' is found in 'finance', execute this block.\n",
        "  # The output will confirm the presence of the lowercase 'g'.\n",
        "  # This condition has the highest priority.\n",
        "  print(char + ' present')\n",
        "\n",
        "# Second condition: (Only evaluated if the first 'if' condition was False)\n",
        "# Check if the capitalized version of 'char' ('G') exists within 'finance'.\n",
        "# char.capitalize() converts 'g' to 'G'.\n",
        "# This check also performs a case-sensitive substring search for 'G'.\n",
        "elif char.capitalize() in finance:\n",
        "  # If 'g' was NOT found, but 'G' IS found in 'finance', execute this block.\n",
        "  # The output will confirm the presence of the uppercase 'G'.\n",
        "  print(char.capitalize() + ' present')\n",
        "\n",
        "# Else condition: (Only evaluated if both the 'if' and 'elif' conditions were False)\n",
        "# This block is executed if neither the lowercase 'g' nor the uppercase 'G'\n",
        "# was found anywhere in the 'finance' variable.\n",
        "else:\n",
        "  # Print a message indicating that neither form of the character is present.\n",
        "  print(char + ' or ' + char.capitalize() + ' not present')"
      ],
      "metadata": {
        "colab": {
          "base_uri": "https://localhost:8080/"
        },
        "outputId": "d353128e-11ec-4656-bc70-4eded7608fde",
        "id": "vCjApbC7fYJ8"
      },
      "execution_count": 11,
      "outputs": [
        {
          "output_type": "stream",
          "name": "stdout",
          "text": [
            "g or G not present\n"
          ]
        }
      ]
    },
    {
      "cell_type": "markdown",
      "source": [
        "### The <font color='green'>try</font> And <font color='green'>except</font>\n",
        "#### If the block code controlled by a <font color='green'>try</font> statement fails, the code controlled by the <font color='green'>except</font> statement is executed.  Here it is illustrated with the square root of minus four.  Because the square root of minus four cannot be represented as a real number the statement controlled by <font color='green'>try</font> fails.  The statements controlled by <font color='green'>except</font> multiplies the square root of plus four by the Python representation of the imaginary number ij.\n",
        "\n",
        "```\n",
        "import math\n",
        "x=-4\n",
        "try:\n",
        "  answer=math.sqrt(x)\n",
        "  print('The RealNumber',answer)\n",
        "except:\n",
        "  if type(x) in [int,float]:\n",
        "    answer=math.sqrt(-x)*1j\n",
        "    print('The Imaginary Number',answer)\n",
        "  else:\n",
        "    print('x is not a integer or floating point Or Another Error')\n",
        "```\n",
        "\n"
      ],
      "metadata": {
        "id": "4IvfvQy-Aunk"
      }
    },
    {
      "cell_type": "code",
      "source": [
        "import math # Import the 'math' module, which provides mathematical functions like square root.\n",
        "\n",
        "x = -4 # Initialize a variable 'x' with a negative integer value.\n",
        "\n",
        "try:\n",
        "  # Attempt to calculate the square root of 'x'.\n",
        "  # The 'math.sqrt()' function expects a non-negative number (0 or positive)\n",
        "  # to return a real number result. If 'x' is negative, it raises a ValueError.\n",
        "  # If 'x' is not a number at all (e.g., a string), it would raise a TypeError.\n",
        "  answer = math.sqrt(x)\n",
        "\n",
        "  # This line will only execute if the math.sqrt(x) call was successful\n",
        "  # (i.e., 'x' was a non-negative number).\n",
        "  print('The RealNumber', answer)\n",
        "\n",
        "except:\n",
        "  # This 'except' block is a broad catch-all. It will execute if *any* error\n",
        "  # (like ValueError for negative numbers, TypeError for non-numbers, etc.)\n",
        "  # occurs in the 'try' block.\n",
        "\n",
        "  # Check if the type of 'x' is either an integer or a floating-point number.\n",
        "  # This condition is designed to specifically handle the case where 'x' is\n",
        "  # a negative number (which caused the ValueError in math.sqrt()).\n",
        "  if type(x) in [int, float]:\n",
        "    # If 'x' is a number and an error occurred (implying 'x' was negative),\n",
        "    # calculate the square root of the absolute value of 'x' (i.e., -x).\n",
        "    # Then, multiply by '1j' to represent the result as an imaginary number.\n",
        "    # For x = -4, this becomes math.sqrt(4) * 1j, which is 2.0 * 1j => (2+0j).\n",
        "    # Python uses j rather than i to denote the imaginary unit, because i can\n",
        "    # be used as a variable name.\n",
        "    answer = math.sqrt(-x) * 1j\n",
        "    print('The Imaginary Number', answer)\n",
        "  else:\n",
        "    # This 'else' block is executed if:\n",
        "    # 1. 'x' is NOT an integer or a float (e.g., a string, list, etc.), AND\n",
        "    # 2. An error occurred in the 'try' block (which would typically be a TypeError\n",
        "    #    when math.sqrt() is called with a non-numeric type).\n",
        "    # The message now explicitly mentions \"Or Another Error\" because this generic\n",
        "    # 'except' can catch any unforeseen issues.\n",
        "    print('x is not an integer or floating point Or Another Error')"
      ],
      "metadata": {
        "id": "sp_pE896P8_L",
        "colab": {
          "base_uri": "https://localhost:8080/"
        },
        "outputId": "f83afd1f-9c40-4214-f4b0-ae0f7332eec3"
      },
      "execution_count": 12,
      "outputs": [
        {
          "output_type": "stream",
          "name": "stdout",
          "text": [
            "The Imaginary Number 2j\n"
          ]
        }
      ]
    }
  ]
}