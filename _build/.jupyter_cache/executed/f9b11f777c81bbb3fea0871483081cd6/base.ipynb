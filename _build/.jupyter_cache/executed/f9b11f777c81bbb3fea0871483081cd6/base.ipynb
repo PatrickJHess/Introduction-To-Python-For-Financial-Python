{
 "cells": [
  {
   "cell_type": "code",
   "execution_count": 1,
   "metadata": {},
   "outputs": [],
   "source": [
    "def pick_url():\n",
    "  colab=\"[Colab](https://colab.research.google.com/drive/1ZswcXD-pYY-uIBMrnxCE7x6MdMm0DT3J?usp=drive_link)\"\n",
    "  pdf=\"[PDF](https://drive.google.com/file/d/182-6sL34ELfOrsEW3XbkfuizpacMu6ZQ/view?usp=drive_link)\"\n",
    "  import sys\n",
    "  from IPython.display import Markdown\n",
    "  is_colab = 'google.colab' in sys.modules\n",
    "  if is_colab:\n",
    "    display(Markdown(f'Click The Link For Relevant Colab Notebook:{colab}'))\n",
    "  else:\n",
    "    display(Markdown(f'Click The Link For Relevant PDF Of Notebook:{pdf}'))"
   ]
  },
  {
   "cell_type": "code",
   "execution_count": 2,
   "metadata": {},
   "outputs": [
    {
     "data": {
      "text/markdown": [
       "Click The Link For Relevant PDF Of Notebook:[PDF](https://drive.google.com/file/d/182-6sL34ELfOrsEW3XbkfuizpacMu6ZQ/view?usp=drive_link)"
      ],
      "text/plain": [
       "<IPython.core.display.Markdown object>"
      ]
     },
     "metadata": {},
     "output_type": "display_data"
    }
   ],
   "source": [
    "pick_url()"
   ]
  },
  {
   "cell_type": "code",
   "execution_count": 3,
   "metadata": {
    "id": "dMaHLSdwKGHe"
   },
   "outputs": [],
   "source": [
    "finance='Finance'"
   ]
  },
  {
   "cell_type": "code",
   "execution_count": 4,
   "metadata": {
    "colab": {
     "base_uri": "https://localhost:8080/"
    },
    "id": "zdH1RHRyH9u7",
    "outputId": "7a3ed03a-21e5-4344-c2ad-d2b70159011d"
   },
   "outputs": [
    {
     "name": "stdout",
     "output_type": "stream",
     "text": [
      "Finance\n"
     ]
    }
   ],
   "source": [
    "# Initialize an empty string variable named 'characters'.\n",
    "# This variable will be used to build a new string.\n",
    "characters = ''\n",
    "\n",
    "# Iterate over each character in the 'finance' variable.\n",
    "# It's assumed that 'finance' is an iterable, such as a string, list, or tuple.\n",
    "# For each iteration, 'char' will hold the current character.\n",
    "for char in finance:\n",
    "  # Concatenate the current 'char' to the 'characters' string with += operator\n",
    "  # This effectively appends each character from 'finance' one by one\n",
    "  # to build the 'characters' string.\n",
    "  characters += char\n",
    "\n",
    "# After the loop finishes (i.e., all characters from 'finance' have been processed),\n",
    "# print the final 'characters' string to the console.\n",
    "# This will display the complete sequence of characters that were in 'finance'.\n",
    "print(characters)"
   ]
  },
  {
   "cell_type": "code",
   "execution_count": 5,
   "metadata": {
    "colab": {
     "base_uri": "https://localhost:8080/"
    },
    "id": "a5BjEB5kwxQK",
    "outputId": "4e754705-b5d7-472c-e61d-abceb9648add"
   },
   "outputs": [
    {
     "name": "stdout",
     "output_type": "stream",
     "text": [
      "Fin\n"
     ]
    }
   ],
   "source": [
    "# Initialize an integer variable 'index' to 0.\n",
    "# This variable will serve as a counter or pointer,\n",
    "# indicating the current position when accessing characters from 'finance'.\n",
    "index = 0\n",
    "\n",
    "# Determine the 'limit' for how many characters to extract.\n",
    "# If 'finance' has 3 or more characters, set the limit to 3.\n",
    "if len(finance) >= 3:\n",
    "    limit = 3\n",
    "# Otherwise (if 'finance' has fewer than 3 characters),\n",
    "# set the limit to the actual length of 'finance'.\n",
    "# This prevents trying to access characters beyond the string's bounds.\n",
    "else:\n",
    "    limit = len(finance)\n",
    "\n",
    "# Initialize an empty string variable named 'characters'.\n",
    "# This string will be built up by appending characters from 'finance'.\n",
    "characters = ''\n",
    "\n",
    "# Start a 'while' loop.\n",
    "# The loop will continue as long as the number of characters collected\n",
    "# in the 'characters' string is less than the calculated 'limit'.\n",
    "# This ensures that we only extract up to 'limit' characters.\n",
    "while len(characters) < limit:\n",
    "  # Append the character at the current 'index' from the 'finance' variable\n",
    "  # to the 'characters' string.\n",
    "  # Example: If finance=\"abc\" and index=0, characters becomes \"a\".\n",
    "  characters += finance[index]\n",
    "\n",
    "  # Increment the 'index' by 1.\n",
    "  # This moves the pointer to the next character in 'finance' for the\n",
    "  # subsequent iteration of the loop.\n",
    "  index += 1\n",
    "\n",
    "# After the loop has completed (i.e., 'limit' number of characters have been\n",
    "# extracted and appended to 'characters'), print the final 'characters' string.\n",
    "print(characters)"
   ]
  },
  {
   "cell_type": "code",
   "execution_count": 6,
   "metadata": {
    "colab": {
     "base_uri": "https://localhost:8080/"
    },
    "id": "Gy9HaQ88BKjH",
    "outputId": "3bc1dc13-e5b0-4bb3-d2b8-9c4d0a0171fd"
   },
   "outputs": [
    {
     "name": "stdout",
     "output_type": "stream",
     "text": [
      "Fiace\n"
     ]
    }
   ],
   "source": [
    "# Initialize an empty string variable named 'characters'.\n",
    "# This string will be used to store characters from 'finance'\n",
    "# after some filtering.\n",
    "characters = ''\n",
    "\n",
    "# Iterate over each character present in the 'finance' variable.\n",
    "# It's assumed that 'finance' is an iterable, such as a string or a list of characters.\n",
    "# In each iteration, the current character is assigned to the variable 'char'.\n",
    "for char in finance:\n",
    "  # Check if the current character 'char' is equal to the lowercase letter 'n'.\n",
    "  if char == 'n':\n",
    "    # If 'char' is 'n', the 'continue' statement is executed.\n",
    "    # 'continue' immediately skips the rest of the current loop iteration\n",
    "    # and proceeds to the next iteration of the 'for' loop.\n",
    "    # This effectively causes any 'n' characters to be skipped and not appended.\n",
    "    continue\n",
    "\n",
    "  # If the 'char' is NOT 'n' (i.e., the 'continue' statement was not executed),\n",
    "  # append the current 'char' to the 'characters' string.\n",
    "  # This builds up the new string, excluding any 'n's.\n",
    "  characters += char\n",
    "\n",
    "# After the loop has completed, print the final 'characters' string to the console.\n",
    "# This string will contain all characters from 'finance' except for the letter 'n'.\n",
    "print(characters)"
   ]
  },
  {
   "cell_type": "code",
   "execution_count": 7,
   "metadata": {
    "colab": {
     "base_uri": "https://localhost:8080/"
    },
    "id": "twgtP16wFmoW",
    "outputId": "23347f9a-e36d-44f2-eeb3-e32dd8d6e7b6"
   },
   "outputs": [
    {
     "name": "stdout",
     "output_type": "stream",
     "text": [
      "Fin\n"
     ]
    }
   ],
   "source": [
    "# Initialize an empty string variable named 'characters'.\n",
    "# This string will be built up by appending selected characters from 'finance'.\n",
    "characters = ''\n",
    "\n",
    "# Iterate over the 'finance' sequence (e.g., a string or list).\n",
    "# The 'enumerate' function provides both the 'index' (position) and the 'char' (character)\n",
    "# for each item in 'finance' during the loop.\n",
    "for index, char in enumerate(finance):\n",
    "  # Check if the current 'index' has reached the predefined 'limit'.\n",
    "  # IMPORTANT: The 'limit' variable must be defined and have an integer value\n",
    "  # before this loop is executed. It dictates how many characters to extract.\n",
    "  if index == limit:\n",
    "    # If the 'index' reaches the 'limit', the 'break' statement is executed.\n",
    "    # 'break' immediately terminates the loop entirely,\n",
    "    # regardless of whether there are more characters in 'finance'.\n",
    "    break\n",
    "\n",
    "  # If the 'index' has not yet reached the 'limit' (i.e., 'break' was not executed),\n",
    "  # append the current 'char' to the 'characters' string.\n",
    "  # This gradually builds the string with characters up to the 'limit'.\n",
    "  characters += char\n",
    "\n",
    "# After the loop has completed (either by reaching 'limit' or exhausting 'finance'),\n",
    "# print the final 'characters' string to the console.\n",
    "# This string will contain the characters from 'finance' up to the 'limit' specified.\n",
    "print(characters)"
   ]
  },
  {
   "cell_type": "code",
   "execution_count": 8,
   "metadata": {
    "colab": {
     "base_uri": "https://localhost:8080/"
    },
    "id": "bPLlIDJgJkP7",
    "outputId": "857704ab-f525-4913-a40c-bc7000c13114"
   },
   "outputs": [
    {
     "name": "stdout",
     "output_type": "stream",
     "text": [
      "Finance\n"
     ]
    }
   ],
   "source": [
    "# Initialize an empty string variable named 'characters'.\n",
    "# This string will be used to accumulate parts of the 'finance' variable,\n",
    "# specifically after it has been split.\n",
    "characters = ''\n",
    "\n",
    "# Split the 'finance' string into a list of substrings (words).\n",
    "# The `.split()` method, when called without any arguments, splits the string\n",
    "# by any whitespace (spaces, tabs, newlines) and removes empty strings\n",
    "# from the result. For example, \"hello world\" becomes [\"hello\", \"world\"].\n",
    "# The resulting list of words is stored in 'split_finance'.\n",
    "split_finance = finance.split()\n",
    "\n",
    "# Iterate over each item (which will be a word/substring) in the 'split_finance' list.\n",
    "# In each iteration, 'char' (though it represents a word here) will hold\n",
    "# the current word from the list.\n",
    "for char in split_finance:\n",
    "  # Append the current 'char' (word) to the 'characters' string.\n",
    "  # Since 'char' is a word and not a single character, this concatenates\n",
    "  # all the words together without any spaces in between them.\n",
    "  characters += char\n",
    "\n",
    "# After the loop has completed, print the final 'characters' string to the console.\n",
    "# This string will contain all the original words from 'finance' joined together\n",
    "# without any intervening spaces or other whitespace.\n",
    "print(characters)"
   ]
  },
  {
   "cell_type": "code",
   "execution_count": 9,
   "metadata": {
    "colab": {
     "base_uri": "https://localhost:8080/"
    },
    "id": "mZAwjQucUFEv",
    "outputId": "38d0ab46-76ce-423a-abcf-682fdef14bc3"
   },
   "outputs": [
    {
     "name": "stdout",
     "output_type": "stream",
     "text": [
      "Finance\n",
      "Finance\n"
     ]
    }
   ],
   "source": [
    "# Check if the 'finance' variable evaluates to True in a boolean context.\n",
    "# The built-in 'bool()' function returns True for \"truthy\" values and False for \"falsy\" values.\n",
    "# In Python, common \"falsy\" values include:\n",
    "# - None\n",
    "# - False\n",
    "# - Numeric zero (0, 0.0, 0j)\n",
    "# - Empty sequences (e.g., '', [], (), {})\n",
    "# All other values are generally considered \"truthy\".\n",
    "if bool(finance):\n",
    "  # If 'finance' is truthy (e.g., a non-empty string, a non-zero number, a non-empty list),\n",
    "  # then print its value to the console.\n",
    "  print(finance)\n",
    "\n",
    "# This is functionally identical to the block above, but written as a one-liner.\n",
    "# Python allows the statement following 'if' to be on the same line if it's a single statement.\n",
    "# The condition 'bool(finance)' evaluates the truthiness of 'finance' in the same way.\n",
    "if bool(finance): print(finance)"
   ]
  },
  {
   "cell_type": "code",
   "execution_count": 10,
   "metadata": {
    "id": "QhwiPcrDgGdg"
   },
   "outputs": [],
   "source": [
    "# Initialize an empty string literal and assign it to the variable 'empty'.\n",
    "# An empty string is considered a \"falsy\" value in Python's boolean context.\n",
    "empty = ''\n",
    "\n",
    "# Check if the 'empty' variable evaluates to True in a boolean context.\n",
    "# The `bool('')` operation will return False because an empty string is a \"falsy\" value.\n",
    "if bool(empty):\n",
    "  # Since 'bool(empty)' evaluates to False, this 'print' statement will NOT be executed.\n",
    "  print(empty)\n",
    "\n",
    "# This is a concise, one-line 'if' statement that performs the exact same check.\n",
    "# The condition 'bool(empty)' will again evaluate to False.\n",
    "if bool(empty): print(empty)\n",
    "# Consequently, this 'print' statement will also NOT be executed."
   ]
  },
  {
   "cell_type": "code",
   "execution_count": 11,
   "metadata": {
    "colab": {
     "base_uri": "https://localhost:8080/"
    },
    "id": "Kg8DJ4yhwIy3",
    "outputId": "f60d9ebb-1f79-4993-e852-49b46dfad66c"
   },
   "outputs": [
    {
     "name": "stdout",
     "output_type": "stream",
     "text": [
      "I present\n"
     ]
    }
   ],
   "source": [
    "# Initialize a string variable 'char' with the lowercase letter 'i'.\n",
    "char = 'i'\n",
    "\n",
    "# --- Conditional Logic to Check for Character Presence ---\n",
    "\n",
    "# First Condition: Check if the capitalized version of 'char' exists within 'finance'.\n",
    "# - char.capitalize() converts 'i' to 'I'.\n",
    "# - The 'in' operator checks if the substring ('I') is present anywhere in 'finance'.\n",
    "# IMPORTANT: The 'finance' variable must be a string (or other sequence) defined elsewhere in your code.\n",
    "if char.capitalize() in finance:\n",
    "  # If 'I' is found in 'finance', print a message indicating its presence.\n",
    "  # This branch takes precedence. For example, if finance is \"FINANCE\", this will be true.\n",
    "  print(char + ' present') # This will print \"i present\"\n",
    "\n",
    "# Second Condition (executed ONLY if the first 'if' condition was False):\n",
    "# Check if the original lowercase 'char' exists within 'finance'.\n",
    "elif char in finance:\n",
    "  # If 'i' is found in 'finance' (and 'I' was NOT found), print a message.\n",
    "  # Note: This will capitalize 'char' for printing, even though the check was for lowercase.\n",
    "  # For example, if finance is \"finance\" (and not \"FINANCE\"), this will be true.\n",
    "  print(char.capitalize() + ' present') # This will print \"I present\"\n",
    "\n",
    "# Else Condition (executed ONLY if both the 'if' and 'elif' conditions were False):\n",
    "# Neither the capitalized nor the original lowercase 'char' was found in 'finance'.\n",
    "else:\n",
    "  # Print a message indicating that neither form of the character is present.\n",
    "  print(char + ' or ' + char.capitalize() + ' not present')"
   ]
  },
  {
   "cell_type": "code",
   "execution_count": 12,
   "metadata": {
    "colab": {
     "base_uri": "https://localhost:8080/"
    },
    "id": "SbTe99Dvb8eS",
    "outputId": "ba2f848f-ebb1-428a-bee1-50cbc29acfea"
   },
   "outputs": [
    {
     "name": "stdout",
     "output_type": "stream",
     "text": [
      "F present\n"
     ]
    }
   ],
   "source": [
    "# Initialize a string variable 'char' with the lowercase letter 'f'.\n",
    "char = 'f'\n",
    "\n",
    "# --- Conditional Logic to Check for Character Presence ---\n",
    "\n",
    "# First Condition: Check if the original lowercase 'char' exists within 'finance'.\n",
    "# - The 'in' operator checks if the substring ('f') is present anywhere in 'finance'.\n",
    "# IMPORTANT: The 'finance' variable must be a string (or other sequence) defined elsewhere in your code.\n",
    "if char in finance:\n",
    "  # If 'f' is found in 'finance', print a message indicating its presence.\n",
    "  # This branch takes precedence. For example, if finance is \"finance\", this will be true.\n",
    "  print(char + ' present') # This will print \"f present\"\n",
    "\n",
    "# Second Condition (executed ONLY if the first 'if' condition was False):\n",
    "# Check if the capitalized version of 'char' exists within 'finance'.\n",
    "# - char.capitalize() converts 'f' to 'F'.\n",
    "# - This check runs only if the lowercase 'f' was NOT found in 'finance'.\n",
    "elif char.capitalize() in finance:\n",
    "  # If 'F' is found in 'finance' (and 'f' was NOT found), print a message.\n",
    "  # For example, if finance is \"FINANCE\" (and not \"finance\"), this will be true.\n",
    "  print(char.capitalize() + ' present') # This will print \"F present\"\n",
    "\n",
    "# Else Condition (executed ONLY if both the 'if' and 'elif' conditions were False):\n",
    "# Neither the lowercase 'char' nor its capitalized version was found in 'finance'.\n",
    "else:\n",
    "  # Print a message indicating that neither form of the character is present.\n",
    "  print(char + ' or ' + char.capitalize() + ' not present')"
   ]
  },
  {
   "cell_type": "code",
   "execution_count": 13,
   "metadata": {
    "colab": {
     "base_uri": "https://localhost:8080/"
    },
    "id": "vCjApbC7fYJ8",
    "outputId": "63636fba-e12c-4c12-faf4-4bb9fbe52689"
   },
   "outputs": [
    {
     "name": "stdout",
     "output_type": "stream",
     "text": [
      "g or G not present\n"
     ]
    }
   ],
   "source": [
    "# Define the character we are looking for.\n",
    "# In this case, 'char' is initialized to the lowercase letter 'g'.\n",
    "char = 'g'\n",
    "\n",
    "# --- Conditional Logic to Check for Character Presence (Case-Sensitive) ---\n",
    "\n",
    "# First condition: Check if the exact lowercase 'char' ('g') exists within the 'finance' variable.\n",
    "# The 'in' operator performs a case-sensitive substring check.\n",
    "# The 'finance' variable is assumed to be a string or other iterable defined elsewhere in the code.\n",
    "if char in finance:\n",
    "  # If 'g' is found in 'finance', execute this block.\n",
    "  # The output will confirm the presence of the lowercase 'g'.\n",
    "  # This condition has the highest priority.\n",
    "  print(char + ' present')\n",
    "\n",
    "# Second condition: (Only evaluated if the first 'if' condition was False)\n",
    "# Check if the capitalized version of 'char' ('G') exists within 'finance'.\n",
    "# char.capitalize() converts 'g' to 'G'.\n",
    "# This check also performs a case-sensitive substring search for 'G'.\n",
    "elif char.capitalize() in finance:\n",
    "  # If 'g' was NOT found, but 'G' IS found in 'finance', execute this block.\n",
    "  # The output will confirm the presence of the uppercase 'G'.\n",
    "  print(char.capitalize() + ' present')\n",
    "\n",
    "# Else condition: (Only evaluated if both the 'if' and 'elif' conditions were False)\n",
    "# This block is executed if neither the lowercase 'g' nor the uppercase 'G'\n",
    "# was found anywhere in the 'finance' variable.\n",
    "else:\n",
    "  # Print a message indicating that neither form of the character is present.\n",
    "  print(char + ' or ' + char.capitalize() + ' not present')"
   ]
  },
  {
   "cell_type": "code",
   "execution_count": 14,
   "metadata": {
    "colab": {
     "base_uri": "https://localhost:8080/"
    },
    "id": "sp_pE896P8_L",
    "outputId": "093b6335-c99c-4a91-e552-46300db7f11e"
   },
   "outputs": [
    {
     "name": "stdout",
     "output_type": "stream",
     "text": [
      "The Imaginary Number 2j\n"
     ]
    }
   ],
   "source": [
    "import math # Import the 'math' module, which provides mathematical functions like square root.\n",
    "\n",
    "x = -4 # Initialize a variable 'x' with a negative integer value.\n",
    "\n",
    "try:\n",
    "  # Attempt to calculate the square root of 'x'.\n",
    "  # The 'math.sqrt()' function expects a non-negative number (0 or positive)\n",
    "  # to return a real number result. If 'x' is negative, it raises a ValueError.\n",
    "  # If 'x' is not a number at all (e.g., a string), it would raise a TypeError.\n",
    "  answer = math.sqrt(x)\n",
    "\n",
    "  # This line will only execute if the math.sqrt(x) call was successful\n",
    "  # (i.e., 'x' was a non-negative number).\n",
    "  print('The RealNumber', answer)\n",
    "\n",
    "except:\n",
    "  # This 'except' block is a broad catch-all. It will execute if *any* error\n",
    "  # (like ValueError for negative numbers, TypeError for non-numbers, etc.)\n",
    "  # occurs in the 'try' block.\n",
    "\n",
    "  # Check if the type of 'x' is either an integer or a floating-point number.\n",
    "  # This condition is designed to specifically handle the case where 'x' is\n",
    "  # a negative number (which caused the ValueError in math.sqrt()).\n",
    "  if type(x) in [int, float]:\n",
    "    # If 'x' is a number and an error occurred (implying 'x' was negative),\n",
    "    # calculate the square root of the absolute value of 'x' (i.e., -x).\n",
    "    # Then, multiply by '1j' to represent the result as an imaginary number.\n",
    "    # For x = -4, this becomes math.sqrt(4) * 1j, which is 2.0 * 1j => (2+0j).\n",
    "    # Python uses j rather than i to denore the imaginary unit, because i can\n",
    "    # be used as a variable name.\n",
    "    answer = math.sqrt(-x) * 1j\n",
    "    print('The Imaginary Number', answer)\n",
    "  else:\n",
    "    # This 'else' block is executed if:\n",
    "    # 1. 'x' is NOT an integer or a float (e.g., a string, list, etc.), AND\n",
    "    # 2. An error occurred in the 'try' block (which would typically be a TypeError\n",
    "    #    when math.sqrt() is called with a non-numeric type).\n",
    "    # The message now explicitly mentions \"Or Another Error\" because this generic\n",
    "    # 'except' can catch any unforeseen issues.\n",
    "    print('x is not a integer or floating point Or Another Error')"
   ]
  }
 ],
 "metadata": {
  "colab": {
   "provenance": []
  },
  "kernelspec": {
   "display_name": "Python 3 (ipykernel)",
   "language": "python",
   "name": "python3"
  },
  "language_info": {
   "codemirror_mode": {
    "name": "ipython",
    "version": 3
   },
   "file_extension": ".py",
   "mimetype": "text/x-python",
   "name": "python",
   "nbconvert_exporter": "python",
   "pygments_lexer": "ipython3",
   "version": "3.9.7"
  }
 },
 "nbformat": 4,
 "nbformat_minor": 4
}