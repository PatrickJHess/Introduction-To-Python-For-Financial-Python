{
 "cells": [
  {
   "cell_type": "markdown",
   "metadata": {
    "id": "4okoa5ikjMN3"
   },
   "source": [
    "# A Quick Look At Strings\n",
    "#### A string is a variable that represents printable characters, such as letters, numbers, etc. Like numbers and booleans, strings hold single values.  Unlike numbers and booleans, strings are iterable.  If a variable is iterable, the values or members  of the variable can be enumerated.  In the case of strings, the characters can be enumerated.  Many Python concepts can be illustrated with strings.\n",
    "\n",
    "#### Strings are defined using either single or double quotes. The single quote is the apostrophe on the key board. To include a single quote as part of a string, either use double quotes for the string's definition or precede the single quote inside the string with a backslash (\\\\) and the parser will disregard it.\n",
    "\n",
    "```\n",
    "# Assign the string \"Python\" to the variable 'python'.\n",
    "python = 'Python'\n",
    "\n",
    "# Assign the string \"Finance\" to the variable 'finance'.\n",
    "finance = 'Finance'\n",
    "\n",
    "# Assign a descriptive string to 'python_fun'.\n",
    "# This string expresses an opinion about combining finance and python.\n",
    "python_fun = \"It's fun to use finance with python\"\n",
    "\n",
    "# Assign another descriptive string to 'finance_fun'.\n",
    "# This string also expresses an opinion, using an escaped single quote (\\')\n",
    "# because the string itself is defined with single quotes and contains an apostrophe.\n",
    "finance_fun = 'It\\'s fun to use python with finance'\n",
    "\n",
    "# Print the values of the 'python' and 'finance' variables.\n",
    "# They will be printed on the same line, separated by a space by default.\n",
    "print(python, finance)\n",
    "\n",
    "# Print the values of the 'python_fun' and 'finance_fun' variables.\n",
    "# They will also be printed on the same line, separated by a space.\n",
    "print(python_fun, finance_fun)\n",
    "\n",
    "# Print a descriptive label \"Type of finance\" followed by the data type of the 'finance' variable.\n",
    "# The 'type()' built-in function returns the type of the object passed to it.\n",
    "# For a string literal like \"Finance\", its type is <class 'str'>.\n",
    "print('Type of finance', type(finance))\n",
    "\n",
    "```"
   ]
  },
  {
   "cell_type": "markdown",
   "metadata": {
    "id": "95rtUfivjV71"
   },
   "source": [
    "## Assigning A String Value"
   ]
  },
  {
   "cell_type": "code",
   "execution_count": 1,
   "metadata": {
    "colab": {
     "base_uri": "https://localhost:8080/"
    },
    "id": "zfzuiY2PjcyH",
    "outputId": "9365a6f2-4554-4046-9ea9-36ed7d437a09"
   },
   "outputs": [
    {
     "name": "stdout",
     "output_type": "stream",
     "text": [
      "Python Finance\n",
      "It's fun to use finance with python It's fun to use python with finance\n",
      "Type of finance <class 'str'>\n"
     ]
    }
   ],
   "source": [
    "# Assign the string \"Python\" to the variable 'python'.\n",
    "python = 'Python'\n",
    "\n",
    "# Assign the string \"Finance\" to the variable 'finance'.\n",
    "finance = 'Finance'\n",
    "\n",
    "# Assign a descriptive string to 'python_fun'.\n",
    "# This string expresses an opinion about combining finance and python.\n",
    "python_fun = \"It's fun to use finance with python\"\n",
    "\n",
    "# Assign another descriptive string to 'finance_fun'.\n",
    "# This string also expresses an opinion, using an escaped single quote (\\')\n",
    "# because the string itself is defined with single quotes and contains an apostrophe.\n",
    "finance_fun = 'It\\'s fun to use python with finance'\n",
    "\n",
    "# Print the values of the 'python' and 'finance' variables.\n",
    "# They will be printed on the same line, separated by a space by default.\n",
    "print(python, finance)\n",
    "\n",
    "# Print the values of the 'python_fun' and 'finance_fun' variables.\n",
    "# They will also be printed on the same line, separated by a space.\n",
    "print(python_fun, finance_fun)\n",
    "\n",
    "# Print a descriptive label \"Type of finance\" followed by the data type of the 'finance' variable.\n",
    "# The 'type()' built-in function returns the type of the object passed to it.\n",
    "# For a string literal like \"Finance\", its type is <class 'str'>.\n",
    "print('Type of finance', type(finance))"
   ]
  },
  {
   "cell_type": "markdown",
   "metadata": {
    "id": "b8fcOJ1GqB9O"
   },
   "source": [
    "## Combining Or Concatenating Strings\n",
    "#### Strings can be combined or concatenated with the plus sign including using the short-cut version of the plus sign (+=).\n",
    "\n",
    "```\n",
    "# Initialize a string variable 'python' with the value \"Python\".\n",
    "python = 'Python'\n",
    "\n",
    "# Initialize a string variable 'finance' with the value \"Finance\".\n",
    "finance = 'Finance'\n",
    "\n",
    "# Initialize a string variable 'python_fun' with a descriptive phrase.\n",
    "# Double quotes are used here, allowing a single apostrophe inside without escaping.\n",
    "python_fun = \"It's fun to use finance with python\"\n",
    "\n",
    "# Initialize a string variable 'finance_fun' with another descriptive phrase.\n",
    "# Single quotes are used, so the apostrophe in \"It's\" is escaped using a backslash (\\').\n",
    "finance_fun = 'It\\'s fun to use python with finance'\n",
    "\n",
    "# Print the result of concatenating the 'python' and 'finance' strings.\n",
    "# The '+' operator joins the two strings directly, without any space in between.\n",
    "print(python + finance)\n",
    "\n",
    "# Concatenate the string ' & ' to the existing value of 'python'.\n",
    "# The '+=' operator is an in-place operation, meaning it modifies the 'python' variable itself.\n",
    "# After this line, 'python' will become \"Python & \".\n",
    "python += ' & '\n",
    "\n",
    "# Print the new value of 'python' concatenated with the 'finance' string.\n",
    "# This will show \"Python & Finance\".\n",
    "print(python + finance)\n",
    "\n",
    "# Concatenate 'python_fun', the literal string '...', and 'finance_fun'.\n",
    "# The result will be a single string combining these three parts.\n",
    "print(python_fun + '...' + finance_fun)\n",
    "\n",
    "```"
   ]
  },
  {
   "cell_type": "code",
   "execution_count": 2,
   "metadata": {
    "colab": {
     "base_uri": "https://localhost:8080/"
    },
    "id": "uBKrSpD2qcJ1",
    "outputId": "28f1b7a1-afc6-47d8-b774-a8644cc5671a"
   },
   "outputs": [
    {
     "name": "stdout",
     "output_type": "stream",
     "text": [
      "PythonFinance\n",
      "Python & Finance\n",
      "It's fun to use finance with python...It's fun to use python with finance\n"
     ]
    }
   ],
   "source": [
    "# Initialize a string variable 'python' with the value \"Python\".\n",
    "python = 'Python'\n",
    "\n",
    "# Initialize a string variable 'finance' with the value \"Finance\".\n",
    "finance = 'Finance'\n",
    "\n",
    "# Initialize a string variable 'python_fun' with a descriptive phrase.\n",
    "# Double quotes are used here, allowing a single apostrophe inside without escaping.\n",
    "python_fun = \"It's fun to use finance with python\"\n",
    "\n",
    "# Initialize a string variable 'finance_fun' with another descriptive phrase.\n",
    "# Single quotes are used, so the apostrophe in \"It's\" is escaped using a backslash (\\').\n",
    "finance_fun = 'It\\'s fun to use python with finance'\n",
    "\n",
    "# Print the result of concatenating the 'python' and 'finance' strings.\n",
    "# The '+' operator joins the two strings directly, without any space in between.\n",
    "print(python + finance)\n",
    "\n",
    "# Concatenate the string ' & ' to the existing value of 'python'.\n",
    "# The '+=' operator is an in-place operation, meaning it modifies the 'python' variable itself.\n",
    "# After this line, 'python' will become \"Python & \".\n",
    "python += ' & '\n",
    "\n",
    "# Print the new value of 'python' concatenated with the 'finance' string.\n",
    "# This will show \"Python & Finance\".\n",
    "print(python + finance)\n",
    "\n",
    "# Concatenate 'python_fun', the literal string '...', and 'finance_fun'.\n",
    "# The result will be a single string combining these three parts.\n",
    "print(python_fun + '...' + finance_fun)"
   ]
  },
  {
   "cell_type": "markdown",
   "metadata": {
    "id": "b0RXu8YVjt98"
   },
   "source": [
    "## Length Of A String\n",
    "#### Strings, being iterable, necessarily contain elements or members that possess a countable length. Python's built-in <font color='green'>len()</font> function provides this count, returning the number of elements within the iterable. An empty string or any empty iterable will have a length of zero. In the case of a string, the length is equal to the number of characters, including blanks, that are in the string.\n",
    "\n",
    "```\n",
    "# Initialize a string variable 'python' with the value \"Python\".\n",
    "python = 'Python'\n",
    "\n",
    "# Initialize a string variable 'finance' with the value \"Finance\".\n",
    "finance = 'Finance'\n",
    "\n",
    "# Concatenate the string ' & ' to the existing value of 'python'.\n",
    "# The '+=' operator modifies 'python' in-place.\n",
    "# After this line, 'python' will become \"Python & \".\n",
    "python += ' & '\n",
    "\n",
    "# Print two pieces of information about the 'finance' string:\n",
    "# 1. The length of the 'finance' string using the built-in 'len()' function.\n",
    "#    'Finance' has 7 characters, so len('Finance') is 7.\n",
    "# 2. The 'finance' string itself.\n",
    "print(len(finance), finance)\n",
    "\n",
    "# Print two pieces of information about the 'python' string:\n",
    "# 1. The length of the 'python' string. Since it was modified to \"Python & \",\n",
    "#    its length is 6 (for \"Python\") + 3 (for \" & \") = 9.\n",
    "# 2. The 'python' string itself.\n",
    "print(len(python), python)\n",
    "\n",
    "# Initialize an empty string literal and assign it to 'empty_string'.\n",
    "empty_string = ''\n",
    "\n",
    "# Print two pieces of information about the 'empty_string':\n",
    "# 1. The length of the 'empty_string'. An empty string has 0 characters.\n",
    "# 2. The 'empty_string' itself (which will be nothing).\n",
    "print(len(empty_string), empty_string)\n",
    "\n",
    "```"
   ]
  },
  {
   "cell_type": "code",
   "execution_count": 3,
   "metadata": {
    "colab": {
     "base_uri": "https://localhost:8080/"
    },
    "id": "AVHNYOYU-LEL",
    "outputId": "32f98727-27ea-4248-a7a5-8799e4d7457c"
   },
   "outputs": [
    {
     "name": "stdout",
     "output_type": "stream",
     "text": [
      "7 Finance\n",
      "9 Python & \n",
      "0 \n"
     ]
    }
   ],
   "source": [
    "# Initialize a string variable 'python' with the value \"Python\".\n",
    "python = 'Python'\n",
    "\n",
    "# Initialize a string variable 'finance' with the value \"Finance\".\n",
    "finance = 'Finance'\n",
    "\n",
    "# Concatenate the string ' & ' to the existing value of 'python'.\n",
    "# The '+=' operator modifies 'python' in-place.\n",
    "# After this line, 'python' will become \"Python & \".\n",
    "python += ' & '\n",
    "\n",
    "# Print two pieces of information about the 'finance' string:\n",
    "# 1. The length of the 'finance' string using the built-in 'len()' function.\n",
    "#    'Finance' has 7 characters, so len('Finance') is 7.\n",
    "# 2. The 'finance' string itself.\n",
    "print(len(finance), finance)\n",
    "\n",
    "# Print two pieces of information about the 'python' string:\n",
    "# 1. The length of the 'python' string. Since it was modified to \"Python & \",\n",
    "#    its length is 6 (for \"Python\") + 3 (for \" & \") = 9.\n",
    "# 2. The 'python' string itself.\n",
    "print(len(python), python)\n",
    "\n",
    "# Initialize an empty string literal and assign it to 'empty_string'.\n",
    "empty_string = ''\n",
    "\n",
    "# Print two pieces of information about the 'empty_string':\n",
    "# 1. The length of the 'empty_string'. An empty string has 0 characters.\n",
    "# 2. The 'empty_string' itself (which will be nothing).\n",
    "print(len(empty_string), empty_string)"
   ]
  },
  {
   "cell_type": "markdown",
   "metadata": {
    "id": "fYpH0rePj-C1"
   },
   "source": [
    "## Iterating Through A String And Zero-Based Indexes\n",
    "#### The code demonstrates iterating through the string <font color='green'>finance</font> using two different <font color='green'>for loop</font> approaches.\n",
    "\n",
    "#### The first example is a basic <font color='green'>for loop</font> that assigns each character of the string to the variable <font color='green'>character</font> and then prints it.\n",
    "\n",
    "\n",
    "```\n",
    "for character in finance:\n",
    "    print(character)\n",
    "```\n",
    "\n",
    "#### The second uses the <font color='green'>enumerate()</font> function. This function binds each character (member of the string) to its index location. The loop then produces both the index and the character in each iteration, printing them as pairs.\n",
    "\n",
    "\n",
    "```\n",
    "for index, character in enumerate(finance):\n",
    "    print(index, character)\n",
    "```\n",
    "#### In the second example notice that the index value ranges from zero to six; an example of zero-based indexing.  The following code is another example of zero-based indexing that prints characters in locations 0, 3, and 6 that represent F, a, and e.\n",
    "\n",
    "\n",
    "```\n",
    "print(finance[0],finance[3],finance[6])\n",
    "\n",
    "```\n",
    "\n",
    "\n"
   ]
  },
  {
   "cell_type": "code",
   "execution_count": 4,
   "metadata": {
    "colab": {
     "base_uri": "https://localhost:8080/"
    },
    "id": "hecmKsU6zipc",
    "outputId": "7398c214-f3c6-4ab0-d88d-bb8702983672"
   },
   "outputs": [
    {
     "name": "stdout",
     "output_type": "stream",
     "text": [
      "F\n",
      "i\n",
      "n\n",
      "a\n",
      "n\n",
      "c\n",
      "e\n"
     ]
    }
   ],
   "source": [
    "# Iterate over each individual character in the 'finance' string.\n",
    "# In each iteration of the loop, the variable 'character' will be\n",
    "# assigned the next character from the 'finance' string.\n",
    "for character in finance:\n",
    "  # Print the current 'character'.\n",
    "  # By default, 'print()' adds a newline character at the end,\n",
    "  # so each character will appear on a separate line in the output.\n",
    "  print(character)"
   ]
  },
  {
   "cell_type": "code",
   "execution_count": 5,
   "metadata": {
    "colab": {
     "base_uri": "https://localhost:8080/"
    },
    "id": "P2oqH5Ho1LQf",
    "outputId": "eb8d09ec-2d90-48e3-d472-8271c43c75aa"
   },
   "outputs": [
    {
     "name": "stdout",
     "output_type": "stream",
     "text": [
      "0 F\n",
      "1 i\n",
      "2 n\n",
      "3 a\n",
      "4 n\n",
      "5 c\n",
      "6 e\n"
     ]
    }
   ],
   "source": [
    "# Iterate over the 'finance' string using 'enumerate()'.\n",
    "# 'enumerate()' is a built-in function that adds a counter (index) to an iterable.\n",
    "# For each item in 'finance':\n",
    "#   - 'index' will be the current position (starting from 0).\n",
    "#   - 'character' will be the actual character at that position.\n",
    "for index, character in enumerate(finance):\n",
    "  # Print both the 'index' and the 'character' for the current iteration.\n",
    "  # By default, 'print()' separates arguments with a space and ends with a newline,\n",
    "  # so each index-character pair will appear on a separate line.\n",
    "  print(index, character)"
   ]
  },
  {
   "cell_type": "code",
   "execution_count": 6,
   "metadata": {
    "colab": {
     "base_uri": "https://localhost:8080/"
    },
    "id": "DFrlhywSq89F",
    "outputId": "c33b92cd-3995-442b-ea7f-724f2810a990"
   },
   "outputs": [
    {
     "name": "stdout",
     "output_type": "stream",
     "text": [
      "F a e\n"
     ]
    }
   ],
   "source": [
    "# Another example of zero-based indexing - prints characters in locations 0, 3, and 6 that represent F, a, and e.\n",
    "print(finance[0],finance[3],finance[6])"
   ]
  },
  {
   "cell_type": "markdown",
   "metadata": {
    "id": "BlP4GE50KpHF"
   },
   "source": [
    "## Slicing A String\n",
    "#### String slicing utilizes index locations. A slice is defined by its starting and ending points, along with the step size, each separated by a colon. The beginning index defaults to zero, the ending to the iterable's length, and the step size to one. Consequently, these two statements produce identical slices.\n",
    "\n",
    "```\n",
    "print(finance[0:4])\n",
    "print(finance[:4])\n",
    "```\n",
    "#### Negative beginning or ending values cause the slice to operate relative to the iterable's length. <font color='green'>finance()</font> has a length of 7. A beginning value of -4 is equivalent to a beginning value of 3. An ending value of -3 is equivalent to an ending value of 4. The first line of code below extracts the final four characters, while the second extracts the initial four.\n",
    "\n",
    "\n",
    "\n",
    "```\n",
    "print(finance[-4:])\n",
    "print(finance[:-3])\n",
    "```\n",
    "\n",
    "\n"
   ]
  },
  {
   "cell_type": "code",
   "execution_count": 7,
   "metadata": {
    "colab": {
     "base_uri": "https://localhost:8080/"
    },
    "id": "O5neIGhEm4FP",
    "outputId": "56f81ac5-3c81-4ab9-98f6-0a372b195fce"
   },
   "outputs": [
    {
     "name": "stdout",
     "output_type": "stream",
     "text": [
      "Fina\n",
      "Fina\n",
      "ance\n",
      "Fina\n"
     ]
    }
   ],
   "source": [
    "# Print a slice of the 'finance' string from index 0 (inclusive) up to, but not including, index 4.\n",
    "# This will extract the characters at indices 0, 1, 2, and 3.\n",
    "# 'Finance' -> F(0) i(1) n(2) a(3) n(4) c(5) e(6)\n",
    "# finance[0:4] will be 'Fina'\n",
    "print(finance[0:4])\n",
    "\n",
    "# Print a slice of the 'finance' string where the starting index is omitted.\n",
    "# When the starting index is omitted, it defaults to 0.\n",
    "# So, finance[:4] is equivalent to finance[0:4].\n",
    "# finance[:4] will also be 'Fina'\n",
    "print(finance[:4])\n",
    "\n",
    "# Print a slice of the 'finance' string using negative indexing from the end.\n",
    "# -4 means starting 4 characters from the end.\n",
    "# When the ending index is omitted, it defaults to the end of the string.\n",
    "# 'Finance' -> F i n a n c e\n",
    "# Indices:      0 1 2 3 4 5 6\n",
    "# Negative:    -7-6-5-4-3-2-1\n",
    "# finance[-4:] will be 'ance' (characters at -4, -3, -2, -1)\n",
    "print(finance[-4:])\n",
    "\n",
    "# Print a slice of the 'finance' string using negative indexing for the end.\n",
    "# When the starting index is omitted, it defaults to 0.\n",
    "# -3 means stopping 3 characters from the end (exclusive).\n",
    "# So, it extracts characters from index 0 up to, but not including, index -3.\n",
    "# 'Finance' -> F(0) i(1) n(2) a(3) n(4) c(5) e(6)\n",
    "# Negative:    -7-6-5-4-3-2-1\n",
    "# finance[:-3] will be 'Fina' (characters up to index 3, not including index 4)\n",
    "print(finance[:-3])"
   ]
  },
  {
   "cell_type": "markdown",
   "metadata": {
    "id": "2vSkZ7cTkQHE"
   },
   "source": [
    "## Converting Numbers And Booleans To Strings\n",
    "#### The <font color='green'>str()</font> function in Python is used to convert numerical and boolean data types into strings. Below are examples showing how integers, floats, and boolean values are transformed into their string representations."
   ]
  },
  {
   "cell_type": "code",
   "execution_count": 8,
   "metadata": {
    "colab": {
     "base_uri": "https://localhost:8080/"
    },
    "id": "8uN5zeosdT55",
    "outputId": "a6d8e980-0818-4152-af93-26f8687b601e"
   },
   "outputs": [
    {
     "name": "stdout",
     "output_type": "stream",
     "text": [
      "<class 'int'> <class 'float'> <class 'bool'>\n",
      "5 <class 'str'> 10.3 <class 'str'> True <class 'str'>\n"
     ]
    }
   ],
   "source": [
    "# Initialize an integer variable 'x' with the value 5.\n",
    "x = 5\n",
    "\n",
    "# Initialize a floating-point variable 'y' with the value 10.3.\n",
    "y = 10.3\n",
    "\n",
    "# Perform a comparison operation: check if 'y' is greater than 'x'.\n",
    "# The result of a comparison is always a boolean value (True or False).\n",
    "# In this case, 10.3 > 5 is True, so 'z' will be assigned the boolean value True.\n",
    "z = y > x\n",
    "\n",
    "# Print the data type of each variable (x, y, and z) using the built-in 'type()' function.\n",
    "# - type(x) will be <class 'int'>\n",
    "# - type(y) will be <class 'float'>\n",
    "# - type(z) will be <class 'bool'>\n",
    "print(type(x), type(y), type(z))\n",
    "\n",
    "# Convert the integer 'x' to its string representation and assign it to 'a'.\n",
    "# 'a' will be the string \"5\".\n",
    "a = str(x)\n",
    "\n",
    "# Convert the float 'y' to its string representation and assign it to 'b'.\n",
    "# 'b' will be the string \"10.3\".\n",
    "b = str(y)\n",
    "\n",
    "# Convert the boolean 'z' (which is True) to its string representation and assign it to 'c'.\n",
    "# 'c' will be the string \"True\".\n",
    "c = str(z)\n",
    "\n",
    "# Print the value and data type of each of the newly created string variables (a, b, and c).\n",
    "# - a will be \"5\", type(a) will be <class 'str'>\n",
    "# - b will be \"10.3\", type(b) will be <class 'str'>\n",
    "# - c will be \"True\", type(c) will be <class 'str'>\n",
    "print(a, type(a), b, type(b), c, type(c))"
   ]
  },
  {
   "cell_type": "markdown",
   "metadata": {
    "id": "g4Q34TzPlFzM"
   },
   "source": [
    "### Converting Strings To Numbers And Booleans\n",
    "#### Strings values of numbers can be converted to integers or floating point numbers.  The boolean value of an empty string is False; all others, True."
   ]
  },
  {
   "cell_type": "code",
   "execution_count": 9,
   "metadata": {
    "colab": {
     "base_uri": "https://localhost:8080/"
    },
    "id": "Kl7ol8zfsXZ_",
    "outputId": "e8ac358d-a395-4adf-9864-7e452f555813"
   },
   "outputs": [
    {
     "name": "stdout",
     "output_type": "stream",
     "text": [
      "10.0\n",
      "10\n",
      "0 False\n",
      "1 True\n"
     ]
    }
   ],
   "source": [
    "# Convert the string '10' to a floating-point number (10.0) and print it.\n",
    "# The `float()` constructor can convert integers and string representations\n",
    "# of numbers to floating-point type.\n",
    "print(float('10'))\n",
    "\n",
    "# Convert the string '10' to an integer number (10) and print it.\n",
    "# The `int()` constructor can convert floats, and string representations\n",
    "# of integers to integer type.\n",
    "print(int('10'))\n",
    "\n",
    "# Initialize an empty string literal and assign it to the variable 'empty'.\n",
    "empty = ''\n",
    "\n",
    "# Print two pieces of information about the 'empty' string:\n",
    "# 1. Its length using `len()`. An empty string has a length of 0.\n",
    "# 2. Its boolean value using `bool()`. An empty string is considered \"falsy\" (evaluates to False).\n",
    "print(len(empty), bool(empty))\n",
    "\n",
    "# Initialize a string containing a single space character and assign it to 'space'.\n",
    "space = ' '\n",
    "\n",
    "# Print two pieces of information about the variable 'space':\n",
    "# 1. Its length using `len()`. A string with one space has a length of 1.\n",
    "# 2. Its boolean value using `bool()`. A non-empty string (even one with just whitespace)\n",
    "#    is considered \"truthy\" (evaluates to True).\n",
    "print(len(space), bool(space))"
   ]
  },
  {
   "cell_type": "markdown",
   "metadata": {
    "id": "rb7Y9oVKygYc"
   },
   "source": [
    "## Four Useful String Methods\n",
    "#### Numerous methods are available for string manipulation in Python. Four of the most relevant are described and demonstrated.\n",
    "\n",
    "\n",
    "*   <font color='green'>find()</font>: To locate the index of the first occurrence of a substring within the string. If the substring is absent, it returns -1.\n",
    "\n",
    "\n",
    "```\n",
    "print(finance.find('F'),'   ',finance.find('I'))\n",
    "```\n",
    "\n",
    "*   <font color='green'>replace()</font>: To substitute a string with another. If the replacement is empty, it results in the removal of the original string. Arguments include the string to be replaced, the replacement string, and the number of replacements (defaulting to all occurrences).\n",
    "\n",
    "\n",
    "```\n",
    "print(finance.replace('n','N'),'   ',finance.replace('n','N',1),'   ',finance.replace('n',' '))\n",
    "```\n",
    "\n",
    "\n",
    "*   <font color='green'>split()</font>: To convert a string into a list. It takes the split character (default is whitespace) and the number of splits (default is all) as arguments.\n",
    "\n",
    "\n",
    "```\n",
    "print(python_fun.split(),'   ',python_fun.split('i',1))\n",
    "```\n",
    "\n",
    "*   <font color='green'>join()</font>: To convert an iterable into a string. The method is applied to the separator. The method's argument is the iterable\n",
    "\n",
    "\n",
    "```\n",
    "print('  '.join(python_fun.split()),'   ','$'.join(python_fun.split()))\n",
    "```\n",
    "\n",
    "#### [Click here for a description of these and other string methods.](https://www.w3schools.com/python/python_ref_string.asp)\n"
   ]
  },
  {
   "cell_type": "code",
   "execution_count": 10,
   "metadata": {
    "colab": {
     "base_uri": "https://localhost:8080/"
    },
    "id": "7ARP0mZUyP9N",
    "outputId": "febed169-f9ec-4b09-8549-0f17455bbf42"
   },
   "outputs": [
    {
     "name": "stdout",
     "output_type": "stream",
     "text": [
      "0     -1\n"
     ]
    }
   ],
   "source": [
    "# --- Section 1: Using the `str.find()` method ---\n",
    "\n",
    "# The `str.find(substring)` method returns the lowest index (position)\n",
    "# in the string where the 'substring' is found.\n",
    "# If the 'substring' is not found, it returns -1.\n",
    "\n",
    "# finance.find('F'): 'F' is the first character in 'Finance', so its index is 0.\n",
    "# finance.find('I'): 'I' (uppercase) is not present in 'Finance' (which has 'i' lowercase), so it returns -1.\n",
    "print(finance.find('F'), '   ', finance.find('I'))"
   ]
  },
  {
   "cell_type": "code",
   "execution_count": 11,
   "metadata": {
    "colab": {
     "base_uri": "https://localhost:8080/"
    },
    "id": "Un26FyfoyUck",
    "outputId": "9194c904-ff86-42a9-c297-c2023c65959b"
   },
   "outputs": [
    {
     "name": "stdout",
     "output_type": "stream",
     "text": [
      "FiNaNce     FiNance     Fi a ce\n"
     ]
    }
   ],
   "source": [
    "# --- Section 2: Using the `str.replace()` method ---\n",
    "\n",
    "# The `str.replace(old, new, count)` method returns a *new* string\n",
    "# where occurrences of 'old' are replaced by 'new'.\n",
    "# The original string ('finance') remains unchanged.\n",
    "# The optional 'count' argument specifies the maximum number of replacements to make.\n",
    "\n",
    "# finance.replace('n','N'): Replaces ALL occurrences of 'n' with 'N'.\n",
    "#   'Finance' (n at index 2, n at index 4) becomes 'FiNaNce'.\n",
    "# finance.replace('n','N',1): Replaces only the FIRST occurrence of 'n' with 'N'.\n",
    "#   'Finance' (n at index 2) becomes 'FiNance'.\n",
    "# finance.replace('n',' '): Replaces ALL occurrences of 'n' with a space character.\n",
    "#   'Finance' becomes 'Fi a ce'.\n",
    "print(finance.replace('n','N'),'   ',finance.replace('n','N',1),'   ',finance.replace('n',' '))"
   ]
  },
  {
   "cell_type": "code",
   "execution_count": 12,
   "metadata": {
    "colab": {
     "base_uri": "https://localhost:8080/"
    },
    "id": "gfVpxSktyadb",
    "outputId": "65294c35-3715-4725-e2f3-9e8098f0e4c5"
   },
   "outputs": [
    {
     "name": "stdout",
     "output_type": "stream",
     "text": [
      "[\"It's\", 'fun', 'to', 'use', 'finance', 'with', 'python']     [\"It's fun to use f\", 'nance with python']\n"
     ]
    }
   ],
   "source": [
    "# --- Section 3: Using the `str.split()` method ---\n",
    "\n",
    "# The `str.split(separator, maxsplit)` method splits a string into a list of substrings.\n",
    "# If 'separator' is not provided (or is None), it splits by any whitespace\n",
    "# and automatically handles multiple spaces by treating them as one.\n",
    "\n",
    "# python_fun.split(): Splits the string by any whitespace.\n",
    "#   \"It's fun to use finance with python\" becomes\n",
    "#   ['It\\'s', 'fun', 'to', 'use', 'finance', 'with', 'python']\n",
    "# python_fun.split('i',1): Splits the string by the first occurrence of the character 'i'.\n",
    "#   The '1' limits the number of splits to one, resulting in two parts.\n",
    "#   \"It's fun to use finance with python\" splits at the 'i' in \"It's\"\n",
    "#   or at the first 'i' encountered (in 'finance'). Let's trace it:\n",
    "#   Original: \"It's fun to use finance with python\"\n",
    "#             ^ first 'i' is at index 4\n",
    "#   Result: [\"It's fun to use f\", \"nance with python\"]\n",
    "print(python_fun.split(),'   ',python_fun.split('i',1))"
   ]
  },
  {
   "cell_type": "code",
   "execution_count": 13,
   "metadata": {
    "colab": {
     "base_uri": "https://localhost:8080/"
    },
    "id": "24DcHsOGyeOW",
    "outputId": "4532793e-a357-4a41-e4f6-c8d4ca9331fa"
   },
   "outputs": [
    {
     "name": "stdout",
     "output_type": "stream",
     "text": [
      "It's  fun  to  use  finance  with  python     It's$fun$to$use$finance$with$python\n"
     ]
    }
   ],
   "source": [
    "# --- Section 4: Using the `str.join()` method ---\n",
    "\n",
    "# The `str.join(iterable)` method is a string method used to concatenate\n",
    "# elements of an iterable (like a list of strings).\n",
    "# The string on which `.join()` is called acts as the separator between the elements.\n",
    "\n",
    "# '  '.join(python_fun.split()):\n",
    "#   First, python_fun.split() creates the list: ['It\\'s', 'fun', 'to', 'use', 'finance', 'with', 'python'].\n",
    "#   Then, these elements are joined together with '  ' (two spaces) as the separator.\n",
    "#   Result: \"It's  fun  to  use  finance  with  python\"\n",
    "# '$'.join(python_fun.split()):\n",
    "#   Uses the same list, but joins the elements with '$' as the separator.\n",
    "#   Result: \"It's$fun$to$use$finance$with$python\"\n",
    "print('  '.join(python_fun.split()),'   ','$'.join(python_fun.split()))"
   ]
  }
 ],
 "metadata": {
  "colab": {
   "provenance": []
  },
  "kernelspec": {
   "display_name": "Python 3",
   "name": "python3"
  },
  "language_info": {
   "codemirror_mode": {
    "name": "ipython",
    "version": 3
   },
   "file_extension": ".py",
   "mimetype": "text/x-python",
   "name": "python",
   "nbconvert_exporter": "python",
   "pygments_lexer": "ipython3",
   "version": "3.9.7"
  }
 },
 "nbformat": 4,
 "nbformat_minor": 0
}