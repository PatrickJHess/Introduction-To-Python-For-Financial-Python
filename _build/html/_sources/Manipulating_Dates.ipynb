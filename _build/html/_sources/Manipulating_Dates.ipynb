{
  "nbformat": 4,
  "nbformat_minor": 0,
  "metadata": {
    "colab": {
      "provenance": []
    },
    "kernelspec": {
      "name": "python3",
      "display_name": "Python 3"
    },
    "language_info": {
      "name": "python"
    }
  },
  "cells": [
    {
      "cell_type": "markdown",
      "source": [
        "# A Quick Introduction To Manipulating Dates\n",
        "#### Many financial calculations, such as aligning present value factors with payment dates or annualizing returns and volatility, rely on numerical date analysis. This notebook explores key Python modules for date handling:\n",
        "\n",
        "*   *datetime: Provides diverse methods for numerical date representation.*\n",
        "*   *dateutil.relativedelta: Enables flexible manipulation of datetime objects.\n",
        "*   calendar: Useful for identifying specific days, such as the last day of the month.\n"
      ],
      "metadata": {
        "id": "RYkj-tdru1YB"
      }
    },
    {
      "cell_type": "markdown",
      "source": [
        "## Datetime Modules\n",
        "#### Python offers numerous libraries and modules, and one frequently used in finance is datetime. The module is part of the standard Python library. The modules defines objects with specific attributes and methods allowing for the manipulation of dates."
      ],
      "metadata": {
        "id": "wc5Xyx7DFL-u"
      }
    },
    {
      "cell_type": "markdown",
      "source": [
        "## Create A datetime Object\n",
        "#### The <font color='green'>datetime()</font> method is part of the datetime module. Its parameters include year, month, day, hour, minute, second, and microsecond. Arguments are required for year, month, and day. The other parameters default to zero.\n",
        "\n",
        "#### One way to use the <font color='green'>datetime</font> method is to import the <font color='green'>datetime</font> module and then access the method as an extension of the module.\n",
        "\n",
        "\n",
        "```\n",
        "import datetime\n",
        "example=datetime.datetime(2025,6,15)\n",
        "```\n",
        "\n",
        "#### It's more convenient to import the <font color='green'>datetime</font> method directly from the <font color='green'>datetime</font> module and then refer to it without the module prefix.  The notebooks of Financial Python import the <font color='green'>datetime</font> method from the <font color='green'>datetime</font> module.\n",
        "\n",
        "\n",
        "```\n",
        "from datetime import datetime\n",
        "example_datetime=datetime(2025,6,15,14,30,10,2000010)\n",
        "```\n",
        "\n"
      ],
      "metadata": {
        "id": "y3qtzwaxaqPZ"
      }
    },
    {
      "cell_type": "code",
      "source": [
        "import datetime"
      ],
      "metadata": {
        "id": "-0lTn9mA76Z8"
      },
      "execution_count": null,
      "outputs": []
    },
    {
      "cell_type": "code",
      "source": [
        "example=datetime.datetime(2025,6,15,14,30,10,200010)"
      ],
      "metadata": {
        "id": "GjJ4kCEY3Y1t"
      },
      "execution_count": null,
      "outputs": []
    },
    {
      "cell_type": "code",
      "source": [
        "example"
      ],
      "metadata": {
        "colab": {
          "base_uri": "https://localhost:8080/"
        },
        "id": "vIarkLsb3sIN",
        "outputId": "9a83f6d3-d031-4c0c-f890-03c16832abf5"
      },
      "execution_count": null,
      "outputs": [
        {
          "output_type": "execute_result",
          "data": {
            "text/plain": [
              "datetime.datetime(2025, 6, 15, 14, 30, 10, 200010)"
            ]
          },
          "metadata": {},
          "execution_count": 5
        }
      ]
    },
    {
      "cell_type": "code",
      "execution_count": null,
      "metadata": {
        "id": "ZvgssjdrEkzU"
      },
      "outputs": [],
      "source": [
        "from datetime import datetime # Import the 'datetime' class from the 'datetime' module.\n",
        "                             # This class is essential for working with dates and times."
      ]
    },
    {
      "cell_type": "code",
      "source": [
        "example_datetime=datetime(2025,6,15,14,30,10,200010)\n",
        "example_datetime"
      ],
      "metadata": {
        "colab": {
          "base_uri": "https://localhost:8080/"
        },
        "id": "GeFNR53gE3zy",
        "outputId": "796b89fe-226d-47da-a580-18c8bd9c4265"
      },
      "execution_count": null,
      "outputs": [
        {
          "output_type": "execute_result",
          "data": {
            "text/plain": [
              "datetime.datetime(2025, 6, 15, 14, 30, 10, 200010)"
            ]
          },
          "metadata": {},
          "execution_count": 7
        }
      ]
    },
    {
      "cell_type": "markdown",
      "source": [
        "## Datetime Object From A String\n",
        "#### The <font color='green'>strptime()</font> method of a datetime object converts a string into a datetime object. This method requires two string arguments: the date's string representation and the format of the representation as arguments.\n",
        "\n",
        "#### The format string specifies how the date and time components are structured. Year, month, and day arguments (denoted as `y`, `m`, and `d` respectively) must be preceded by a percent sign. A capital `Y` signifies a four-digit year. For time, hours, minutes, and seconds are represented by the capital letters `H`, `M`, and `S` respectively. Microseconds are an attribute of seconds as 'S.%f'. Additionally, the characters used to separate the arguments within the string must be explicitly defined in the format.\n",
        "\n",
        "#### In this example the year is four digits and separated from the month and day by a dash. Hours, minutes, and seconds are separated by a backslash. The separators must be included in the format string.\n",
        "\n",
        "\n",
        "```\n",
        "string_date='2025-06-15 14/30/10.200010'\n",
        "format_string_date='%Y-%m-%d %H/%M/%S.%f'\n",
        "```\n",
        "\n"
      ],
      "metadata": {
        "id": "C_zwpRKra1sN"
      }
    },
    {
      "cell_type": "code",
      "source": [
        "# Define a string variable that holds a date and time in a specific, custom format.\n",
        "# Note the combination of hyphens, spaces, slashes, and a period as separators.\n",
        "string_date = '2025-06-15 14/30/10.200010'\n",
        "\n",
        "# Define a format string that precisely matches the structure of 'string_date'.\n",
        "# Each '%' code represents a specific component of the date/time:\n",
        "# %Y: Full year with century (e.g., 2025)\n",
        "# %m: Month as a zero-padded decimal number (e.g., 06)\n",
        "# %d: Day of the month as a zero-padded decimal number (e.g., 15)\n",
        "# %H: Hour (24-hour clock) as a zero-padded decimal number (e.g., 14)\n",
        "# %M: Minute as a zero-padded decimal number (e.g., 30)\n",
        "# %S: Second as a zero-padded decimal number (e.g., 10)\n",
        "# %f: Microsecond as a decimal number, zero-padded on the left (e.g., 200010)\n",
        "# IMPORTANT: The literal characters (hyphens, spaces, slashes, periods) in the format string\n",
        "# must exactly match those in the 'string_date' for successful parsing.\n",
        "format_string_date = '%Y-%m-%d %H/%M/%S.%f'\n",
        "\n",
        "# Use the 'strptime()' class method of 'datetime' to parse the 'string_date'.\n",
        "# 'strptime()' (string parse time) takes the date string and its corresponding format string\n",
        "# as arguments, and attempts to convert the string into a 'datetime' object.\n",
        "# If the 'string_date' does not exactly match the 'format_string_date', a ValueError will be raised.\n",
        "time_stamp = datetime.strptime(string_date, format_string_date)\n",
        "\n",
        "# Display the resulting 'datetime' object.\n",
        "# When a datetime object is printed or evaluated, Python presents it in a standard\n",
        "# format (YYYY-MM-DD HH:MM:SS.microseconds), regardless of the input format.\n",
        "print(time_stamp)"
      ],
      "metadata": {
        "colab": {
          "base_uri": "https://localhost:8080/"
        },
        "id": "_jLDhbjZa_75",
        "outputId": "4e760c5b-6e0c-4f57-9be0-6ab8c7a0e4ab"
      },
      "execution_count": null,
      "outputs": [
        {
          "output_type": "stream",
          "name": "stdout",
          "text": [
            "2025-06-15 14:30:10.200010\n"
          ]
        }
      ]
    },
    {
      "cell_type": "markdown",
      "source": [
        "## String From A datetime Object\n",
        "#### A datetime object can be converted to a string using either the built-in Python function <font color='green'>str()</font> or the <font color='green'>strptime()</font> method of the datetime object.\n",
        "\n",
        "#### The <font color='green'>str()</font> function outputs a string where dashes separate years, months, and days, and colons separate hours, minutes, and seconds.\n",
        "\n",
        "\n",
        "\n",
        "```\n",
        "builtin_function=str(time_stamp)\n",
        "```\n",
        "\n",
        "\n",
        "\n",
        "#### In contrast, the <font color='green'>strptime()</font> method requires a format string.  Here the previously defined format string of <font color='green'>time_stamp</font> is used.\n",
        "\n",
        "\n",
        "```\n",
        "datetime_method=time_stamp.strftime(format_string_date)\n",
        "```\n",
        "\n"
      ],
      "metadata": {
        "id": "mQwTbFaSnpsS"
      }
    },
    {
      "cell_type": "code",
      "source": [
        "# Assuming 'time_stamp' is a datetime object (e.g., from datetime.strptime)\n",
        "# and 'format_string_date' is the format string used for parsing or desired for formatting.\n",
        "\n",
        "# Convert the 'time_stamp' datetime object into a string using the built-in 'str()' function.\n",
        "# The 'str()' function provides a default, human-readable, and generally unambiguous\n",
        "# string representation of the datetime object.\n",
        "# It does not allow custom formatting.\n",
        "builtin_function = str(time_stamp)\n",
        "\n",
        "# Convert the 'time_stamp' datetime object into a string using the 'strftime()' method.\n",
        "# 'strftime()' (string format time) allows you to format the datetime object\n",
        "# into a string according to a specified format code string ('format_string_date').\n",
        "# This gives precise control over how the date and time components appear in the output string.\n",
        "datetime_method = time_stamp.strftime(format_string_date)\n",
        "\n",
        "# Display both resulting strings.\n",
        "# You will likely observe that 'builtin_function' uses a default format (e.g., YYYY-MM-DD HH:MM:SS.ffffff)\n",
        "# while 'datetime_method' uses the specific format you defined in 'format_string_date'.\n",
        "print(f\"Using str(): {builtin_function}\")\n",
        "print(f\"Using strftime(): {datetime_method}\")\n",
        "\n",
        "# For context, if time_stamp was '2025-06-15 14:30:10.200010'\n",
        "# and format_string_date was '%Y-%m-%d %H/%M/%S.%f':\n",
        "# builtin_function would likely be '2025-06-15 14:30:10.200010'\n",
        "# datetime_method would be '2025-06-15 14/30/10.200010' (matches original input string format)"
      ],
      "metadata": {
        "colab": {
          "base_uri": "https://localhost:8080/"
        },
        "id": "YeXL23jjoR9Y",
        "outputId": "9e4aab67-00b2-4b8c-d6b6-3aa4a4ffbe96"
      },
      "execution_count": null,
      "outputs": [
        {
          "output_type": "stream",
          "name": "stdout",
          "text": [
            "Using str(): 2025-06-15 14:30:10.200010\n",
            "Using strftime(): 2025-06-15 14/30/10.200010\n"
          ]
        }
      ]
    },
    {
      "cell_type": "markdown",
      "source": [
        "## Some Datetime Attributes\n",
        "#### Useful attributes of a datetime object are the:\n",
        "\n",
        "\n",
        "*  year\n",
        "*  month\n",
        "*  day\n",
        "*  hour\n",
        "*  second\n",
        "*  microsecond\n",
        "\n",
        "#### The attribute are accessed with the dot notation.  These attributed are demonstrated for <font color='green'>time_stamp</font> by iterating through the results of zipping the lists <font color='green'>attribute_list</font> and <font color='green'>attribute_names</font>.\n"
      ],
      "metadata": {
        "id": "0g1eruiol995"
      }
    },
    {
      "cell_type": "code",
      "source": [
        "# Assuming 'time_stamp' is an existing datetime object, for example,\n",
        "# created as: time_stamp = datetime(2025, 6, 15, 14, 30, 10, 200010)\n",
        "\n",
        "# Create a list containing individual time components by accessing\n",
        "# specific attributes (year, month, day, hour, minute, second, microsecond)\n",
        "# directly from the 'time_stamp' datetime object.\n",
        "attribute_list = [time_stamp.year, time_stamp.month, time_stamp.day,\n",
        "                  time_stamp.hour, time_stamp.minute, time_stamp.second,\n",
        "                  time_stamp.microsecond]\n",
        "\n",
        "# Create a corresponding list of descriptive names for each attribute.\n",
        "attribute_name = ['Year', 'Month', 'Day',\n",
        "                  'Hour', 'Minute', 'Second',\n",
        "                  'Micro Second']\n",
        "\n",
        "# Iterate simultaneously over both 'attribute_list' and 'attribute_name'\n",
        "# using the 'zip()' function.\n",
        "# In each iteration, 'attribute' will get a value from 'attribute_list'\n",
        "# and 'name' will get the corresponding string from 'attribute_name'.\n",
        "for attribute, name in zip(attribute_list, attribute_name):\n",
        "  # Print the name of the attribute followed by its extracted value.\n",
        "  # A colon and a space are used as separators for clear output.\n",
        "  print(name + ': ', attribute)"
      ],
      "metadata": {
        "colab": {
          "base_uri": "https://localhost:8080/"
        },
        "id": "kGWIVtDIcDAa",
        "outputId": "1e18a0fa-3627-43c7-ea78-d12e774bf84b"
      },
      "execution_count": null,
      "outputs": [
        {
          "output_type": "stream",
          "name": "stdout",
          "text": [
            "Year:  2025\n",
            "Month:  6\n",
            "Day:  15\n",
            "Hour:  14\n",
            "Minute:  30\n",
            "Second:  10\n",
            "Micro Second:  200010\n"
          ]
        }
      ]
    },
    {
      "cell_type": "markdown",
      "source": [
        "## date() Object\n",
        "#### The <font color='green'>date()</font> is returned with the datetime method <font color='green'>date()</font> or is created with the date module of the datetime library. A date object includes the year, month, and day of datetime objects.  If the date module is imported, the module can be created by passing year, month, and day as arguments.\n",
        "\n",
        "\n"
      ],
      "metadata": {
        "id": "HSUbQHMKRmWs"
      }
    },
    {
      "cell_type": "code",
      "source": [
        "time_stamp.date()"
      ],
      "metadata": {
        "colab": {
          "base_uri": "https://localhost:8080/"
        },
        "id": "1vx1IHePRSb4",
        "outputId": "92aaea6a-73d1-4454-fa63-8397a745794b"
      },
      "execution_count": null,
      "outputs": [
        {
          "output_type": "execute_result",
          "data": {
            "text/plain": [
              "datetime.date(2025, 6, 15)"
            ]
          },
          "metadata": {},
          "execution_count": 9
        }
      ]
    },
    {
      "cell_type": "markdown",
      "source": [
        "### Import date From datetime"
      ],
      "metadata": {
        "id": "wZ-i6Q19R2dU"
      }
    },
    {
      "cell_type": "code",
      "source": [
        "from datetime import date\n",
        "#date(time_stamp.year,time_stamp.month,time_stamp.day)"
      ],
      "metadata": {
        "id": "e2MUSzLWSDGO"
      },
      "execution_count": null,
      "outputs": []
    },
    {
      "cell_type": "markdown",
      "source": [
        "## Subtracting And Adding datetime Objects"
      ],
      "metadata": {
        "id": "2XCzBRTwtNVT"
      }
    },
    {
      "cell_type": "markdown",
      "source": [
        "### Subtracting\n",
        "#### One datetime or date object can be subtracted from another.  The result is the datetime method <font color='green'>timedelta()</font> with specified values of days, seconds, and microseconds.  The variable <font color='green'>date_difference</font> is assigned time_stamp less  April 15$^{th}$ 2025.\n",
        "\n",
        "\n",
        "```\n",
        "date_differences=time_stamp-datetime(2025,4,15)\n",
        "```\n",
        "\n",
        "\n",
        "#### The attributes of <font color='green'>date_difference</font> are days, seconds, and microseconds.  The seconds are converted to hours and minutes and are displayed along with days."
      ],
      "metadata": {
        "id": "nhc63V7cteE8"
      }
    },
    {
      "cell_type": "code",
      "source": [
        "# Assuming 'time_stamp' is already a datetime object as:\n",
        "# time_stamp = datetime(2025, 6, 15, 14, 30, 10, 200010)\n",
        "\n",
        "# Calculate the difference between 'time_stamp' and another specific datetime.\n",
        "# When no time components are provided to the datetime constructor, they default to midnight (00:00:00.000000).\n",
        "# So, datetime(2025, 4, 15) represents April 15, 2025, at 12:00:00 AM.\n",
        "date_differences = time_stamp - datetime(2025, 4, 15)\n",
        "\n",
        "# Display the result of the subtraction.\n",
        "# Subtracting two datetime objects yields a 'timedelta' object,\n",
        "# which represents a duration of time.\n",
        "print(date_differences)\n",
        "\n",
        "# --- Calculation Breakdown for the example output ---\n",
        "# From April 15, 2025 (00:00:00) to June 15, 2025 (14:30:10.200010):\n",
        "# Remaining days in April: 30 (total days in April) - 15 (start day) = 15 days\n",
        "# Days in May: 31 days\n",
        "# Days in June: 15 days (up to the 15th)\n",
        "# Total days: 15 + 31 + 15 = 61 days\n",
        "# The time component (14:30:10.200010) is the time difference from midnight."
      ],
      "metadata": {
        "colab": {
          "base_uri": "https://localhost:8080/"
        },
        "id": "TZRrt7anp0Ye",
        "outputId": "92513c5c-e930-44d8-fd9e-1144a74cd2fe"
      },
      "execution_count": null,
      "outputs": [
        {
          "output_type": "stream",
          "name": "stdout",
          "text": [
            "61 days, 14:30:10.200010\n"
          ]
        }
      ]
    },
    {
      "cell_type": "code",
      "source": [
        "# Extract the number of whole days from the 'timedelta' object.\n",
        "# The '.days' attribute directly provides the total number of full days in the duration.\n",
        "difference_in_days = date_differences.days\n",
        "\n",
        "# Calculate the fractional part of the hours from the 'timedelta' object's seconds.\n",
        "# The '.seconds' attribute of a timedelta object returns the number of seconds\n",
        "# *within the part of the duration that is less than a day*.\n",
        "# It does NOT include seconds from the full days.\n",
        "# To convert these remaining seconds into hours, divide by (60 seconds * 60 minutes).\n",
        "difference_in_hours = date_differences.seconds / (60 * 60)\n",
        "\n",
        "# Calculate the fractional part of the minutes from the 'timedelta' object's seconds.\n",
        "# Similar to hours, '.seconds' only provides seconds less than a day.\n",
        "# To convert these remaining seconds into minutes, divide by 60 seconds.\n",
        "difference_in_minutes = date_differences.seconds / 60\n",
        "\n",
        "# Print all three calculated differences.\n",
        "# You will see the total days, and the fractional hours/minutes of the remaining time.\n",
        "print(difference_in_days, difference_in_hours, difference_in_minutes)"
      ],
      "metadata": {
        "colab": {
          "base_uri": "https://localhost:8080/"
        },
        "id": "WauRVs90tE36",
        "outputId": "485b4a72-de69-49b6-ba0b-4abc594d4745"
      },
      "execution_count": null,
      "outputs": [
        {
          "output_type": "stream",
          "name": "stdout",
          "text": [
            "61 14.502777777777778 870.1666666666666\n"
          ]
        }
      ]
    },
    {
      "cell_type": "markdown",
      "source": [
        "### timedelta() Method\n",
        "#### The <font color='green'>timedelta()</font> method allows for the addition or subtraction of time from a datetime object. This method's parameters are weeks, days, hours, minutes, seconds, microseconds, and milliseconds.  The default values of the arguments are all zero.  The following examples demonstrate the use of this method after it has been imported, rather than using the datetime prefix.\n"
      ],
      "metadata": {
        "id": "QULvuuNtu1cS"
      }
    },
    {
      "cell_type": "code",
      "source": [
        "from datetime import timedelta"
      ],
      "metadata": {
        "id": "g4NLLl23s6e0"
      },
      "execution_count": null,
      "outputs": []
    },
    {
      "cell_type": "code",
      "source": [
        "print(time_stamp)"
      ],
      "metadata": {
        "colab": {
          "base_uri": "https://localhost:8080/"
        },
        "id": "E0CA1AGlBnEY",
        "outputId": "861130d8-95c8-4c51-9e4e-d6a52db2bab9"
      },
      "execution_count": null,
      "outputs": [
        {
          "output_type": "stream",
          "name": "stdout",
          "text": [
            "2025-06-15 14:30:10.200010\n"
          ]
        }
      ]
    },
    {
      "cell_type": "code",
      "source": [
        "# Subtract timedelta() amount\n",
        "time_stamp-timedelta(days=61,seconds=52210, microseconds=200010)"
      ],
      "metadata": {
        "colab": {
          "base_uri": "https://localhost:8080/"
        },
        "id": "m9YSN7NLXAI2",
        "outputId": "f21ef531-fdf5-42f3-f694-84c484e2966d"
      },
      "execution_count": null,
      "outputs": [
        {
          "output_type": "execute_result",
          "data": {
            "text/plain": [
              "datetime.datetime(2025, 4, 15, 0, 0)"
            ]
          },
          "metadata": {},
          "execution_count": 15
        }
      ]
    },
    {
      "cell_type": "code",
      "source": [
        "# Add timedelta() amount\n",
        "datetime(2025,4,15)+timedelta(days=61, seconds=52210, microseconds=200010)"
      ],
      "metadata": {
        "colab": {
          "base_uri": "https://localhost:8080/"
        },
        "id": "l9lFxs3aqrZT",
        "outputId": "10ebdfd8-056a-49a0-d62e-0be487940c0f"
      },
      "execution_count": null,
      "outputs": [
        {
          "output_type": "execute_result",
          "data": {
            "text/plain": [
              "datetime.datetime(2025, 6, 15, 14, 30, 10, 200010)"
            ]
          },
          "metadata": {},
          "execution_count": 16
        }
      ]
    },
    {
      "cell_type": "markdown",
      "source": [
        "## relativedelta From datetutil Library More Convenient Than timedelta() Method\n",
        "#### The <font color='green'>dateutil</font> module builds upon the datetime module, offering an enhanced <font color='green'>relativedelta()</font> method. This method expands on <font color='green'>timedelta</font> by providing additional parameters; most notably for our use is year and month."
      ],
      "metadata": {
        "id": "o0xRq6e62ZEh"
      }
    },
    {
      "cell_type": "code",
      "source": [
        "from dateutil.relativedelta import relativedelta"
      ],
      "metadata": {
        "id": "3gxu5BRP26C7"
      },
      "execution_count": null,
      "outputs": []
    },
    {
      "cell_type": "code",
      "source": [
        "print(time_stamp)"
      ],
      "metadata": {
        "colab": {
          "base_uri": "https://localhost:8080/"
        },
        "id": "6nn-QuyPCNw4",
        "outputId": "91350930-8395-4c5e-a3f9-3e073771ae46"
      },
      "execution_count": null,
      "outputs": [
        {
          "output_type": "stream",
          "name": "stdout",
          "text": [
            "2025-06-15 14:30:10.200010\n"
          ]
        }
      ]
    },
    {
      "cell_type": "code",
      "source": [
        "# Subtract two months using relativedelta()\n",
        "time_stamp-relativedelta(months=2)"
      ],
      "metadata": {
        "colab": {
          "base_uri": "https://localhost:8080/"
        },
        "id": "bVWoJAIg3DK1",
        "outputId": "ac978ae2-281e-4b26-e86e-266203c0ba6b"
      },
      "execution_count": null,
      "outputs": [
        {
          "output_type": "execute_result",
          "data": {
            "text/plain": [
              "datetime.datetime(2025, 4, 15, 14, 30, 10, 200010)"
            ]
          },
          "metadata": {},
          "execution_count": 19
        }
      ]
    },
    {
      "cell_type": "code",
      "source": [
        "# Add two years using relativedelta()\n",
        "time_stamp+relativedelta(years=2)"
      ],
      "metadata": {
        "colab": {
          "base_uri": "https://localhost:8080/"
        },
        "outputId": "54cf8340-e7bf-40d7-f950-7f632d216acf",
        "id": "V8ufYTB33e2X"
      },
      "execution_count": null,
      "outputs": [
        {
          "output_type": "execute_result",
          "data": {
            "text/plain": [
              "datetime.datetime(2027, 6, 15, 14, 30, 10, 200010)"
            ]
          },
          "metadata": {},
          "execution_count": 20
        }
      ]
    },
    {
      "cell_type": "code",
      "source": [
        "# Subtract 61 days using relativedelta()\n",
        "time_stamp-relativedelta(days=61)"
      ],
      "metadata": {
        "colab": {
          "base_uri": "https://localhost:8080/"
        },
        "outputId": "54968dbe-41f8-48c9-e939-e12f1fbc42da",
        "id": "xjqcKxN63lVU"
      },
      "execution_count": null,
      "outputs": [
        {
          "output_type": "execute_result",
          "data": {
            "text/plain": [
              "datetime.datetime(2025, 4, 15, 14, 30, 10, 200010)"
            ]
          },
          "metadata": {},
          "execution_count": 21
        }
      ]
    },
    {
      "cell_type": "markdown",
      "source": [
        "## calendar Module monthrange() Method\n",
        "#### The <font color='green'>monthrange()</font> method, found in the <font color='green'>calendar</font> module, takes the year and month as parameters. It returns two values: the weekday of the first day of the month and the last calendar day of the month. The <font color='green'>calendar</font> module is imported and the function is demonstrated with the datetime object <font color='green'>time_stamp</font>.\n"
      ],
      "metadata": {
        "id": "e6BqOCl9Qj8F"
      }
    },
    {
      "cell_type": "code",
      "source": [
        "import calendar\n",
        "calendar.monthrange(time_stamp.year,time_stamp.month)"
      ],
      "metadata": {
        "colab": {
          "base_uri": "https://localhost:8080/"
        },
        "id": "AspIAwWCSiOm",
        "outputId": "3ddaa168-acb1-43e4-da8c-7fe2b591a307"
      },
      "execution_count": null,
      "outputs": [
        {
          "output_type": "execute_result",
          "data": {
            "text/plain": [
              "(calendar.SUNDAY, 30)"
            ]
          },
          "metadata": {},
          "execution_count": 22
        }
      ]
    },
    {
      "cell_type": "code",
      "source": [
        "import calendar\n",
        "from calendar import monthrange\n",
        "monthrange(time_stamp.year,time_stamp.month)"
      ],
      "metadata": {
        "colab": {
          "base_uri": "https://localhost:8080/"
        },
        "outputId": "e605ec11-35cd-4b10-9f1e-cb2a2151092e",
        "id": "WgCfVK_OadNt"
      },
      "execution_count": null,
      "outputs": [
        {
          "output_type": "execute_result",
          "data": {
            "text/plain": [
              "(calendar.SUNDAY, 30)"
            ]
          },
          "metadata": {},
          "execution_count": 23
        }
      ]
    }
  ]
}