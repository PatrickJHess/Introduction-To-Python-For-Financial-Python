{
 "cells": [
  {
   "cell_type": "markdown",
   "metadata": {
    "id": "6ttlGkSoPYDR"
   },
   "source": [
    "<img src='https://docs.google.com/drawings/d/e/2PACX-1vSOMPMjnrXKXQBVtI8QzRwsQ_ReVMHN12SVPyynW1Ip-xH8XZeD2N5uI3l636tNar-_KUEBNHhFlKZ2/pub?w=960&h=720'>"
   ]
  },
  {
   "cell_type": "markdown",
   "metadata": {
    "id": "QbO2UYV7B1S9"
   },
   "source": [
    "# ***A Quick Introduction To Dictionaries***\n",
    "#### Dictionaries store data as key:value pairs. Much like a physical dictionary where a definition is found for a word, Python dictionaries hold data (the value) associated with a label (key). Like lists and tuples, dictionaries are iterable and can be created in multiple ways: using curly brackets, the <font color='green'>dict()</font> constructor, or dictionary comprehension. Dictionary keys must be unique and immutable, but the data associated with those keys is mutable.  key:value pairs may be deleted or added.\n",
    "\n",
    "\n",
    "```\n",
    "# Define x, y and z lists\n",
    "x=[1,2]\n",
    "y=[3,4]\n",
    "z=[5,6]\n",
    "\n",
    "# Method 1: Create an empty dictionary using curly braces\n",
    "first_dict = {}\n",
    "\n",
    "# Add a key:value pair to the dictionary dynamically\n",
    "# The string 'x' is created on-the-fly as the key and assigned the value stored in variable x\n",
    "# This demonstrates how dictionaries can be built incrementally\n",
    "first_dict['x'] = x  # key value created on the fly\n",
    "\n",
    "```"
   ]
  },
  {
   "cell_type": "code",
   "execution_count": 1,
   "metadata": {
    "colab": {
     "base_uri": "https://localhost:8080/"
    },
    "id": "yfGSRjJlWuMh",
    "outputId": "30c32b13-0bc7-44fa-c989-7132d0707553"
   },
   "outputs": [
    {
     "name": "stdout",
     "output_type": "stream",
     "text": [
      "{'x': [1, 2]}\n"
     ]
    }
   ],
   "source": [
    "# Define x, y and z lists\n",
    "x=[1,2]\n",
    "y=[3,4]\n",
    "z=[5,6]\n",
    "\n",
    "# Method 1: Create an empty dictionary using curly braces\n",
    "first_dict = {}\n",
    "\n",
    "# Add a key:value pair to the dictionary dynamically\n",
    "# The string 'x' is created on-the-fly as the key and assigned the value stored in variable x\n",
    "# This demonstrates how dictionaries can be built incrementally\n",
    "first_dict['x'] = x  # key value created on the fly\n",
    "print(first_dict)"
   ]
  },
  {
   "cell_type": "markdown",
   "metadata": {
    "id": "7dw57PJDbFEh"
   },
   "source": [
    "```\n",
    "# Method 2: Use dict() constructor\n",
    "second_dict = {}\n",
    "\n",
    "# Add  key:value pairs to the dictionary as x=x, y=y in dict()\n",
    "second_dict = dict(x=x,y=y)\n",
    "print(first_dict,second_dict)\n",
    "\n",
    "```"
   ]
  },
  {
   "cell_type": "code",
   "execution_count": 2,
   "metadata": {
    "colab": {
     "base_uri": "https://localhost:8080/"
    },
    "id": "T3YBlYRvrdGG",
    "outputId": "e1b95382-bab5-40f4-ba6f-c7edc93c0d5b"
   },
   "outputs": [
    {
     "name": "stdout",
     "output_type": "stream",
     "text": [
      "{'x': [1, 2]} {'x': [1, 2], 'y': [3, 4]}\n"
     ]
    }
   ],
   "source": [
    "# Method 2: Use dict() constructor\n",
    "second_dict = {}\n",
    "\n",
    "# Add  key:value pairs to the dictionary as x=x, y=y in dict()\n",
    "second_dict = dict(x=x,y=y)\n",
    "print(first_dict,second_dict)"
   ]
  },
  {
   "cell_type": "markdown",
   "metadata": {
    "id": "pNsfJ0zCrTsl"
   },
   "source": [
    "\n",
    "#### The <font color='green'>zip()</font> function is particularly useful for the third method as it pairs up corresponding elements from the keys list <font color='green'>['x','y','z']</font> with the value lists <font color='green'>[x,y,z]</font>, creating tuples that the dictionary comprehension then converts into key:value pairs.\n",
    "\n",
    "```\n",
    "# Method 3: Create dictionary using dictionary comprehension\n",
    "# zip() function pairs up elements from two lists: keys ['x','y','z'] with values [x,y,z]\n",
    "# Dictionary comprehension {key:value for key,value in iterable} creates the dictionary in one line\n",
    "# This is a more concise way to create dictionaries from paired data\n",
    "third_dict = {key: value for key, value in zip(['x', 'y', 'z'], [x, y, z])}\n",
    "\n",
    "# Print all dictionaries to compare the results\n",
    "# All methods create dictionaries with string keys and list values\n",
    "print(first_dict, second_dict, third_dict)\n",
    "\n",
    "```\n"
   ]
  },
  {
   "cell_type": "code",
   "execution_count": 3,
   "metadata": {
    "colab": {
     "base_uri": "https://localhost:8080/"
    },
    "id": "tWh-HeJwCNyx",
    "outputId": "4962e647-9874-4c45-dd7d-ae5fd39f46e8"
   },
   "outputs": [
    {
     "name": "stdout",
     "output_type": "stream",
     "text": [
      "{'x': [1, 2]} {'x': [1, 2], 'y': [3, 4]} {'x': [1, 2], 'y': [3, 4], 'z': [5, 6]}\n"
     ]
    }
   ],
   "source": [
    "# Method 3: Create dictionary using dictionary comprehension\n",
    "# zip() function pairs up elements from two lists: keys ['x','y','z'] with values [x,y,z]\n",
    "# Dictionary comprehension {key:value for key,value in iterable} creates the dictionary in one line\n",
    "# This is a more concise way to create dictionaries from paired data\n",
    "third_dict = {key: value for key, value in zip(['x', 'y', 'z'], [x, y, z])}\n",
    "\n",
    "# Print all dictionaries to compare the results\n",
    "# All methods create dictionaries with string keys and list values\n",
    "print(first_dict, second_dict, third_dict)"
   ]
  },
  {
   "cell_type": "markdown",
   "metadata": {
    "id": "m6JhmSkD9p1z"
   },
   "source": [
    "#### All methods are valid approaches, with dictionary comprehension being more Pythonic when you have all the data available at once. Each method creates dictionaries with string keys and list values."
   ]
  },
  {
   "cell_type": "markdown",
   "metadata": {
    "id": "YijvXWMpaI3J"
   },
   "source": [
    "## ***Access Keys With <font color='green'>keys()</font> Method***"
   ]
  },
  {
   "cell_type": "code",
   "execution_count": 4,
   "metadata": {
    "colab": {
     "base_uri": "https://localhost:8080/"
    },
    "id": "JGVFqSy5DWPr",
    "outputId": "e8ff5ae3-739d-453b-d6e3-73b2dc942d68"
   },
   "outputs": [
    {
     "data": {
      "text/plain": [
       "dict_keys(['x', 'y', 'z'])"
      ]
     },
     "execution_count": 4,
     "metadata": {},
     "output_type": "execute_result"
    }
   ],
   "source": [
    "# Access all keys from the dictionary using the keys() method\n",
    "# This returns a dict_keys object containing all the keys: 'x', 'y', 'z'\n",
    "# Note: dict_keys is a view object, not a regular list\n",
    "third_dict.keys()"
   ]
  },
  {
   "cell_type": "markdown",
   "metadata": {
    "id": "rtZx_gKfaccv"
   },
   "source": [
    "## ***Access Values With <font color='green'>values()</font> Method***"
   ]
  },
  {
   "cell_type": "code",
   "execution_count": 5,
   "metadata": {
    "colab": {
     "base_uri": "https://localhost:8080/"
    },
    "id": "d7NjW7iLEerC",
    "outputId": "bdc74e11-e725-41b4-83f0-b8c39eb27f27"
   },
   "outputs": [
    {
     "data": {
      "text/plain": [
       "dict_values([[1, 2], [3, 4], [5, 6]])"
      ]
     },
     "execution_count": 5,
     "metadata": {},
     "output_type": "execute_result"
    }
   ],
   "source": [
    "# Access all values from the dictionary using the values() method\n",
    "# This returns a dict_values object containing all the values stored in the dictionary\n",
    "# Based on previous code, this would contain the lists: x, y, z\n",
    "# Note: dict_values is also a view object, not a regular list\n",
    "third_dict.values()"
   ]
  },
  {
   "cell_type": "markdown",
   "metadata": {
    "id": "9Gg8RVZ0aphR"
   },
   "source": [
    "## ***Iterate Through Keys And Access Values***"
   ]
  },
  {
   "cell_type": "code",
   "execution_count": 6,
   "metadata": {
    "colab": {
     "base_uri": "https://localhost:8080/"
    },
    "id": "UmB32zF2aw9o",
    "outputId": "429bc449-bf04-406d-ef62-b8c4a8f7857e"
   },
   "outputs": [
    {
     "name": "stdout",
     "output_type": "stream",
     "text": [
      "x [1, 2]\n",
      "y [3, 4]\n",
      "z [5, 6]\n"
     ]
    }
   ],
   "source": [
    "# Iterate through all keys in the dictionary\n",
    "for key in third_dict.keys():\n",
    "    # Print each key alongside its corresponding value\n",
    "    # Uses dictionary indexing [key] to retrieve the value for each key\n",
    "    # This print displays each key:value pair on a separate line for each iteration\n",
    "    print(key, third_dict[key])"
   ]
  },
  {
   "cell_type": "markdown",
   "metadata": {
    "id": "T31yXSRQbKBN"
   },
   "source": [
    "## ***The <font color='green'>get()</font> Method Doesn't Return An Error If Key Is Missing.***\n",
    "\n",
    "```\n",
    "#Demonstrate UNSAFE dictionary key access method\n",
    "for key in ['x', 'y', 'z', 'w']:\n",
    "    # Unsafe method: direct indexing raises KeyError if key doesn't exist\n",
    "    # This will work fine for 'x', 'y', 'z' but will raise a KeyError for 'w'\n",
    "    # The program will crash when it tries to access the non-existent key 'w'\n",
    "    print(third_dict[key])  # Returns an error for w\n",
    "\n",
    "```"
   ]
  },
  {
   "cell_type": "code",
   "execution_count": 7,
   "metadata": {
    "colab": {
     "base_uri": "https://localhost:8080/",
     "height": 228
    },
    "id": "nas3ineSbPsz",
    "outputId": "34854afe-2b56-4eee-d232-ea7cc6174423"
   },
   "outputs": [
    {
     "name": "stdout",
     "output_type": "stream",
     "text": [
      "[1, 2]\n",
      "[3, 4]\n",
      "[5, 6]\n"
     ]
    },
    {
     "ename": "KeyError",
     "evalue": "'w'",
     "output_type": "error",
     "traceback": [
      "\u001b[0;31m---------------------------------------------------------------------------\u001b[0m",
      "\u001b[0;31mKeyError\u001b[0m                                  Traceback (most recent call last)",
      "\u001b[0;32m/tmp/ipykernel_35503/2772980581.py\u001b[0m in \u001b[0;36m<module>\u001b[0;34m\u001b[0m\n\u001b[1;32m      5\u001b[0m     \u001b[0;31m# This will work fine for 'x', 'y', 'z' but will raise a KeyError for 'w'\u001b[0m\u001b[0;34m\u001b[0m\u001b[0;34m\u001b[0m\u001b[0m\n\u001b[1;32m      6\u001b[0m     \u001b[0;31m# The program will crash when it tries to access the non-existent key 'w'\u001b[0m\u001b[0;34m\u001b[0m\u001b[0;34m\u001b[0m\u001b[0m\n\u001b[0;32m----> 7\u001b[0;31m     \u001b[0mprint\u001b[0m\u001b[0;34m(\u001b[0m\u001b[0mthird_dict\u001b[0m\u001b[0;34m[\u001b[0m\u001b[0mkey\u001b[0m\u001b[0;34m]\u001b[0m\u001b[0;34m)\u001b[0m  \u001b[0;31m# Returns an error for w\u001b[0m\u001b[0;34m\u001b[0m\u001b[0;34m\u001b[0m\u001b[0m\n\u001b[0m",
      "\u001b[0;31mKeyError\u001b[0m: 'w'"
     ]
    }
   ],
   "source": [
    "#Demonstrate UNSAFE dictionary key access method\n",
    "for key in ['x', 'y', 'z', 'w']:\n",
    "\n",
    "    # Unsafe method: direct indexing raises KeyError if key doesn't exist\n",
    "    # This will work fine for 'x', 'y', 'z' but will raise a KeyError for 'w'\n",
    "    # The program will crash when it tries to access the non-existent key 'w'\n",
    "    print(third_dict[key])  # Returns an error for w"
   ]
  },
  {
   "cell_type": "code",
   "execution_count": null,
   "metadata": {
    "colab": {
     "base_uri": "https://localhost:8080/"
    },
    "id": "G6uAW-IgwHMX",
    "outputId": "4c10a513-a98c-420c-d83b-ceb74a6c93cd"
   },
   "outputs": [
    {
     "name": "stdout",
     "output_type": "stream",
     "text": [
      "[1, 2]\n",
      "[3, 4]\n",
      "[5, 6]\n",
      "None\n"
     ]
    }
   ],
   "source": [
    "#Demonstrate safe dictionary key access method\n",
    "for key in ['x', 'y', 'z', 'w']:\n",
    "    # Safe method: get() returns None if key doesn't exist\n",
    "    # For keys 'x', 'y', 'z' it returns their values\n",
    "    # For key 'w' (which doesn't exist), it returns None instead of crashing\n",
    "    print(third_dict.get(key))  # Returns None for w"
   ]
  },
  {
   "cell_type": "markdown",
   "metadata": {
    "id": "ytHrUXIxc_OP"
   },
   "source": [
    "## ***The <font color='green'>items()</font> Method Returns key:value As A List Of Tuples***\n"
   ]
  },
  {
   "cell_type": "code",
   "execution_count": null,
   "metadata": {
    "colab": {
     "base_uri": "https://localhost:8080/"
    },
    "id": "5ddFPRaYcr4A",
    "outputId": "46255626-eb31-401f-8eeb-fe5bf257b5e0"
   },
   "outputs": [
    {
     "data": {
      "text/plain": [
       "dict_items([('x', [1, 2]), ('y', [3, 4]), ('z', [5, 6])])"
      ]
     },
     "execution_count": 9,
     "metadata": {},
     "output_type": "execute_result"
    }
   ],
   "source": [
    "third_dict.items()"
   ]
  },
  {
   "cell_type": "markdown",
   "metadata": {
    "id": "cYhGfh0veD0V"
   },
   "source": [
    "## ***The <font color='green'>items()</font> Method Equivalent To zip Of Keys And Values.***\n",
    "\n",
    "#### The <font color='green'>items()</font> method returns a view of key:value pairs as tuples, which are then unpacked into the key and value variables in the for loop. This produces the same output as the earlier key-based iteration but with better performance and style.\n",
    "\n",
    "\n",
    "```\n",
    "# Most Pythonic way to iterate through dictionary key:value pairs\n",
    "for key, value in third_dict.items():\n",
    "    # The items() method returns key:value pairs as tuples\n",
    "    # Tuple unpacking assigns each tuple to (key, value) variables\n",
    "    # This is cleaner and more efficient than accessing values by key lookup\n",
    "    print(key, value)\n",
    "\n",
    "```\n"
   ]
  },
  {
   "cell_type": "code",
   "execution_count": null,
   "metadata": {
    "colab": {
     "base_uri": "https://localhost:8080/"
    },
    "id": "d816oUIhdaTt",
    "outputId": "e6670f18-28fe-4192-b9be-5bc7e10429c1"
   },
   "outputs": [
    {
     "name": "stdout",
     "output_type": "stream",
     "text": [
      "x [1, 2]\n",
      "y [3, 4]\n",
      "z [5, 6]\n"
     ]
    }
   ],
   "source": [
    "# Most Pythonic way to iterate through dictionary key:value pairs\n",
    "for key, value in third_dict.items():\n",
    "    # The items() method returns key:value pairs as tuples\n",
    "    # Tuple unpacking assigns each tuple to (key, value) variables\n",
    "    # This is cleaner and more efficient than accessing values by key lookup\n",
    "    print(key, value)"
   ]
  },
  {
   "cell_type": "code",
   "execution_count": null,
   "metadata": {
    "colab": {
     "base_uri": "https://localhost:8080/"
    },
    "id": "zFdv90g2dteY",
    "outputId": "98802d5f-8a42-4c97-a1b7-08b4d26e6369"
   },
   "outputs": [
    {
     "name": "stdout",
     "output_type": "stream",
     "text": [
      "x [1, 2]\n",
      "y [3, 4]\n",
      "z [5, 6]\n"
     ]
    }
   ],
   "source": [
    "# Results with zip of keys and values are identical\n",
    "for key,value in zip(third_dict.keys(),third_dict.values()):\n",
    "  print(key,value)"
   ]
  },
  {
   "cell_type": "markdown",
   "metadata": {
    "id": "6a_s0C-OaQi0"
   },
   "source": [
    "## ***Removing A Key With The <font color='green'>del</font> Command And <font color='green'>pop()</font> Method***\n",
    "\n",
    "\n",
    "#### <font color='green'>del</font> permanently removes the key:value pair from the dictionary.\n",
    "\n",
    "```\n",
    "del third_dict['z']\n",
    "third_dict\n",
    "\n",
    "```"
   ]
  },
  {
   "cell_type": "code",
   "execution_count": null,
   "metadata": {
    "colab": {
     "base_uri": "https://localhost:8080/"
    },
    "id": "UDRGz-6ZaK8N",
    "outputId": "224fd342-3d3f-477b-8cc6-fbe535b3d194"
   },
   "outputs": [
    {
     "data": {
      "text/plain": [
       "{'x': [1, 2], 'y': [3, 4]}"
      ]
     },
     "execution_count": 12,
     "metadata": {},
     "output_type": "execute_result"
    }
   ],
   "source": [
    "del third_dict['z']\n",
    "third_dict"
   ]
  },
  {
   "cell_type": "markdown",
   "metadata": {
    "id": "coO-Y13vzR9v"
   },
   "source": [
    "## ***Attempting To Remove A Key When The Key Doesn't Exist***\n",
    "\n",
    "#### If you try to delete a non-existent key, it will raise a KeyError. There are two methods to avoid the error. The first method uses <font color='green'>try-except</font>.\n",
    "\n",
    "\n",
    "```\n",
    "# Method 1: Safe deletion using try-except with del statement\n",
    "try:\n",
    "    # Attempt to delete key 'z' using del statement\n",
    "    # Since 'z' has already been deleted, this will raise a KeyError\n",
    "    del third_dict['z']\n",
    "except:\n",
    "    # Catch the exception and do nothing (silent failure)\n",
    "    pass\n",
    "\n",
    "# Display the final dictionary state\n",
    "# Dictionary remains unchanged since 'z' was already deleted previously\n",
    "third_dict\n",
    "\n",
    "```"
   ]
  },
  {
   "cell_type": "code",
   "execution_count": null,
   "metadata": {
    "colab": {
     "base_uri": "https://localhost:8080/"
    },
    "id": "gkZZkIQp0jhm",
    "outputId": "a9a7ec72-f49b-48a4-eaf1-7a07b8d5b32b"
   },
   "outputs": [
    {
     "data": {
      "text/plain": [
       "{'x': [1, 2], 'y': [3, 4]}"
      ]
     },
     "execution_count": 13,
     "metadata": {},
     "output_type": "execute_result"
    }
   ],
   "source": [
    "# Method 1: Safe deletion using try-except with del statement\n",
    "try:\n",
    "    # Attempt to delete key 'z' using del statement\n",
    "    # Since 'z' has already been deleted, this will raise a KeyError\n",
    "    del third_dict['z']\n",
    "except:\n",
    "    # Catch the exception and do nothing (silent failure)\n",
    "    pass\n",
    "# Display the final dictionary state\n",
    "# Dictionary remains unchanged since 'z' was already deleted previously\n",
    "third_dict"
   ]
  },
  {
   "cell_type": "markdown",
   "metadata": {
    "id": "sBHlFp3Y0tiR"
   },
   "source": [
    "#### Alternative method is <font color='green'>dict.pop('key')</font> which returns the deleted value\n",
    "\n",
    "\n",
    "```\n",
    "# Method 2: Safe deletion using pop() with default value\n",
    "# pop() removes and returns the value for the given key\n",
    "# If key doesn't exist, it returns the default value (None) instead of raising an error\n",
    "# This is more Pythonic than try-except for safe deletion\n",
    "\n",
    "third_dict.pop('z', None)\n",
    "\n",
    "# Display the final dictionary state\n",
    "# Dictionary remains unchanged since 'z' was already deleted previously\n",
    "# Both deletion methods handled the missing key gracefully\n",
    "third_dict\n",
    "\n",
    "```"
   ]
  },
  {
   "cell_type": "code",
   "execution_count": null,
   "metadata": {
    "colab": {
     "base_uri": "https://localhost:8080/"
    },
    "id": "Hg-O-vY-ethS",
    "outputId": "fcffa612-8ae8-40d9-854c-5e03551c305e"
   },
   "outputs": [
    {
     "data": {
      "text/plain": [
       "{'x': [1, 2], 'y': [3, 4]}"
      ]
     },
     "execution_count": 14,
     "metadata": {},
     "output_type": "execute_result"
    }
   ],
   "source": [
    "# Method 2: Safe deletion using pop() with default value\n",
    "# pop() removes and returns the value for the given key\n",
    "# If key doesn't exist, it returns the default value (None) instead of raising an error\n",
    "# This is more Pythonic than try-except for safe deletion\n",
    "third_dict.pop('z', None)\n",
    "\n",
    "# Display the final dictionary state\n",
    "# Dictionary remains unchanged since 'z' was already deleted previously\n",
    "# Both deletion methods handled the missing key gracefully\n",
    "third_dict"
   ]
  },
  {
   "cell_type": "markdown",
   "metadata": {
    "id": "4g9c9cIhHa3d"
   },
   "source": [
    "## ***Add A Dictionary To Or Modify An Existing Dictionary: The <font color='green'>update()</font> Method***\n",
    "#### The <font color='green'>update()</font> method allows you to add new key-value pairs or modify existing ones in a dictionary. It takes another dictionary or an iterable of key-value pairs (like a list of tuples) as an argument."
   ]
  },
  {
   "cell_type": "markdown",
   "metadata": {
    "id": "4I-NxnfeK_Io"
   },
   "source": [
    "## ***Add With Dictionary And Tuple***"
   ]
  },
  {
   "cell_type": "code",
   "execution_count": null,
   "metadata": {
    "colab": {
     "base_uri": "https://localhost:8080/"
    },
    "id": "QwCVFkXnIUb6",
    "outputId": "78e64483-a678-4cb9-fe4a-47461b397a9b"
   },
   "outputs": [
    {
     "data": {
      "text/plain": [
       "{'a': 1, 'b': 2, 'c': 3, 'd': 5}"
      ]
     },
     "execution_count": 15,
     "metadata": {},
     "output_type": "execute_result"
    }
   ],
   "source": [
    "#add with dictionary: third_dict\n",
    "first_dict={'a':1,'b':2}\n",
    "second_dict={'c':3,'d':5}\n",
    "first_dict.update(second_dict)\n",
    "first_dict"
   ]
  },
  {
   "cell_type": "code",
   "execution_count": null,
   "metadata": {
    "colab": {
     "base_uri": "https://localhost:8080/"
    },
    "id": "5NmTrrRPJkYG",
    "outputId": "0312f7e1-dff7-4231-9524-46a7dfb35290"
   },
   "outputs": [
    {
     "data": {
      "text/plain": [
       "{'a': 1, 'b': 2, 'c': 3, 'd': 4}"
      ]
     },
     "execution_count": 17,
     "metadata": {},
     "output_type": "execute_result"
    }
   ],
   "source": [
    "#add with tuple: third_tuple\n",
    "first_dict={'a':1,'b':2}\n",
    "second_tuple=(('c',3),('d',4))\n",
    "first_dict.update(second_tuple)\n",
    "first_dict"
   ]
  },
  {
   "cell_type": "markdown",
   "metadata": {
    "id": "5EAsQ-3LLORt"
   },
   "source": [
    "## ***Modify With Dictionary And List***"
   ]
  },
  {
   "cell_type": "code",
   "execution_count": null,
   "metadata": {
    "colab": {
     "base_uri": "https://localhost:8080/"
    },
    "id": "OpahLYx4JHsX",
    "outputId": "25f70980-051c-41ce-a716-5d9d4217da2f"
   },
   "outputs": [
    {
     "data": {
      "text/plain": [
       "{'a': 3, 'b': 5}"
      ]
     },
     "execution_count": 18,
     "metadata": {},
     "output_type": "execute_result"
    }
   ],
   "source": [
    "#modify With dictionary: third_dict\n",
    "first_dict={'a':1,'b':2}\n",
    "third_dict={'a':3,'b':5}\n",
    "first_dict.update(third_dict)\n",
    "first_dict"
   ]
  },
  {
   "cell_type": "code",
   "execution_count": null,
   "metadata": {
    "colab": {
     "base_uri": "https://localhost:8080/"
    },
    "id": "RgCrNnrRKMVP",
    "outputId": "8f1fe415-ae19-45c4-b676-486a2be1a03a"
   },
   "outputs": [
    {
     "data": {
      "text/plain": [
       "{'a': 3, 'b': 5}"
      ]
     },
     "execution_count": 19,
     "metadata": {},
     "output_type": "execute_result"
    }
   ],
   "source": [
    "#modify With list: third_list\n",
    "first_dict={'a':1,'b':2}\n",
    "third_list=[['a',3],['b',5]]\n",
    "first_dict.update(third_list)\n",
    "first_dict"
   ]
  }
 ],
 "metadata": {
  "colab": {
   "provenance": []
  },
  "kernelspec": {
   "display_name": "Python 3",
   "name": "python3"
  },
  "language_info": {
   "codemirror_mode": {
    "name": "ipython",
    "version": 3
   },
   "file_extension": ".py",
   "mimetype": "text/x-python",
   "name": "python",
   "nbconvert_exporter": "python",
   "pygments_lexer": "ipython3",
   "version": "3.9.7"
  }
 },
 "nbformat": 4,
 "nbformat_minor": 0
}