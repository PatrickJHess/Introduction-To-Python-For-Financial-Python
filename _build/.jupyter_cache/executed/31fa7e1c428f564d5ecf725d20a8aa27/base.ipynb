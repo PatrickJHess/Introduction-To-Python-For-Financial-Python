{
 "cells": [
  {
   "cell_type": "code",
   "execution_count": 1,
   "metadata": {
    "colab": {
     "base_uri": "https://localhost:8080/"
    },
    "id": "6xuZ3AX25wVw",
    "outputId": "d3d2e59e-63f8-48ee-8d9f-f93d62457a2a"
   },
   "outputs": [
    {
     "name": "stdout",
     "output_type": "stream",
     "text": [
      "(1, 2) (3, 4) (5, 6)\n"
     ]
    }
   ],
   "source": [
    "# Method 1: Create tuple using round brackets (parentheses)\n",
    "# This is the most common and direct way to create a tuple\n",
    "a = (1, 2)  # Round bracket\n",
    "\n",
    "# Method 2: Create tuple using the tuple() constructor with a list\n",
    "# The tuple() function converts an iterable (like a list) into a tuple\n",
    "b = tuple([3, 4])  # Tuple constructor\n",
    "\n",
    "# Method 3: Create tuple using tuple constructor with generator expression\n",
    "# The generator expression (data for data in [5,6]) creates values on-the-fly\n",
    "# Note: This is actually a generator expression, not tuple comprehension\n",
    "# (Python doesn't have true tuple comprehensions like list comprehensions)\n",
    "c = tuple(data for data in [5, 6])  # Tuple Comprehension (generator expression)\n",
    "\n",
    "# Print all three tuples to show they produce the same type of immutable sequence\n",
    "print(a, b, c)"
   ]
  },
  {
   "cell_type": "code",
   "execution_count": 2,
   "metadata": {
    "colab": {
     "base_uri": "https://localhost:8080/"
    },
    "id": "HcPdZELN6fm6",
    "outputId": "db48b397-8b84-4f3d-ffe1-d8ec8e7cb7c3"
   },
   "outputs": [
    {
     "name": "stdout",
     "output_type": "stream",
     "text": [
      "0\n"
     ]
    }
   ],
   "source": [
    "# Use try-except block to safely search for value 5 in tuple c\n",
    "try:\n",
    "    # Attempt to find the index position of value 5 in tuple c\n",
    "    # tuple.index() returns the first occurrence index if found\n",
    "    # If value 5 exists in the tuple, print its index position\n",
    "    print(c.index(5))\n",
    "except:\n",
    "    # If value 5 is not found in tuple c, the index() method raises a ValueError\n",
    "    # Catch the exception and print -1 as a sentinel value indicating \"not found\"\n",
    "    # Using -1 follows common programming convention for \"element not found\"\n",
    "    print(-1)"
   ]
  },
  {
   "cell_type": "code",
   "execution_count": 3,
   "metadata": {
    "colab": {
     "base_uri": "https://localhost:8080/"
    },
    "id": "TTRyJKHK8AzJ",
    "outputId": "257c148a-50da-4edc-e643-ed5125976792"
   },
   "outputs": [
    {
     "name": "stdout",
     "output_type": "stream",
     "text": [
      "(1, 2, 3, 4)\n",
      "1\n",
      "2\n",
      "3\n",
      "4\n",
      "5\n",
      "6\n"
     ]
    }
   ],
   "source": [
    "combined_tuple=a+b+c\n",
    "print(combined_tuple[:4]) #sliced\n",
    "for element in combined_tuple:\n",
    "  print(element)"
   ]
  }
 ],
 "metadata": {
  "colab": {
   "provenance": []
  },
  "kernelspec": {
   "display_name": "Python 3",
   "name": "python3"
  },
  "language_info": {
   "codemirror_mode": {
    "name": "ipython",
    "version": 3
   },
   "file_extension": ".py",
   "mimetype": "text/x-python",
   "name": "python",
   "nbconvert_exporter": "python",
   "pygments_lexer": "ipython3",
   "version": "3.9.7"
  }
 },
 "nbformat": 4,
 "nbformat_minor": 0
}