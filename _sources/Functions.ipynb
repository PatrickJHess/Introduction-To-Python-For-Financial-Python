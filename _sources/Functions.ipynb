{
  "nbformat": 4,
  "nbformat_minor": 0,
  "metadata": {
    "colab": {
      "provenance": []
    },
    "kernelspec": {
      "name": "python3",
      "display_name": "Python 3"
    },
    "language_info": {
      "name": "python"
    }
  },
  "cells": [
    {
      "cell_type": "markdown",
      "source": [
        "<img src='https://docs.google.com/drawings/d/e/2PACX-1vTIOserV4jy3EtjMSJnLXtcBcAmqHHsebzSkm6fBjzai4esKaDQytZ1QBj1by47pTrFa_mxj8V3E8nV/pub?w=960&h=720'>"
      ],
      "metadata": {
        "id": "Yl_dxtahOZLL"
      }
    },
    {
      "cell_type": "markdown",
      "source": [
        "# ***A Quick Look At Functions***\n",
        "#### Python offers numerous built-in functions and methods, and users can easily create their own functions to address unique requirements. Functions are defined using the def keyword, followed by the function's name, parentheses, and a colon. Functions limit code duplication and improve the readability of complex code.$^{1}$\n",
        "\n",
        "\n",
        "---\n",
        "##### $^{1}$ Like other control statements, functions can be on a single line.  But the efficacy of such functions is a single line of code. Redundant code is created and clarity is not improved.\n",
        "\n",
        "\n"
      ],
      "metadata": {
        "id": "mPmhmUOejp-A"
      }
    },
    {
      "cell_type": "markdown",
      "source": [
        "## ***Examples Of Simple Functions***\n",
        "#### It's common but not required that functions return a value to the line of code that called the function.  The first example function <font color='green'>nothing_returned()</font> prints a line of code but returns nothing to the calling code.  Because nothing is returned the boolean value of the results is False.\n",
        "\n",
        "\n",
        "```\n",
        "def nothing_returned():\n",
        " print('Nothing here')\n",
        "```\n",
        "\n",
        "\n",
        "### The second example squares the variable <font color='green'>x</font> defined in the function and returns that value.\n",
        "\n",
        "\n",
        "```\n",
        "def giving_something_back():\n",
        " x=2\n",
        " return x**2\n",
        "```\n",
        "\n"
      ],
      "metadata": {
        "id": "KZqBWlOci1oJ"
      }
    },
    {
      "cell_type": "code",
      "source": [
        "def nothing_returned():\n",
        "  # This function prints a message to the console.\n",
        "  # It doesn't use a 'return' statement, so by default, it implicitly returns None.\n",
        "  print('Nothing here')"
      ],
      "metadata": {
        "id": "b95XlrVhj2Q8"
      },
      "execution_count": null,
      "outputs": []
    },
    {
      "cell_type": "code",
      "source": [
        "value=nothing_returned()\n",
        "bool(value)"
      ],
      "metadata": {
        "colab": {
          "base_uri": "https://localhost:8080/"
        },
        "id": "7P-ZXX2ZkAuK",
        "outputId": "70264c5f-168d-42eb-8cd5-b84f80852b1c"
      },
      "execution_count": null,
      "outputs": [
        {
          "output_type": "stream",
          "name": "stdout",
          "text": [
            "Nothing here\n"
          ]
        },
        {
          "output_type": "execute_result",
          "data": {
            "text/plain": [
              "False"
            ]
          },
          "metadata": {},
          "execution_count": 2
        }
      ]
    },
    {
      "cell_type": "code",
      "source": [
        "#Let's look at this function and what happens when it's called:\n",
        "def giving_something_back():\n",
        "  # Initialize a local variable 'x' with the value 2.\n",
        "  x = 2\n",
        "  # Calculate the square of 'x' (2 squared, which is 4)\n",
        "  # and return this value.\n",
        "  return x**2"
      ],
      "metadata": {
        "id": "7UjasTmBkQ-W"
      },
      "execution_count": null,
      "outputs": []
    },
    {
      "cell_type": "code",
      "source": [
        "# When you call this function, it will execute the code inside.\n",
        "# The 'return x**2' statement means the function will output the result of x**2.\n",
        "result = giving_something_back()\n",
        "\n",
        "# Now, the 'result' variable holds the value that was returned by the function.\n",
        "print(result) # This will print 4"
      ],
      "metadata": {
        "colab": {
          "base_uri": "https://localhost:8080/"
        },
        "id": "fmRuPZERki49",
        "outputId": "141060fb-8123-42c7-d69f-12c5e79cde5f"
      },
      "execution_count": null,
      "outputs": [
        {
          "output_type": "stream",
          "name": "stdout",
          "text": [
            "4\n"
          ]
        }
      ]
    },
    {
      "cell_type": "markdown",
      "source": [
        "## ***Local Variables***\n",
        "#### Local variables exist only within the function where they are defined. Once the function finishes running, these variables are deleted and are no longer accessible.  For example, the variable <font color='green'>x</font> is established inside the function <font color='green'>giving_something_back()</font>. Attempting to execute the command:\n",
        "\n",
        "\n",
        "```\n",
        "print(x)\n",
        "```\n",
        "\n",
        "#### outside of that function will result in an error since <font color='green'>x</font> is not defined outside of the function."
      ],
      "metadata": {
        "id": "leesbNUdmrCp"
      }
    },
    {
      "cell_type": "markdown",
      "source": [
        "#### ***Example Where x Is local To <font color='green'>giving_something_back()</font>***"
      ],
      "metadata": {
        "id": "JoQrWl3Epqy-"
      }
    },
    {
      "cell_type": "code",
      "source": [
        "print(x)"
      ],
      "metadata": {
        "colab": {
          "base_uri": "https://localhost:8080/",
          "height": 141
        },
        "id": "nqm9TlsWkzho",
        "outputId": "ce3755fa-4f76-4c46-d5cf-ffb7439c04da"
      },
      "execution_count": null,
      "outputs": [
        {
          "output_type": "error",
          "ename": "NameError",
          "evalue": "name 'x' is not defined",
          "traceback": [
            "\u001b[0;31m---------------------------------------------------------------------------\u001b[0m",
            "\u001b[0;31mNameError\u001b[0m                                 Traceback (most recent call last)",
            "\u001b[0;32m/tmp/ipython-input-1353120783.py\u001b[0m in \u001b[0;36m<cell line: 0>\u001b[0;34m()\u001b[0m\n\u001b[0;32m----> 1\u001b[0;31m \u001b[0mprint\u001b[0m\u001b[0;34m(\u001b[0m\u001b[0mx\u001b[0m\u001b[0;34m)\u001b[0m\u001b[0;34m\u001b[0m\u001b[0;34m\u001b[0m\u001b[0m\n\u001b[0m",
            "\u001b[0;31mNameError\u001b[0m: name 'x' is not defined"
          ]
        }
      ]
    },
    {
      "cell_type": "markdown",
      "source": [
        "## ***A Variable Local To A Function Does Not Affect A Global Variable***\n",
        "#### Global variables are defined outside of a function or defined as global inside a function.  Global variables are available everywhere. If a function defines a variable with the same name as a global variable, the variable is local and independent of the global variable.  A global variable can be modified by a function if declared global inside the function.\n",
        "\n",
        "\n",
        "### The variable <font color='green'>x</font> is assigned a value outside of the function and is now global.  Nevertheless, <font color='green'>giving_something_back()</font> defines a local variable <font color='green'>x</font> that exists only in the function. The code assigns five to the global variable <font color='green'>x</font> and then calls <font color='green'>giving_something_back()</font> that returns the squared value of two that is assigned to <font color='green'>x</font> in the function.\n",
        "\n",
        "```\n",
        "x=5\n",
        "squared_value=giving_something_back()\n",
        "print(squared_value,x)\n",
        "```\n",
        "\n",
        "\n"
      ],
      "metadata": {
        "id": "hVZm9yTvsVNf"
      }
    },
    {
      "cell_type": "code",
      "source": [
        "x=5\n",
        "squared_value=giving_something_back()\n",
        "print(squared_value,x)"
      ],
      "metadata": {
        "colab": {
          "base_uri": "https://localhost:8080/"
        },
        "id": "jZFckKOjk-a5",
        "outputId": "33b56c1c-ed7b-4b34-e37e-2e0e776a86c8"
      },
      "execution_count": null,
      "outputs": [
        {
          "output_type": "stream",
          "name": "stdout",
          "text": [
            "4 5\n"
          ]
        }
      ]
    },
    {
      "cell_type": "markdown",
      "source": [
        "## ***A Global Variable Accessed By A Function***\n",
        "#### The function accesses the global variable <font color='green'>x</font> that is assigned five."
      ],
      "metadata": {
        "id": "o85ifG3CQSSq"
      }
    },
    {
      "cell_type": "code",
      "source": [
        "def giving_something_back_global():\n",
        "  return x**2"
      ],
      "metadata": {
        "id": "9ybiEqpuMBRg"
      },
      "execution_count": null,
      "outputs": []
    },
    {
      "cell_type": "code",
      "source": [
        "giving_something_back_global()"
      ],
      "metadata": {
        "colab": {
          "base_uri": "https://localhost:8080/"
        },
        "id": "ZID0RrTZQsbz",
        "outputId": "01996c55-4e42-466a-9622-5640813f60bb"
      },
      "execution_count": null,
      "outputs": [
        {
          "output_type": "execute_result",
          "data": {
            "text/plain": [
              "25"
            ]
          },
          "metadata": {},
          "execution_count": 8
        }
      ]
    },
    {
      "cell_type": "markdown",
      "source": [
        "## ***A Global Variable Is Defined Inside A Function***\n",
        "#### The function defines the variable <font color='green'>z</font> as <font color='green'>global</font> making it available outside the function."
      ],
      "metadata": {
        "id": "3Zg62Yo_N8tM"
      }
    },
    {
      "cell_type": "code",
      "source": [
        "def create_global_variable():\n",
        "  global z\n",
        "  z=4"
      ],
      "metadata": {
        "id": "5P__ajuclX-V"
      },
      "execution_count": null,
      "outputs": []
    },
    {
      "cell_type": "code",
      "source": [
        "create_global_variable()\n",
        "z"
      ],
      "metadata": {
        "colab": {
          "base_uri": "https://localhost:8080/"
        },
        "outputId": "177ad839-300c-4161-fc6f-8435748d0699",
        "id": "D9m_o29JliOH"
      },
      "execution_count": null,
      "outputs": [
        {
          "output_type": "execute_result",
          "data": {
            "text/plain": [
              "4"
            ]
          },
          "metadata": {},
          "execution_count": 10
        }
      ]
    },
    {
      "cell_type": "markdown",
      "source": [
        "## ***Assigning A New Value To An Existing Global Variable Inside A Function***\n",
        "#### The function defines <font color='green'>x</font> as <font color='green'>global</font> and assigns a new value to existing global variable."
      ],
      "metadata": {
        "id": "liWPLHTNOj63"
      }
    },
    {
      "cell_type": "code",
      "source": [
        "# Initialize a global variable 'x' in the global scope.\n",
        "# This variable can be accessed and potentially modified from anywhere in the program.\n",
        "x = 10\n",
        "\n",
        "def define_existing_global():\n",
        "  # Declare that we intend to work with the 'global' variable 'x',\n",
        "  # rather than creating a new local variable named 'x'.\n",
        "  global x\n",
        "\n",
        "  # Assign a new value (7) to the global variable 'x'.\n",
        "  # This modification will affect 'x' in the global scope.\n",
        "  x = 7"
      ],
      "metadata": {
        "id": "xr0_LnthMrjR"
      },
      "execution_count": null,
      "outputs": []
    },
    {
      "cell_type": "markdown",
      "source": [
        "### ***Example Of The Global Keyword***\n",
        "\n",
        "\n",
        "*   Without global <font color='green'>x</font> inside the function,  a new local variable also named <font color='green'>x</font> is created within that function's scope. The global <font color='green'>x</font> would remain unchanged.\n",
        "*   global <font color='green'>x</font> makes the function point to the global variable and alters the value of the global variable.\n",
        "\n"
      ],
      "metadata": {
        "id": "r99QB2vwOQNr"
      }
    },
    {
      "cell_type": "code",
      "source": [
        "x = 10\n",
        "define_existing_global()\n",
        "x"
      ],
      "metadata": {
        "colab": {
          "base_uri": "https://localhost:8080/"
        },
        "id": "ZzEY5yAoM3Vd",
        "outputId": "9cb5b722-9102-4273-e4a0-fb8129e57af6"
      },
      "execution_count": null,
      "outputs": [
        {
          "output_type": "execute_result",
          "data": {
            "text/plain": [
              "7"
            ]
          },
          "metadata": {},
          "execution_count": 12
        }
      ]
    },
    {
      "cell_type": "markdown",
      "source": [
        "## ***Python Functions Are Like Any Other Object.***\n",
        "#### In the first example The <font color='green'>create_global_variable</font>() function is modified to return the <font color='green'>give_something_back()</font> function.\n",
        "\n",
        "\n",
        "```\n",
        "def define_existing_global():\n",
        " global x\n",
        " x=7\n",
        " return giving_something_back_global()\n",
        "```\n",
        "\n",
        "#### In the second example, a function is passed as an argument of <font color='green'>function_as_argument()</font>.\n",
        "\n",
        "\n",
        "\n",
        "```\n",
        "def function_as_argument(function):\n",
        "  value=function()\n",
        "  return value\n",
        "```\n",
        "\n"
      ],
      "metadata": {
        "id": "2MYUP1CDPZn7"
      }
    },
    {
      "cell_type": "code",
      "source": [
        "def define_existing_global():\n",
        "  # Declare that we intend to modify the global variable 'x'.\n",
        "  # Without 'global x', assigning to 'x' here would create a new local variable.\n",
        "  global x\n",
        "\n",
        "  # Update the value of the global variable 'x' to 7.\n",
        "  # This change will be visible throughout the entire program.\n",
        "  x = 7\n",
        "\n",
        "  # Call another function that depends on the global 'x'.\n",
        "  # Since 'x' was just changed to 7, this will now return 7 * 7 = 49.\n",
        "  return giving_something_back_global()"
      ],
      "metadata": {
        "id": "v2NS7ef4Ryy0"
      },
      "execution_count": null,
      "outputs": []
    },
    {
      "cell_type": "code",
      "source": [
        "print(define_existing_global(),x)"
      ],
      "metadata": {
        "colab": {
          "base_uri": "https://localhost:8080/"
        },
        "id": "9sURbcwlSLGo",
        "outputId": "d044cc58-e247-447b-9b34-096f61be05e8"
      },
      "execution_count": null,
      "outputs": [
        {
          "output_type": "stream",
          "name": "stdout",
          "text": [
            "49 7\n"
          ]
        }
      ]
    },
    {
      "cell_type": "code",
      "source": [
        "def function_as_argument(function):\n",
        "\n",
        "  # Call the function that was passed as an argument.\n",
        "  # The parentheses '()' are crucial here, as they execute the 'function'.\n",
        "  # The result of this execution is stored in 'value'.\n",
        "  value = function()\n",
        "\n",
        "  # Return the value obtained from executing the passed-in function.\n",
        "  return value"
      ],
      "metadata": {
        "id": "AL0c8zp4S7yH"
      },
      "execution_count": null,
      "outputs": []
    },
    {
      "cell_type": "code",
      "source": [
        "x=10\n",
        "function_as_argument(giving_something_back_global)"
      ],
      "metadata": {
        "colab": {
          "base_uri": "https://localhost:8080/"
        },
        "id": "Rl7zNEblTZxT",
        "outputId": "a701a971-efb0-430d-dcf9-6c0758b754c2"
      },
      "execution_count": null,
      "outputs": [
        {
          "output_type": "execute_result",
          "data": {
            "text/plain": [
              "100"
            ]
          },
          "metadata": {},
          "execution_count": 20
        }
      ]
    },
    {
      "cell_type": "markdown",
      "source": [
        "## ***Parameters And Arguments***\n",
        "#### A function's parameters are the variables it accepts; its arguments, the specific values assigned to those variables. In the initial example, <font color='green'>x</font> is the parameter\n",
        "\n",
        "\n",
        "\n",
        "```\n",
        "def square_value(x):\n",
        "  returns x**2\n",
        "```\n",
        "\n",
        "\n",
        "\n",
        "#### and two is the argument used when the function is called.\n",
        "\n",
        "\n",
        "\n",
        "```\n",
        "square_value(2)\n",
        "```\n",
        "\n"
      ],
      "metadata": {
        "id": "nJFJr12wTtUM"
      }
    },
    {
      "cell_type": "code",
      "source": [
        "def square_value(x):\n",
        "  return x**2"
      ],
      "metadata": {
        "id": "LJFKp67elP4G"
      },
      "execution_count": null,
      "outputs": []
    },
    {
      "cell_type": "code",
      "source": [
        "square_value(2)"
      ],
      "metadata": {
        "colab": {
          "base_uri": "https://localhost:8080/"
        },
        "id": "wlFv90wFUt9Y",
        "outputId": "417f7de5-9fe4-4ea7-c00a-ba312b389ac6"
      },
      "execution_count": null,
      "outputs": [
        {
          "output_type": "execute_result",
          "data": {
            "text/plain": [
              "4"
            ]
          },
          "metadata": {},
          "execution_count": 17
        }
      ]
    },
    {
      "cell_type": "markdown",
      "source": [
        "## ***Positional And Keyword Arguments***\n",
        "#### Arguments can be either positional or keyword. Positional arguments must be assigned in the order of the parameters. The <font color='green'>square_value_div()</font> function has parameters x and y. Both parameters are assigned positional arguments.\n",
        "\n",
        "\n",
        "```\n",
        "def square_value_div(x,y):\n",
        "  returns x**2/y\n",
        "```\n",
        "\n",
        "#### Assigning <font color='green'>x</font>=2 and <font color='green'>y</font>=4 is written as:\n",
        "\n",
        "```\n",
        "square_value_div(2,4)\n",
        "```\n",
        "#### and returns a value of (2**2)/4 = 1.0\n",
        "\n",
        "#### Keyword arguments are assigned when the function is called and are defined by the parameter's name. Keyword arguments are useful when default values are assigned or when the function's parameters are complex.  If both keyword and positional arguments are used, positional arguments must come first and in the right order.\n",
        "\n",
        "```\n",
        "square_value_div(2,y=4)\n",
        "```\n",
        "\n",
        "####There is no need to order keyword arguments.\n",
        "\n",
        "```\n",
        "square_value_div(y=4,x=2)\n",
        "```\n"
      ],
      "metadata": {
        "id": "-KGZfNXJesP_"
      }
    },
    {
      "cell_type": "code",
      "source": [
        "def square_value_div(x,y):\n",
        "  return x**2/y"
      ],
      "metadata": {
        "id": "87RdzVTCUCdC"
      },
      "execution_count": null,
      "outputs": []
    },
    {
      "cell_type": "markdown",
      "source": [
        "###***Two Positional Arguments Assigned In The order Of Parameters***"
      ],
      "metadata": {
        "id": "Ks0tfTlHg-dn"
      }
    },
    {
      "cell_type": "code",
      "source": [
        "square_value_div(2,4)"
      ],
      "metadata": {
        "colab": {
          "base_uri": "https://localhost:8080/"
        },
        "outputId": "cbc640b5-d4b1-4546-c0ba-cf2300c2d440",
        "id": "Ur_na4QJU6t3"
      },
      "execution_count": null,
      "outputs": [
        {
          "output_type": "execute_result",
          "data": {
            "text/plain": [
              "1.0"
            ]
          },
          "metadata": {},
          "execution_count": 19
        }
      ]
    },
    {
      "cell_type": "markdown",
      "source": [
        "###***One Positional And One Keyword: Positional Argument First***"
      ],
      "metadata": {
        "id": "ANs-MJa1hVj0"
      }
    },
    {
      "cell_type": "code",
      "source": [
        "square_value_div(2,y=4)"
      ],
      "metadata": {
        "colab": {
          "base_uri": "https://localhost:8080/"
        },
        "id": "Nq4ieoMJaOii",
        "outputId": "81a0e75a-ec8a-45ad-d7ad-e561492a37e3"
      },
      "execution_count": null,
      "outputs": [
        {
          "output_type": "execute_result",
          "data": {
            "text/plain": [
              "1.0"
            ]
          },
          "metadata": {},
          "execution_count": 20
        }
      ]
    },
    {
      "cell_type": "markdown",
      "source": [
        "### ***Two Keyword Arguments: Position Irrelevant***"
      ],
      "metadata": {
        "id": "9vtV4a-Fh50E"
      }
    },
    {
      "cell_type": "code",
      "source": [
        "square_value_div(y=4,x=2)"
      ],
      "metadata": {
        "colab": {
          "base_uri": "https://localhost:8080/"
        },
        "outputId": "f370e6e8-6548-4558-d843-3c901f039b39",
        "id": "uMOYydBoVFXH"
      },
      "execution_count": null,
      "outputs": [
        {
          "output_type": "execute_result",
          "data": {
            "text/plain": [
              "1.0"
            ]
          },
          "metadata": {},
          "execution_count": 21
        }
      ]
    },
    {
      "cell_type": "markdown",
      "source": [
        "## ***Default Arguments***\n",
        "#### When a function is created, default arguments may be assigned to its parameters. Any parameters with default arguments must appear after those without. For instance, in <font color='green'>square_value_div()</font>, the default arguments for <font color='green'>x</font> and <font color='green'>y</font> are zero and one, respectively.\n",
        "\n",
        "\n",
        "```\n",
        "def square_value_div(x=0,y=1):\n",
        "  return x**2/y\n",
        "```\n",
        "\n",
        "#### Default values can often make the function's purpose clearer by showing common usage patterns.  Defaults make parameters optional.\n",
        "#### If an argument is not provided for <font color='green'>x</font> or <font color='green'>y</font>, default values are used. Arguments can be passed either by position or by keyword; however, positional arguments must follow the order defined in the function signature."
      ],
      "metadata": {
        "id": "PZukb9vwj5LL"
      }
    },
    {
      "cell_type": "code",
      "source": [
        "def square_value_div(x=0,y=1):\n",
        "  return x**2/y"
      ],
      "metadata": {
        "id": "77R7KRpWll9q"
      },
      "execution_count": null,
      "outputs": []
    },
    {
      "cell_type": "markdown",
      "source": [
        "### ***No Arguments Provided***"
      ],
      "metadata": {
        "id": "PyPqKRjIsuIa"
      }
    },
    {
      "cell_type": "code",
      "source": [
        "square_value_div()"
      ],
      "metadata": {
        "colab": {
          "base_uri": "https://localhost:8080/"
        },
        "outputId": "ab6283a9-212c-4f5a-f053-290253fff4cb",
        "id": "zMWFVLfQVPPY"
      },
      "execution_count": null,
      "outputs": [
        {
          "output_type": "execute_result",
          "data": {
            "text/plain": [
              "0.0"
            ]
          },
          "metadata": {},
          "execution_count": 23
        }
      ]
    },
    {
      "cell_type": "markdown",
      "source": [
        "### ***Positional And Keyword Arguments***"
      ],
      "metadata": {
        "id": "cL0Rdr6_0uLm"
      }
    },
    {
      "cell_type": "code",
      "source": [
        "square_value_div(2,y=4)"
      ],
      "metadata": {
        "colab": {
          "base_uri": "https://localhost:8080/"
        },
        "outputId": "03d16fc6-d485-439c-9a95-776e2bf5e1ec",
        "id": "a1m9D_KM0uLn"
      },
      "execution_count": null,
      "outputs": [
        {
          "output_type": "execute_result",
          "data": {
            "text/plain": [
              "1.0"
            ]
          },
          "metadata": {},
          "execution_count": 24
        }
      ]
    },
    {
      "cell_type": "markdown",
      "source": [
        "## ***Type Hints And Docstrings***\n",
        "#### Type hints specify the expected types of arguments and returned values. <font color='green'>Docstrings</font> provide brief documentation to clarify a function's rules and purpose. Type hints are added to <font color='green'>square_value_div()</font> with default arguments. The type of data returned follows the dash and greater than sign. The type of data is shown after colon following the parameter name.  The Union type is imported from typing indicating that provided values should be integers or floating points.$^{2}$.  Because the function returns a string if the argument of <font color='green'>y</font> is zero, the return types are float or str.\n",
        "\n",
        "\n",
        "\n",
        "```\n",
        "from typing import Union # Import Union for specifying multiple possible types\n",
        "\n",
        "def square_value_div(x: Union[int, float] = 0, y: Union[int, float] = 1) -> Union[float, str]: float:\n",
        "  if y==0: return 'Can\\'t divide by zero'\n",
        "  return x**2/y\n",
        "```\n",
        "\n",
        "#### The docstring is indented and is a multiline comment string.\n",
        "\n",
        "\n",
        "\n",
        "```\n",
        "def square_value_div(x: Union[int, float] = 0, y: Union[int, float] = 1) -> Union[float, str]:\n",
        "  '''\n",
        "  Squares the first numerical argument (x) and then divides the result by the second numerical argument (y).\n",
        "\n",
        "  This function performs the mathematical operation: result = (x * x) / y.\n",
        "  It includes robust handling for division by zero, returning a descriptive error message\n",
        "  instead of raising a runtime error in that specific case.\n",
        "\n",
        "  Args:\n",
        "    x (Union[int, float], optional): The base number to be squared.\n",
        "                                     Can be an integer or a floating-point number.\n",
        "                                     Defaults to 0.\n",
        "    y (Union[int, float], optional): The divisor. This number will divide the squared value of x.\n",
        "                                     Can be an integer or a floating-point number.\n",
        "                                     Defaults to 1.\n",
        "\n",
        "  Returns:\n",
        "    Union[float, str]:\n",
        "      - A `float` representing the calculated result of (x squared / y),\n",
        "        if the divisor `y` is not equal to zero.\n",
        "      - The `str` 'Can\\'t divide by zero' if the divisor `y` is 0,\n",
        "        to explicitly communicate the invalid operation.\n",
        "  '''\n",
        "  # Check if the divisor 'y' is zero.\n",
        "  # If it is, return a specific string message to indicate that division by zero is not allowed.\n",
        "  if y == 0:\n",
        "    return 'Can\\'t divide by zero'\n",
        "  \n",
        "  # If 'y' is not zero, perform the calculation.\n",
        "  # Python's division operator (/) automatically promotes integers to floats\n",
        "  # if necessary to ensure floating-point division.\n",
        "  return x**2 / y\n",
        "\n",
        "help(square_value_div)\n",
        "\n",
        "```\n",
        "\n",
        "---\n",
        "\n",
        "##### $^{2}$ The function returns a value complex number as well."
      ],
      "metadata": {
        "id": "mOdlEckls4Mf"
      }
    },
    {
      "cell_type": "code",
      "source": [
        "from typing import Union # Ensure Union is imported from the typing module\n",
        "\n",
        "def square_value_div(x: Union[int, float] = 0, y: Union[int, float] = 1) -> Union[float, str]:\n",
        "  '''\n",
        "  Squares the first numerical argument (x) and then divides the result by the second numerical argument (y).\n",
        "\n",
        "  This function performs the mathematical operation: result = (x * x) / y.\n",
        "  It includes robust handling for division by zero, returning a descriptive error message\n",
        "  instead of raising a runtime error in that specific case.\n",
        "\n",
        "  Args:\n",
        "    x (Union[int, float], optional): The base number to be squared.\n",
        "                                     Can be an integer or a floating-point number.\n",
        "                                     Defaults to 0.\n",
        "    y (Union[int, float], optional): The divisor. This number will divide the squared value of x.\n",
        "                                     Can be an integer or a floating-point number.\n",
        "                                     Defaults to 1.\n",
        "\n",
        "  Returns:\n",
        "    Union[float, str]:\n",
        "      - A `float` representing the calculated result of (x squared / y),\n",
        "        if the divisor `y` is not equal to zero.\n",
        "      - The `str` 'Can\\'t divide by zero' if the divisor `y` is 0,\n",
        "        to explicitly communicate the invalid operation.\n",
        "  '''\n",
        "  # Check if the divisor 'y' is zero.\n",
        "  # If it is, return a specific string message to indicate that division by zero is not allowed.\n",
        "  if y == 0:\n",
        "    return 'Can\\'t divide by zero'\n",
        "\n",
        "  # If 'y' is not zero, perform the calculation.\n",
        "  # Python's division operator (/) automatically promotes integers to floats\n",
        "  # if necessary to ensure floating-point division.\n",
        "  return x**2 / y"
      ],
      "metadata": {
        "id": "RvheaQyGlUj6"
      },
      "execution_count": null,
      "outputs": []
    },
    {
      "cell_type": "code",
      "source": [
        "help(square_value_div)"
      ],
      "metadata": {
        "colab": {
          "base_uri": "https://localhost:8080/"
        },
        "id": "0VmjwMlo0BHL",
        "outputId": "79b28036-f89a-4c4b-ebcc-a06c51fba708"
      },
      "execution_count": null,
      "outputs": [
        {
          "output_type": "stream",
          "name": "stdout",
          "text": [
            "Help on function square_value_div in module __main__:\n",
            "\n",
            "square_value_div(x: Union[int, float] = 0, y: Union[int, float] = 1) -> Union[float, str]\n",
            "    Squares the first numerical argument (x) and then divides the result by the second numerical argument (y).\n",
            "\n",
            "    This function performs the mathematical operation: result = (x * x) / y.\n",
            "    It includes robust handling for division by zero, returning a descriptive error message\n",
            "    instead of raising a runtime error in that specific case.\n",
            "\n",
            "    Args:\n",
            "      x (Union[int, float], optional): The base number to be squared.\n",
            "                                       Can be an integer or a floating-point number.\n",
            "                                       Defaults to 0.\n",
            "      y (Union[int, float], optional): The divisor. This number will divide the squared value of x.\n",
            "                                       Can be an integer or a floating-point number.\n",
            "                                       Defaults to 1.\n",
            "\n",
            "    Returns:\n",
            "      Union[float, str]:\n",
            "        - A `float` representing the calculated result of (x squared / y),\n",
            "          if the divisor `y` is not equal to zero.\n",
            "        - The `str` 'Can't divide by zero' if the divisor `y` is 0,\n",
            "          to explicitly communicate the invalid operation.\n",
            "\n"
          ]
        }
      ]
    },
    {
      "cell_type": "code",
      "source": [
        "square_value_div(2,y=4)"
      ],
      "metadata": {
        "id": "0AwSAwjZlxNn",
        "colab": {
          "base_uri": "https://localhost:8080/"
        },
        "outputId": "fcf24bd3-a0a6-4b78-ec1b-07f4c43c2e60"
      },
      "execution_count": null,
      "outputs": [
        {
          "output_type": "execute_result",
          "data": {
            "text/plain": [
              "1.0"
            ]
          },
          "metadata": {},
          "execution_count": 27
        }
      ]
    },
    {
      "cell_type": "markdown",
      "source": [
        "## ***lambda: Anonymous Functions Often Used In Pandas***\n",
        "#### A <font color='green'>lambda</font> can have numerous arguments, but only a single result. Unlike a typical function, <font color='green'>lambda</font> is not named and controls a single statement. The <font color='green'>square_value_div()</font> function can be expressed as a <font color='green'>lambda</font> function.\n",
        "\n",
        "\n",
        "```\n",
        "square=lambda x,y: x**2/y\n",
        "```\n",
        "\n"
      ],
      "metadata": {
        "id": "DcOZmoZ8KNyz"
      }
    },
    {
      "cell_type": "code",
      "source": [
        "square=lambda x,y: x**2/y\n",
        "square(2,2)"
      ],
      "metadata": {
        "colab": {
          "base_uri": "https://localhost:8080/"
        },
        "id": "0JX9e-WCKu9p",
        "outputId": "9562d4e7-0fc2-408d-96fd-16fa19b85984"
      },
      "execution_count": null,
      "outputs": [
        {
          "output_type": "execute_result",
          "data": {
            "text/plain": [
              "2.0"
            ]
          },
          "metadata": {},
          "execution_count": 28
        }
      ]
    }
  ]
}