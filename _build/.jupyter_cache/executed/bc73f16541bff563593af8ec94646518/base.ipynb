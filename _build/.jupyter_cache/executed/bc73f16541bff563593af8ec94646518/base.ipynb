{
 "cells": [
  {
   "cell_type": "code",
   "execution_count": 1,
   "metadata": {
    "id": "-0lTn9mA76Z8"
   },
   "outputs": [],
   "source": [
    "import datetime"
   ]
  },
  {
   "cell_type": "code",
   "execution_count": 2,
   "metadata": {
    "id": "GjJ4kCEY3Y1t"
   },
   "outputs": [],
   "source": [
    "example=datetime.datetime(2025,6,15,14,30,10,200010)"
   ]
  },
  {
   "cell_type": "code",
   "execution_count": 3,
   "metadata": {
    "colab": {
     "base_uri": "https://localhost:8080/"
    },
    "id": "vIarkLsb3sIN",
    "outputId": "78669eb1-654c-4cc5-fa3c-5ab3af65fa08"
   },
   "outputs": [
    {
     "data": {
      "text/plain": [
       "datetime.datetime(2025, 6, 15, 14, 30, 10, 200010)"
      ]
     },
     "execution_count": 3,
     "metadata": {},
     "output_type": "execute_result"
    }
   ],
   "source": [
    "example"
   ]
  },
  {
   "cell_type": "code",
   "execution_count": 4,
   "metadata": {
    "id": "ZvgssjdrEkzU"
   },
   "outputs": [],
   "source": [
    "from datetime import datetime # Import the 'datetime' class from the 'datetime' module.\n",
    "                             # This class is essential for working with dates and times."
   ]
  },
  {
   "cell_type": "code",
   "execution_count": 5,
   "metadata": {
    "colab": {
     "base_uri": "https://localhost:8080/"
    },
    "id": "GeFNR53gE3zy",
    "outputId": "d98e7c61-c57a-462e-ca26-7bdbcb59d221"
   },
   "outputs": [
    {
     "data": {
      "text/plain": [
       "datetime.datetime(2025, 6, 15, 14, 30, 10, 200010)"
      ]
     },
     "execution_count": 5,
     "metadata": {},
     "output_type": "execute_result"
    }
   ],
   "source": [
    "example_datetime=datetime(2025,6,15,14,30,10,200010)\n",
    "example_datetime"
   ]
  },
  {
   "cell_type": "code",
   "execution_count": 6,
   "metadata": {
    "colab": {
     "base_uri": "https://localhost:8080/"
    },
    "id": "_jLDhbjZa_75",
    "outputId": "369b4113-c0e8-4b8c-8ee5-90af588b9e3e"
   },
   "outputs": [
    {
     "name": "stdout",
     "output_type": "stream",
     "text": [
      "2025-06-15 14:30:10.200010\n"
     ]
    }
   ],
   "source": [
    "# Define a string variable that holds a date and time in a specific, custom format.\n",
    "# Note the combination of hyphens, spaces, slashes, and a period as separators.\n",
    "string_date = '2025-06-15 14/30/10.200010'\n",
    "\n",
    "# Define a format string that precisely matches the structure of 'string_date'.\n",
    "# Each '%' code represents a specific component of the date/time:\n",
    "# %Y: Full year with century (e.g., 2025)\n",
    "# %m: Month as a zero-padded decimal number (e.g., 06)\n",
    "# %d: Day of the month as a zero-padded decimal number (e.g., 15)\n",
    "# %H: Hour (24-hour clock) as a zero-padded decimal number (e.g., 14)\n",
    "# %M: Minute as a zero-padded decimal number (e.g., 30)\n",
    "# %S: Second as a zero-padded decimal number (e.g., 10)\n",
    "# %f: Microsecond as a decimal number, zero-padded on the left (e.g., 200010)\n",
    "# IMPORTANT: The literal characters (hyphens, spaces, slashes, periods) in the format string\n",
    "# must exactly match those in the 'string_date' for successful parsing.\n",
    "format_string_date = '%Y-%m-%d %H/%M/%S.%f'\n",
    "\n",
    "# Use the 'strptime()' class method of 'datetime' to parse the 'string_date'.\n",
    "# 'strptime()' (string parse time) takes the date string and its corresponding format string\n",
    "# as arguments, and attempts to convert the string into a 'datetime' object.\n",
    "# If the 'string_date' does not exactly match the 'format_string_date', a ValueError will be raised.\n",
    "time_stamp = datetime.strptime(string_date, format_string_date)\n",
    "\n",
    "# Display the resulting 'datetime' object.\n",
    "# When a datetime object is printed or evaluated, Python presents it in a standard\n",
    "# ISO 8601-like format (YYYY-MM-DD HH:MM:SS.microseconds), regardless of the input format.\n",
    "print(time_stamp)"
   ]
  },
  {
   "cell_type": "code",
   "execution_count": 7,
   "metadata": {
    "colab": {
     "base_uri": "https://localhost:8080/"
    },
    "id": "YeXL23jjoR9Y",
    "outputId": "5664c5fc-f337-4a76-c112-8aa3530041bc"
   },
   "outputs": [
    {
     "name": "stdout",
     "output_type": "stream",
     "text": [
      "Using str(): 2025-06-15 14:30:10.200010\n",
      "Using strftime(): 2025-06-15 14/30/10.200010\n"
     ]
    }
   ],
   "source": [
    "# Assuming 'time_stamp' is a datetime object (e.g., from datetime.strptime)\n",
    "# and 'format_string_date' is the format string used for parsing or desired for formatting.\n",
    "\n",
    "# Convert the 'time_stamp' datetime object into a string using the built-in 'str()' function.\n",
    "# The 'str()' function provides a default, human-readable, and generally unambiguous\n",
    "# string representation of the datetime object (usually in ISO 8601-like format).\n",
    "# It does not allow custom formatting.\n",
    "builtin_function = str(time_stamp)\n",
    "\n",
    "# Convert the 'time_stamp' datetime object into a string using the 'strftime()' method.\n",
    "# 'strftime()' (string format time) allows you to format the datetime object\n",
    "# into a string according to a specified format code string ('format_string_date').\n",
    "# This gives precise control over how the date and time components appear in the output string.\n",
    "datetime_method = time_stamp.strftime(format_string_date)\n",
    "\n",
    "# Display both resulting strings.\n",
    "# You will likely observe that 'builtin_function' uses a default format (e.g., YYYY-MM-DD HH:MM:SS.ffffff)\n",
    "# while 'datetime_method' uses the specific format you defined in 'format_string_date'.\n",
    "print(f\"Using str(): {builtin_function}\")\n",
    "print(f\"Using strftime(): {datetime_method}\")\n",
    "\n",
    "# For context, if time_stamp was '2025-06-15 14:30:10.200010'\n",
    "# and format_string_date was '%Y-%m-%d %H/%M/%S.%f':\n",
    "# builtin_function would likely be '2025-06-15 14:30:10.200010' (matches ISO format here)\n",
    "# datetime_method would be '2025-06-15 14/30/10.200010' (matches original input string format)"
   ]
  },
  {
   "cell_type": "code",
   "execution_count": 8,
   "metadata": {
    "colab": {
     "base_uri": "https://localhost:8080/"
    },
    "id": "kGWIVtDIcDAa",
    "outputId": "45efb785-08a2-473d-e6fd-1447fbf2190d"
   },
   "outputs": [
    {
     "name": "stdout",
     "output_type": "stream",
     "text": [
      "Year:  2025\n",
      "Month:  6\n",
      "Day:  15\n",
      "Hour:  14\n",
      "Minute:  30\n",
      "Second:  10\n",
      "Micro Second:  200010\n"
     ]
    }
   ],
   "source": [
    "# Assuming 'time_stamp' is an existing datetime object, for example,\n",
    "# created as: time_stamp = datetime(2025, 6, 15, 14, 30, 10, 200010)\n",
    "\n",
    "# Create a list containing individual time components by accessing\n",
    "# specific attributes (year, month, day, hour, minute, second, microsecond)\n",
    "# directly from the 'time_stamp' datetime object.\n",
    "attribute_list = [time_stamp.year, time_stamp.month, time_stamp.day,\n",
    "                  time_stamp.hour, time_stamp.minute, time_stamp.second,\n",
    "                  time_stamp.microsecond]\n",
    "\n",
    "# Create a corresponding list of descriptive names for each attribute.\n",
    "attribute_name = ['Year', 'Month', 'Day',\n",
    "                  'Hour', 'Minute', 'Second',\n",
    "                  'Micro Second']\n",
    "\n",
    "# Iterate simultaneously over both 'attribute_list' and 'attribute_name'\n",
    "# using the 'zip()' function.\n",
    "# In each iteration, 'attribute' will get a value from 'attribute_list'\n",
    "# and 'name' will get the corresponding string from 'attribute_name'.\n",
    "for attribute, name in zip(attribute_list, attribute_name):\n",
    "  # Print the name of the attribute followed by its extracted value.\n",
    "  # A colon and a space are used as separators for clear output.\n",
    "  print(name + ': ', attribute)"
   ]
  },
  {
   "cell_type": "code",
   "execution_count": 9,
   "metadata": {
    "colab": {
     "base_uri": "https://localhost:8080/"
    },
    "id": "1vx1IHePRSb4",
    "outputId": "d12fec2e-de03-4c9e-dad1-f9b291deaaf9"
   },
   "outputs": [
    {
     "data": {
      "text/plain": [
       "datetime.date(2025, 6, 15)"
      ]
     },
     "execution_count": 9,
     "metadata": {},
     "output_type": "execute_result"
    }
   ],
   "source": [
    "time_stamp.date()"
   ]
  },
  {
   "cell_type": "code",
   "execution_count": 10,
   "metadata": {
    "id": "e2MUSzLWSDGO"
   },
   "outputs": [],
   "source": [
    "from datetime import date\n",
    "#date(time_stamp.year,time_stamp.month,time_stamp.day)"
   ]
  },
  {
   "cell_type": "code",
   "execution_count": 11,
   "metadata": {
    "colab": {
     "base_uri": "https://localhost:8080/"
    },
    "id": "TZRrt7anp0Ye",
    "outputId": "4876ad88-396c-4266-aabc-46dbe2601a7e"
   },
   "outputs": [
    {
     "name": "stdout",
     "output_type": "stream",
     "text": [
      "61 days, 14:30:10.200010\n"
     ]
    }
   ],
   "source": [
    "# Assuming 'time_stamp' is already a datetime object as:\n",
    "# time_stamp = datetime(2025, 6, 15, 14, 30, 10, 200010)\n",
    "\n",
    "# Calculate the difference between 'time_stamp' and another specific datetime.\n",
    "# When no time components are provided to the datetime constructor, they default to midnight (00:00:00.000000).\n",
    "# So, datetime(2025, 4, 15) represents April 15, 2025, at 12:00:00 AM.\n",
    "date_differences = time_stamp - datetime(2025, 4, 15)\n",
    "\n",
    "# Display the result of the subtraction.\n",
    "# Subtracting two datetime objects yields a 'timedelta' object,\n",
    "# which represents a duration of time.\n",
    "print(date_differences)\n",
    "\n",
    "# --- Calculation Breakdown for the example output ---\n",
    "# From April 15, 2025 (00:00:00) to June 15, 2025 (14:30:10.200010):\n",
    "# Remaining days in April: 30 (total days in April) - 15 (start day) = 15 days\n",
    "# Days in May: 31 days\n",
    "# Days in June: 15 days (up to the 15th)\n",
    "# Total days: 15 + 31 + 15 = 61 days\n",
    "# The time component (14:30:10.200010) is the time difference from midnight."
   ]
  },
  {
   "cell_type": "code",
   "execution_count": 12,
   "metadata": {
    "colab": {
     "base_uri": "https://localhost:8080/"
    },
    "id": "WauRVs90tE36",
    "outputId": "81680ba1-889e-4e67-9ccc-a137def230c4"
   },
   "outputs": [
    {
     "name": "stdout",
     "output_type": "stream",
     "text": [
      "61 14.502777777777778 870.1666666666666\n"
     ]
    }
   ],
   "source": [
    "# Extract the number of whole days from the 'timedelta' object.\n",
    "# The '.days' attribute directly provides the total number of full days in the duration.\n",
    "difference_in_days = date_differences.days\n",
    "\n",
    "# Calculate the fractional part of the hours from the 'timedelta' object's seconds.\n",
    "# The '.seconds' attribute of a timedelta object returns the number of seconds\n",
    "# *within the part of the duration that is less than a day*.\n",
    "# It does NOT include seconds from the full days.\n",
    "# To convert these remaining seconds into hours, divide by (60 seconds * 60 minutes).\n",
    "difference_in_hours = date_differences.seconds / (60 * 60)\n",
    "\n",
    "# Calculate the fractional part of the minutes from the 'timedelta' object's seconds.\n",
    "# Similar to hours, '.seconds' only provides seconds less than a day.\n",
    "# To convert these remaining seconds into minutes, divide by 60 seconds.\n",
    "difference_in_minutes = date_differences.seconds / 60\n",
    "\n",
    "# Print all three calculated differences.\n",
    "# You will see the total days, and the fractional hours/minutes of the remaining time.\n",
    "print(difference_in_days, difference_in_hours, difference_in_minutes)"
   ]
  },
  {
   "cell_type": "code",
   "execution_count": 13,
   "metadata": {
    "id": "g4NLLl23s6e0"
   },
   "outputs": [],
   "source": [
    "from datetime import timedelta"
   ]
  },
  {
   "cell_type": "code",
   "execution_count": 14,
   "metadata": {
    "colab": {
     "base_uri": "https://localhost:8080/"
    },
    "id": "E0CA1AGlBnEY",
    "outputId": "6e9e43c6-e398-495b-e1b2-f6616a6f565f"
   },
   "outputs": [
    {
     "name": "stdout",
     "output_type": "stream",
     "text": [
      "2025-06-15 14:30:10.200010\n"
     ]
    }
   ],
   "source": [
    "print(time_stamp)"
   ]
  },
  {
   "cell_type": "code",
   "execution_count": 15,
   "metadata": {
    "colab": {
     "base_uri": "https://localhost:8080/"
    },
    "id": "m9YSN7NLXAI2",
    "outputId": "1e7572f5-7786-4e74-924d-0918e963c46b"
   },
   "outputs": [
    {
     "data": {
      "text/plain": [
       "datetime.datetime(2025, 4, 15, 0, 0)"
      ]
     },
     "execution_count": 15,
     "metadata": {},
     "output_type": "execute_result"
    }
   ],
   "source": [
    "# Subtract timedelta() amount\n",
    "time_stamp-timedelta(days=61,seconds=52210, microseconds=200010)"
   ]
  },
  {
   "cell_type": "code",
   "execution_count": 16,
   "metadata": {
    "colab": {
     "base_uri": "https://localhost:8080/"
    },
    "id": "l9lFxs3aqrZT",
    "outputId": "5edfe694-230d-4234-a1a1-1be0b29a3d4f"
   },
   "outputs": [
    {
     "data": {
      "text/plain": [
       "datetime.datetime(2025, 6, 15, 14, 30, 10, 200010)"
      ]
     },
     "execution_count": 16,
     "metadata": {},
     "output_type": "execute_result"
    }
   ],
   "source": [
    "# Add timedelta() amount\n",
    "datetime(2025,4,15)+timedelta(days=61, seconds=52210, microseconds=200010)"
   ]
  },
  {
   "cell_type": "code",
   "execution_count": 17,
   "metadata": {
    "id": "3gxu5BRP26C7"
   },
   "outputs": [],
   "source": [
    "from dateutil.relativedelta import relativedelta"
   ]
  },
  {
   "cell_type": "code",
   "execution_count": 18,
   "metadata": {
    "colab": {
     "base_uri": "https://localhost:8080/"
    },
    "id": "6nn-QuyPCNw4",
    "outputId": "a248471c-3aff-4303-85f5-12c9592ac627"
   },
   "outputs": [
    {
     "name": "stdout",
     "output_type": "stream",
     "text": [
      "2025-06-15 14:30:10.200010\n"
     ]
    }
   ],
   "source": [
    "print(time_stamp)"
   ]
  },
  {
   "cell_type": "code",
   "execution_count": 19,
   "metadata": {
    "colab": {
     "base_uri": "https://localhost:8080/"
    },
    "id": "bVWoJAIg3DK1",
    "outputId": "6e6f25b5-f45d-4eab-80f4-4c163525ae86"
   },
   "outputs": [
    {
     "data": {
      "text/plain": [
       "datetime.datetime(2025, 4, 15, 14, 30, 10, 200010)"
      ]
     },
     "execution_count": 19,
     "metadata": {},
     "output_type": "execute_result"
    }
   ],
   "source": [
    "# Subtract two months using relativedelta()\n",
    "time_stamp-relativedelta(months=2)"
   ]
  },
  {
   "cell_type": "code",
   "execution_count": 20,
   "metadata": {
    "colab": {
     "base_uri": "https://localhost:8080/"
    },
    "id": "V8ufYTB33e2X",
    "outputId": "22c6fcc0-5cb5-4ebe-9a63-0cfe9e7e2c02"
   },
   "outputs": [
    {
     "data": {
      "text/plain": [
       "datetime.datetime(2027, 6, 15, 14, 30, 10, 200010)"
      ]
     },
     "execution_count": 20,
     "metadata": {},
     "output_type": "execute_result"
    }
   ],
   "source": [
    "# Add two years using relativedelta()\n",
    "time_stamp+relativedelta(years=2)"
   ]
  },
  {
   "cell_type": "code",
   "execution_count": 21,
   "metadata": {
    "colab": {
     "base_uri": "https://localhost:8080/"
    },
    "id": "xjqcKxN63lVU",
    "outputId": "64d10f8d-a343-4b62-e3f9-3eb37ed12450"
   },
   "outputs": [
    {
     "data": {
      "text/plain": [
       "datetime.datetime(2025, 4, 15, 14, 30, 10, 200010)"
      ]
     },
     "execution_count": 21,
     "metadata": {},
     "output_type": "execute_result"
    }
   ],
   "source": [
    "# Subtract 61 days using relativedelta()\n",
    "time_stamp-relativedelta(days=61)"
   ]
  },
  {
   "cell_type": "code",
   "execution_count": 22,
   "metadata": {
    "colab": {
     "base_uri": "https://localhost:8080/"
    },
    "id": "AspIAwWCSiOm",
    "outputId": "5c686d40-0a06-4fa1-cce0-fcedd76ae913"
   },
   "outputs": [
    {
     "data": {
      "text/plain": [
       "(6, 30)"
      ]
     },
     "execution_count": 22,
     "metadata": {},
     "output_type": "execute_result"
    }
   ],
   "source": [
    "import calendar\n",
    "calendar.monthrange(time_stamp.year,time_stamp.month)"
   ]
  },
  {
   "cell_type": "code",
   "execution_count": 23,
   "metadata": {
    "colab": {
     "base_uri": "https://localhost:8080/"
    },
    "id": "WgCfVK_OadNt",
    "outputId": "7233750c-c0f8-4476-e65f-99cdfa090869"
   },
   "outputs": [
    {
     "data": {
      "text/plain": [
       "(6, 30)"
      ]
     },
     "execution_count": 23,
     "metadata": {},
     "output_type": "execute_result"
    }
   ],
   "source": [
    "import calendar\n",
    "from calendar import monthrange\n",
    "monthrange(time_stamp.year,time_stamp.month)"
   ]
  }
 ],
 "metadata": {
  "colab": {
   "provenance": []
  },
  "kernelspec": {
   "display_name": "Python 3",
   "name": "python3"
  },
  "language_info": {
   "codemirror_mode": {
    "name": "ipython",
    "version": 3
   },
   "file_extension": ".py",
   "mimetype": "text/x-python",
   "name": "python",
   "nbconvert_exporter": "python",
   "pygments_lexer": "ipython3",
   "version": "3.9.7"
  }
 },
 "nbformat": 4,
 "nbformat_minor": 0
}