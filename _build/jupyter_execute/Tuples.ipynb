{
 "cells": [
  {
   "cell_type": "markdown",
   "metadata": {
    "id": "WcJ8HcuHYaRO"
   },
   "source": [
    "<img src='https://docs.google.com/drawings/d/e/2PACX-1vQq5fvv0irbZoHDDk5e2zz4NzUj5qMg0z3tQ-_JOESz7sxygYjw0cz_KAulZFMpDKorJDdfzL9-v_dE/pub?w=960&h=720'>"
   ]
  },
  {
   "cell_type": "markdown",
   "metadata": {
    "id": "1fe15-OR4Siv"
   },
   "source": [
    "# ***A Quick Introduction To Tuples***\n",
    "#### Tuples, similar to lists, can be instantiated (created) in multiple ways. They can be created using round brackets (parentheses) with commas to separate data, by using the <font color='green'>tuple()</font> constructor with iterable data, or with a constructor and a generator expression that iterates through data. Unlike lists, tuple values cannot be changed after instantiation.\n",
    "\n",
    "\n",
    "```\n",
    "# Method 1: Create tuple using round brackets (parentheses)\n",
    "# This is the most common and direct way to create a tuple\n",
    "a = (1, 2)  # Round bracket\n",
    "\n",
    "# Method 2: Create tuple using the tuple() constructor with a list\n",
    "# The tuple() function converts an iterable (like a list) into a tuple\n",
    "b = tuple([3, 4])  # Tuple constructor\n",
    "\n",
    "# Method 3: Create tuple using tuple constructor with generator expression\n",
    "# The generator expression (data for data in [5,6]) creates values on-the-fly\n",
    "# Note: This is actually a generator expression, not tuple comprehension\n",
    "# (Python doesn't have true tuple comprehensions like list comprehensions)\n",
    "c = tuple(data for data in [5, 6])  # Tuple Comprehension (generator expression)\n",
    "\n",
    "# Print all three tuples to show they produce the same type of immutable sequence\n",
    "print(a, b, c)\n",
    "\n",
    "```"
   ]
  },
  {
   "cell_type": "code",
   "execution_count": 1,
   "metadata": {
    "colab": {
     "base_uri": "https://localhost:8080/"
    },
    "id": "6xuZ3AX25wVw",
    "outputId": "3c1a63e6-6da0-47b5-b917-7a9b23cb28bd"
   },
   "outputs": [
    {
     "name": "stdout",
     "output_type": "stream",
     "text": [
      "(1, 2) (3, 4) (5, 6)\n"
     ]
    }
   ],
   "source": [
    "# Method 1: Create tuple using round brackets (parentheses)\n",
    "# This is the most common and direct way to create a tuple\n",
    "a = (1, 2)  # Round bracket\n",
    "\n",
    "# Method 2: Create tuple using the tuple() constructor with a list\n",
    "# The tuple() function converts an iterable (like a list) into a tuple\n",
    "b = tuple([3, 4])  # Tuple constructor\n",
    "\n",
    "# Method 3: Create tuple using tuple constructor with generator expression\n",
    "# The generator expression (data for data in [5,6]) creates values on-the-fly\n",
    "# Note: This is actually a generator expression, not tuple comprehension\n",
    "# (Python doesn't have true tuple comprehensions like list comprehensions)\n",
    "c = tuple(data for data in [5, 6])  # Tuple Comprehension (generator expression)\n",
    "\n",
    "# Print all three tuples to show they produce the same type of immutable sequence\n",
    "print(a, b, c)"
   ]
  },
  {
   "cell_type": "markdown",
   "metadata": {
    "id": "sv2h2qul7pSz"
   },
   "source": [
    "## ***Index Method***\n",
    "#### Like lists, the <font color='green'>index</font> method returns the location of a value in a tuple. The <font color='green'>try-except</font> commands avoid an execution stopping error.\n",
    "\n",
    "\n",
    "```\n",
    "# Use try-except block to safely search for value 5 in tuple c\n",
    "try:\n",
    "    # Attempt to find the index position of value 5 in tuple c\n",
    "    # tuple.index() returns the first occurrence index if found\n",
    "    # If value 5 exists in the tuple, print its index position\n",
    "    print(c.index(5))\n",
    "except:\n",
    "    # If value 5 is not found in tuple c, the index() method raises a ValueError\n",
    "    # Catch the exception and print -1 as a sentinel value indicating \"not found\"\n",
    "    # Using -1 follows common programming convention for \"element not found\"\n",
    "    print(-1)\n",
    "\n",
    "```\n"
   ]
  },
  {
   "cell_type": "code",
   "execution_count": 2,
   "metadata": {
    "colab": {
     "base_uri": "https://localhost:8080/"
    },
    "id": "HcPdZELN6fm6",
    "outputId": "dd4ec362-c1c7-4355-bc8f-557e956aff17"
   },
   "outputs": [
    {
     "name": "stdout",
     "output_type": "stream",
     "text": [
      "0\n"
     ]
    }
   ],
   "source": [
    "# Use try-except block to safely search for value 5 in tuple c\n",
    "try:\n",
    "    # Attempt to find the index position of value 5 in tuple c\n",
    "    # tuple.index() returns the first occurrence of index value if found\n",
    "    # If value 5 exists in the tuple, print its index position\n",
    "    print(c.index(5))\n",
    "except:\n",
    "    # If value 5 is not found in tuple c, the index() method raises a ValueError\n",
    "    # Catch the exception and print -1 as a sentinel value indicating \"not found\"\n",
    "    # Using -1 follows common programming convention for \"element not found\"\n",
    "    print(-1)\n",
    "\n",
    "    #tuple c has 5 as its first element (position 0)"
   ]
  },
  {
   "cell_type": "markdown",
   "metadata": {
    "id": "XhNIFGhI8AzH"
   },
   "source": [
    "## ***Iterating And Slicing***\n",
    "#### The tuples <font color='green'>a</font>, <font color='green'>b</font>, and <font color='green'>c</font> are combined using the plus sign, and the resulting <font color='green'>combined_tuple</font><br> is then sliced and iterated through.\n",
    "\n",
    "\n",
    "```\n",
    "combined_tuple=a+b+c\n",
    "print(combined_tuple[:4]) #sliced\n",
    "for element in combined_tuple:\n",
    "  print(element)\n",
    "\n",
    "```\n",
    "\n",
    "#### Even though tuples are immutable (can't be changed after creation), they support many of the same operations as lists, including concatenation, slicing, and iteration."
   ]
  },
  {
   "cell_type": "code",
   "execution_count": 3,
   "metadata": {
    "colab": {
     "base_uri": "https://localhost:8080/"
    },
    "id": "TTRyJKHK8AzJ",
    "outputId": "68060fed-0a9d-4d49-c408-0e0eee9cd390"
   },
   "outputs": [
    {
     "name": "stdout",
     "output_type": "stream",
     "text": [
      "(1, 2, 3, 4)\n",
      "1\n",
      "2\n",
      "3\n",
      "4\n",
      "5\n",
      "6\n"
     ]
    }
   ],
   "source": [
    "combined_tuple=a+b+c\n",
    "print(combined_tuple[:4]) #sliced\n",
    "#print each element, one per line for combined_tuple\n",
    "for element in combined_tuple:\n",
    "  print(element)"
   ]
  }
 ],
 "metadata": {
  "colab": {
   "provenance": []
  },
  "kernelspec": {
   "display_name": "Python 3",
   "name": "python3"
  },
  "language_info": {
   "codemirror_mode": {
    "name": "ipython",
    "version": 3
   },
   "file_extension": ".py",
   "mimetype": "text/x-python",
   "name": "python",
   "nbconvert_exporter": "python",
   "pygments_lexer": "ipython3",
   "version": "3.9.7"
  }
 },
 "nbformat": 4,
 "nbformat_minor": 0
}