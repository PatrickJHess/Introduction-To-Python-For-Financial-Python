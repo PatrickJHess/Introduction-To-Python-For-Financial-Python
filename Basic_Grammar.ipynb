{
  "nbformat": 4,
  "nbformat_minor": 0,
  "metadata": {
    "colab": {
      "provenance": []
    },
    "kernelspec": {
      "name": "python3",
      "display_name": "Python 3"
    },
    "language_info": {
      "name": "python"
    }
  },
  "cells": [
    {
      "cell_type": "markdown",
      "source": [
        "# Basic Grammar\n",
        "  Python, like all programming languages, imposes rules on the syntax and formatting of code.  Python is rightly regarded as user friendly, but in the beginning abiding by these “rules'' may seem awkward. Over time you will become comfortable with the required syntax and formatting. The obvious recommendation is “trust the process” and learn by doing as new concepts and commands are introduced."
      ],
      "metadata": {
        "id": "hzTha1h7iTh2"
      }
    },
    {
      "cell_type": "markdown",
      "source": [
        "## Naming Variables\n",
        "  The most basic grammar rule of Python is naming variables.  The names of variables must start with a character of the alphabet or an underscore (_).  Valid names only include upper and lower case characters of the alphabet, the numbers 0 to 9, and the underscore character.  Variable names are case sensitive.  Because there are no limits on the length of a variable name, names may be chosen to be very descriptive making Python code transparent.  It goes without saying that short names are often convenient. Users should be mindful of the tradeoff between brevity and clarity.  \n",
        "\n"
      ],
      "metadata": {
        "id": "S1r4TZzM5CLi"
      }
    },
    {
      "cell_type": "markdown",
      "source": [
        "### Reserved Keywords\n",
        "  Python has reserved names called keywords, and these cannot be used to name a variable.   Executing the command\n",
        "\n",
        "\n",
        "```\n",
        "help(‘keywords’)\n",
        "```\n",
        " gives a list of keywords"
      ],
      "metadata": {
        "id": "V_zdJUz0jDim"
      }
    },
    {
      "cell_type": "code",
      "source": [
        "help('keywords')"
      ],
      "metadata": {
        "colab": {
          "base_uri": "https://localhost:8080/"
        },
        "id": "6V-cCb2H2nwA",
        "outputId": "d8a61cf7-ca5d-4086-d17d-2c636b735789"
      },
      "execution_count": null,
      "outputs": [
        {
          "output_type": "stream",
          "name": "stdout",
          "text": [
            "\n",
            "Here is a list of the Python keywords.  Enter any keyword to get more help.\n",
            "\n",
            "False               class               from                or\n",
            "None                continue            global              pass\n",
            "True                def                 if                  raise\n",
            "and                 del                 import              return\n",
            "as                  elif                in                  try\n",
            "assert              else                is                  while\n",
            "async               except              lambda              with\n",
            "await               finally             nonlocal            yield\n",
            "break               for                 not                 \n",
            "\n"
          ]
        }
      ]
    },
    {
      "cell_type": "markdown",
      "source": [
        "### Examples Of Valid and Invalid Variable Names"
      ],
      "metadata": {
        "id": "bRet_eEwhNyG"
      }
    },
    {
      "cell_type": "markdown",
      "source": [
        "####  Valid Names For Variables\n",
        "\n",
        "\n",
        "```\n",
        "x=2\n",
        "_3=3\n",
        "four=4\n",
        "x_plus_3=5\n",
        "xplus_3=5\n",
        "xplus3=5\n",
        "Return='comeback'\n",
        "print(x,_3,four,x_plus_3,xplus_3,xplus3,Return)\n",
        "\n",
        "```"
      ],
      "metadata": {
        "id": "YktIKHED5Rry"
      }
    },
    {
      "cell_type": "markdown",
      "source": [
        " #### Invalid Names\n",
        "\n",
        "\n"
      ],
      "metadata": {
        "id": "t9gTghAk52dR"
      }
    },
    {
      "cell_type": "markdown",
      "source": [
        "  Space is not a character of the alphabet, an integer between 0 to 9 or an underscore\n",
        "\n",
        "```\n",
        "x plus 3 =5\n",
        "\n",
        "```\n",
        "\n",
        "  Name doesn't start with a character of the alphabet or an underscore\n",
        "\n",
        "```\n",
        "3_plus_x=5\n",
        "\n",
        "```\n",
        "  return is a reserved name\n",
        "\n",
        "```\n",
        "return='comback'\n",
        "\n",
        "```"
      ],
      "metadata": {
        "id": "mI4C6Mkb65sa"
      }
    },
    {
      "cell_type": "code",
      "source": [
        "#Space is not allowed in a variable name, although an underscore could be used\n",
        "x plus 3 =5"
      ],
      "metadata": {
        "colab": {
          "base_uri": "https://localhost:8080/",
          "height": 106
        },
        "id": "M2imOrW45zbm",
        "outputId": "5aba31d7-db7b-454c-9acd-9f64bc1df7a7"
      },
      "execution_count": null,
      "outputs": [
        {
          "output_type": "error",
          "ename": "SyntaxError",
          "evalue": "invalid syntax (ipython-input-2438054105.py, line 2)",
          "traceback": [
            "\u001b[0;36m  File \u001b[0;32m\"/tmp/ipython-input-2438054105.py\"\u001b[0;36m, line \u001b[0;32m2\u001b[0m\n\u001b[0;31m    x plus 3 =5\u001b[0m\n\u001b[0m      ^\u001b[0m\n\u001b[0;31mSyntaxError\u001b[0m\u001b[0;31m:\u001b[0m invalid syntax\n"
          ]
        }
      ]
    },
    {
      "cell_type": "code",
      "source": [
        "#First letter character must be from the alphabet or an underscore\n",
        "3_plus_x=5"
      ],
      "metadata": {
        "colab": {
          "base_uri": "https://localhost:8080/",
          "height": 106
        },
        "outputId": "d28b5ce1-4bf4-42c1-f544-a18cfa095d41",
        "id": "XbJeu2856VPc"
      },
      "execution_count": null,
      "outputs": [
        {
          "output_type": "error",
          "ename": "SyntaxError",
          "evalue": "invalid decimal literal (ipython-input-2199279064.py, line 2)",
          "traceback": [
            "\u001b[0;36m  File \u001b[0;32m\"/tmp/ipython-input-2199279064.py\"\u001b[0;36m, line \u001b[0;32m2\u001b[0m\n\u001b[0;31m    3_plus_x=5\u001b[0m\n\u001b[0m     ^\u001b[0m\n\u001b[0;31mSyntaxError\u001b[0m\u001b[0;31m:\u001b[0m invalid decimal literal\n"
          ]
        }
      ]
    },
    {
      "cell_type": "code",
      "source": [
        "#return is a reserved name\n",
        "return='comback'"
      ],
      "metadata": {
        "colab": {
          "base_uri": "https://localhost:8080/",
          "height": 106
        },
        "id": "3l91mSKL6Cce",
        "outputId": "dfd658d7-50ea-4af7-e9f4-3ff88e8639dd"
      },
      "execution_count": null,
      "outputs": [
        {
          "output_type": "error",
          "ename": "SyntaxError",
          "evalue": "invalid syntax (ipython-input-2177275876.py, line 2)",
          "traceback": [
            "\u001b[0;36m  File \u001b[0;32m\"/tmp/ipython-input-2177275876.py\"\u001b[0;36m, line \u001b[0;32m2\u001b[0m\n\u001b[0;31m    return='comback'\u001b[0m\n\u001b[0m          ^\u001b[0m\n\u001b[0;31mSyntaxError\u001b[0m\u001b[0;31m:\u001b[0m invalid syntax\n"
          ]
        }
      ]
    },
    {
      "cell_type": "markdown",
      "source": [
        "## Including Comments In Python Code\n",
        "  Another bit of Python grammar is the number sign # (hashtag) indicating a comment.  The Python interpreter ignores anything on a line following a #.  If a line begins with #, the whole line is ignored and treated as a comment.  If the # occurs after the start of the line, the interpreter parses the information before the # and ignores what follows. The three lines of code below show three examples of invalid names. Each of the lines includes # followed by a comment explaining the nature of the error.  As you might guess, a common use of # is as an explanation of the code or its purpose."
      ],
      "metadata": {
        "id": "SryfJeFrks9j"
      }
    },
    {
      "cell_type": "code",
      "source": [
        " x plus 3 =5     #The variable name includes a space"
      ],
      "metadata": {
        "id": "UYlwbo-xlHtA",
        "colab": {
          "base_uri": "https://localhost:8080/",
          "height": 106
        },
        "outputId": "ca263a37-9074-42b3-9c18-5790a614d1a2"
      },
      "execution_count": null,
      "outputs": [
        {
          "output_type": "error",
          "ename": "SyntaxError",
          "evalue": "invalid syntax (ipython-input-1360129314.py, line 1)",
          "traceback": [
            "\u001b[0;36m  File \u001b[0;32m\"/tmp/ipython-input-1360129314.py\"\u001b[0;36m, line \u001b[0;32m1\u001b[0m\n\u001b[0;31m    x plus 3 =5     #The variable name includes a space\u001b[0m\n\u001b[0m      ^\u001b[0m\n\u001b[0;31mSyntaxError\u001b[0m\u001b[0;31m:\u001b[0m invalid syntax\n"
          ]
        }
      ]
    },
    {
      "cell_type": "code",
      "source": [
        "3_plus_x=5    #The variable name does not start with an alphabetic character or underscore:"
      ],
      "metadata": {
        "id": "3zxH-ehFlZsj",
        "colab": {
          "base_uri": "https://localhost:8080/",
          "height": 106
        },
        "outputId": "6e0b0cde-b082-486a-afd3-b0895ca5c4f0"
      },
      "execution_count": null,
      "outputs": [
        {
          "output_type": "error",
          "ename": "SyntaxError",
          "evalue": "invalid decimal literal (ipython-input-4031431944.py, line 1)",
          "traceback": [
            "\u001b[0;36m  File \u001b[0;32m\"/tmp/ipython-input-4031431944.py\"\u001b[0;36m, line \u001b[0;32m1\u001b[0m\n\u001b[0;31m    3_plus_x=5    #The variable name does not start with an alphabetic character or underscore:\u001b[0m\n\u001b[0m     ^\u001b[0m\n\u001b[0;31mSyntaxError\u001b[0m\u001b[0;31m:\u001b[0m invalid decimal literal\n"
          ]
        }
      ]
    },
    {
      "cell_type": "code",
      "source": [
        "return='comeback'     #The variable name is the reserved word return"
      ],
      "metadata": {
        "colab": {
          "base_uri": "https://localhost:8080/",
          "height": 106
        },
        "id": "ueyXRvXZldkS",
        "outputId": "58ea2963-f54d-4952-d594-fb6257c0218d"
      },
      "execution_count": null,
      "outputs": [
        {
          "output_type": "error",
          "ename": "SyntaxError",
          "evalue": "invalid syntax (ipython-input-3870892855.py, line 1)",
          "traceback": [
            "\u001b[0;36m  File \u001b[0;32m\"/tmp/ipython-input-3870892855.py\"\u001b[0;36m, line \u001b[0;32m1\u001b[0m\n\u001b[0;31m    return='comeback'     #The variable name is the reserved word return\u001b[0m\n\u001b[0m          ^\u001b[0m\n\u001b[0;31mSyntaxError\u001b[0m\u001b[0;31m:\u001b[0m invalid syntax\n"
          ]
        }
      ]
    },
    {
      "cell_type": "markdown",
      "source": [
        "## Indentation\n",
        "  Python uses indentation to indicate lines of code that are controlled by other lines of code.  If a line of code is not controlling a statement following it, the lines of code must have the same indentation."
      ],
      "metadata": {
        "id": "PYL32BaEGYIY"
      }
    },
    {
      "cell_type": "markdown",
      "source": [
        "  Valid\n"
      ],
      "metadata": {
        "id": "QpVAv0vVGeFy"
      }
    },
    {
      "cell_type": "code",
      "source": [
        "x=2\n",
        "y=3"
      ],
      "metadata": {
        "id": "IeY7myN1GiUn"
      },
      "execution_count": null,
      "outputs": []
    },
    {
      "cell_type": "markdown",
      "source": [
        "  Invalid"
      ],
      "metadata": {
        "id": "fW9coZxTGota"
      }
    },
    {
      "cell_type": "code",
      "source": [
        "x=2\n",
        " y=3"
      ],
      "metadata": {
        "id": "JjsWi7h5Gotb",
        "colab": {
          "base_uri": "https://localhost:8080/",
          "height": 106
        },
        "outputId": "406395a5-fa56-4561-a8c6-b8201545b739"
      },
      "execution_count": null,
      "outputs": [
        {
          "output_type": "error",
          "ename": "IndentationError",
          "evalue": "unexpected indent (ipython-input-641699163.py, line 2)",
          "traceback": [
            "\u001b[0;36m  File \u001b[0;32m\"/tmp/ipython-input-641699163.py\"\u001b[0;36m, line \u001b[0;32m2\u001b[0m\n\u001b[0;31m    y=3\u001b[0m\n\u001b[0m    ^\u001b[0m\n\u001b[0;31mIndentationError\u001b[0m\u001b[0;31m:\u001b[0m unexpected indent\n"
          ]
        }
      ]
    }
  ]
}