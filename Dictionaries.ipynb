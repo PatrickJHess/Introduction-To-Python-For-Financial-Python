{
  "nbformat": 4,
  "nbformat_minor": 0,
  "metadata": {
    "colab": {
      "provenance": []
    },
    "kernelspec": {
      "name": "python3",
      "display_name": "Python 3"
    },
    "language_info": {
      "name": "python"
    }
  },
  "cells": [
    {
      "cell_type": "markdown",
      "source": [
        "# A Quick Introduction To Dictionaries\n",
        " Dictionaries store data as key:value pairs. Much like a physical dictionary where a definition is found for a word, Python dictionaries hold data (the value) associated with a label (key). Like lists and tuples, dictionaries are iterable and can be created in multiple ways: using curly brackets, the <font color='green'>dict()</font> constructor, or dictionary comprehension. Dictionary keys must be unique and immutable, but the data associated with those keys is mutable.  key:value pairs may be deleted or added.\n",
        "\n",
        "\n",
        "```\n",
        "# Define x, y and z lists\n",
        "x=[1,2]\n",
        "y=[3,4]\n",
        "z=[5,6]\n",
        "\n",
        "# Method 1: Create an empty dictionary using curly braces\n",
        "first_dict = {}\n",
        "\n",
        "# Add a key:value pair to the dictionary dynamically\n",
        "# The string 'x' is created on-the-fly as the key and assigned the value stored in variable x\n",
        "# This demonstrates how dictionaries can be built incrementally\n",
        "first_dict['x'] = x  # key value created on the fly\n",
        "\n",
        "```"
      ],
      "metadata": {
        "id": "QbO2UYV7B1S9"
      }
    },
    {
      "cell_type": "code",
      "source": [
        "# Define x, y and z lists\n",
        "x=[1,2]\n",
        "y=[3,4]\n",
        "z=[5,6]\n",
        "\n",
        "# Method 1: Create an empty dictionary using curly braces\n",
        "first_dict = {}\n",
        "\n",
        "# Add a key:value pair to the dictionary dynamically\n",
        "# The string 'x' is created on-the-fly as the key and assigned the value stored in variable x\n",
        "# This demonstrates how dictionaries can be built incrementally\n",
        "first_dict['x'] = x  # key value created on the fly\n",
        "print(first_dict)"
      ],
      "metadata": {
        "colab": {
          "base_uri": "https://localhost:8080/"
        },
        "id": "yfGSRjJlWuMh",
        "outputId": "c63e3b0e-411c-4523-9aa9-b555ac0e2021"
      },
      "execution_count": null,
      "outputs": [
        {
          "output_type": "stream",
          "name": "stdout",
          "text": [
            "{'x': [1, 2]}\n"
          ]
        }
      ]
    },
    {
      "cell_type": "markdown",
      "source": [
        "```\n",
        "# Method 2: Use dict() constructor\n",
        "second_dict = {}\n",
        "\n",
        "# Add  key:value pairs to the dictionary as x=x, y=y in dict()\n",
        "second_dict = dict(x=x,y=y)\n",
        "print(first_dict,second_dict)\n",
        "\n",
        "```"
      ],
      "metadata": {
        "id": "7dw57PJDbFEh"
      }
    },
    {
      "cell_type": "code",
      "source": [
        "# Method 2: Use dict() constructor\n",
        "second_dict = {}\n",
        "\n",
        "# Add  key:value pairs to the dictionary as x=x, y=y in dict()\n",
        "second_dict = dict(x=x,y=y)\n",
        "print(first_dict,second_dict)"
      ],
      "metadata": {
        "colab": {
          "base_uri": "https://localhost:8080/"
        },
        "id": "T3YBlYRvrdGG",
        "outputId": "9cfc6d67-2ecf-4a35-856c-4a6ef0faa4cc"
      },
      "execution_count": null,
      "outputs": [
        {
          "output_type": "stream",
          "name": "stdout",
          "text": [
            "{'x': [1, 2]} {'x': [1, 2], 'y': [3, 4]}\n"
          ]
        }
      ]
    },
    {
      "cell_type": "markdown",
      "source": [
        "\n",
        " The <font color='green'>zip()</font> function is particularly useful for the third method as it pairs up corresponding elements from the keys list <font color='green'>['x','y','z']</font> with the value lists <font color='green'>[x,y,z]</font>, creating tuples that the dictionary comprehension then converts into key:value pairs.\n",
        "\n",
        "```\n",
        "# Method 3: Create dictionary using dictionary comprehension\n",
        "# zip() function pairs up elements from two lists: keys ['x','y','z'] with values [x,y,z]\n",
        "# Dictionary comprehension {key:value for key,value in iterable} creates the dictionary in one line\n",
        "# This is a more concise way to create dictionaries from paired data\n",
        "third_dict = {key: value for key, value in zip(['x', 'y', 'z'], [x, y, z])}\n",
        "\n",
        "# Print all dictionaries to compare the results\n",
        "# All methods create dictionaries with string keys and list values\n",
        "print(first_dict, second_dict, third_dict)\n",
        "\n",
        "```\n"
      ],
      "metadata": {
        "id": "pNsfJ0zCrTsl"
      }
    },
    {
      "cell_type": "code",
      "source": [
        "# Method 3: Create dictionary using dictionary comprehension\n",
        "# zip() function pairs up elements from two lists: keys ['x','y','z'] with values [x,y,z]\n",
        "# Dictionary comprehension {key:value for key,value in iterable} creates the dictionary in one line\n",
        "# This is a more concise way to create dictionaries from paired data\n",
        "third_dict = {key: value for key, value in zip(['x', 'y', 'z'], [x, y, z])}\n",
        "\n",
        "# Print all dictionaries to compare the results\n",
        "# All methods create dictionaries with string keys and list values\n",
        "print(first_dict, second_dict, third_dict)"
      ],
      "metadata": {
        "colab": {
          "base_uri": "https://localhost:8080/"
        },
        "id": "tWh-HeJwCNyx",
        "outputId": "44f8e098-b6fe-4d33-c3f4-c4380d2c6bb4"
      },
      "execution_count": null,
      "outputs": [
        {
          "output_type": "stream",
          "name": "stdout",
          "text": [
            "{'x': [1, 2]} {'x': [1, 2], 'y': [3, 4]} {'x': [1, 2], 'y': [3, 4], 'z': [5, 6]}\n"
          ]
        }
      ]
    },
    {
      "cell_type": "markdown",
      "source": [
        " All methods are valid approaches, with dictionary comprehension being more Pythonic when you have all the data available at once. Each method creates dictionaries with string keys and list values."
      ],
      "metadata": {
        "id": "m6JhmSkD9p1z"
      }
    },
    {
      "cell_type": "markdown",
      "source": [
        "## Access Keys With <font color='green'>keys()</font> Method"
      ],
      "metadata": {
        "id": "YijvXWMpaI3J"
      }
    },
    {
      "cell_type": "code",
      "source": [
        "# Access all keys from the dictionary using the keys() method\n",
        "# This returns a dict_keys object containing all the keys: 'x', 'y', 'z'\n",
        "# Note: dict_keys is a view object, not a regular list\n",
        "third_dict.keys()"
      ],
      "metadata": {
        "colab": {
          "base_uri": "https://localhost:8080/"
        },
        "id": "JGVFqSy5DWPr",
        "outputId": "757e01aa-2fd2-4480-ca13-0954fece609a"
      },
      "execution_count": null,
      "outputs": [
        {
          "output_type": "execute_result",
          "data": {
            "text/plain": [
              "dict_keys(['x', 'y', 'z'])"
            ]
          },
          "metadata": {},
          "execution_count": 4
        }
      ]
    },
    {
      "cell_type": "markdown",
      "source": [
        "## Access Values With <font color='green'>values()</font> Method"
      ],
      "metadata": {
        "id": "rtZx_gKfaccv"
      }
    },
    {
      "cell_type": "code",
      "source": [
        "# Access all values from the dictionary using the values() method\n",
        "# This returns a dict_values object containing all the values stored in the dictionary\n",
        "# Based on previous code, this would contain the lists: x, y, z\n",
        "# Note: dict_values is also a view object, not a regular list\n",
        "third_dict.values()"
      ],
      "metadata": {
        "id": "d7NjW7iLEerC",
        "outputId": "2d5febba-183e-4657-f292-8dddf74606f2",
        "colab": {
          "base_uri": "https://localhost:8080/"
        }
      },
      "execution_count": null,
      "outputs": [
        {
          "output_type": "execute_result",
          "data": {
            "text/plain": [
              "dict_values([[1, 2], [3, 4], [5, 6]])"
            ]
          },
          "metadata": {},
          "execution_count": 5
        }
      ]
    },
    {
      "cell_type": "markdown",
      "source": [
        "## Iterate Through Keys And Access Values"
      ],
      "metadata": {
        "id": "9Gg8RVZ0aphR"
      }
    },
    {
      "cell_type": "code",
      "source": [
        "# Iterate through all keys in the dictionary\n",
        "for key in third_dict.keys():\n",
        "    # Print each key alongside its corresponding value\n",
        "    # Uses dictionary indexing [key] to retrieve the value for each key\n",
        "    # This print displays each key:value pair on a separate line for each iteration\n",
        "    print(key, third_dict[key])"
      ],
      "metadata": {
        "colab": {
          "base_uri": "https://localhost:8080/"
        },
        "id": "UmB32zF2aw9o",
        "outputId": "309c3193-f4bb-4556-d0f6-0411840301e2"
      },
      "execution_count": null,
      "outputs": [
        {
          "output_type": "stream",
          "name": "stdout",
          "text": [
            "x [1, 2]\n",
            "y [3, 4]\n",
            "z [5, 6]\n"
          ]
        }
      ]
    },
    {
      "cell_type": "markdown",
      "source": [
        "## The <font color='green'>get()</font> Method Doesn't Return An Error If Key Is Missing.\n",
        "\n",
        "```\n",
        "#Demonstrate UNSAFE dictionary key access method\n",
        "for key in ['x', 'y', 'z', 'w']:\n",
        "    # Unsafe method: direct indexing raises KeyError if key doesn't exist\n",
        "    # This will work fine for 'x', 'y', 'z' but will raise a KeyError for 'w'\n",
        "    # The program will crash when it tries to access the non-existent key 'w'\n",
        "    print(third_dict[key])  # Returns an error for w\n",
        "\n",
        "```"
      ],
      "metadata": {
        "id": "T31yXSRQbKBN"
      }
    },
    {
      "cell_type": "code",
      "source": [
        "#Demonstrate UNSAFE dictionary key access method\n",
        "for key in ['x', 'y', 'z', 'w']:\n",
        "\n",
        "    # Unsafe method: direct indexing raises KeyError if key doesn't exist\n",
        "    # This will work fine for 'x', 'y', 'z' but will raise a KeyError for 'w'\n",
        "    # The program will crash when it tries to access the non-existent key 'w'\n",
        "    print(third_dict[key])  # Returns an error for w"
      ],
      "metadata": {
        "colab": {
          "base_uri": "https://localhost:8080/",
          "height": 228
        },
        "outputId": "dd36345a-e25c-4769-ed97-bfbb0b48b48a",
        "id": "nas3ineSbPsz"
      },
      "execution_count": null,
      "outputs": [
        {
          "output_type": "stream",
          "name": "stdout",
          "text": [
            "[1, 2]\n",
            "[3, 4]\n",
            "[5, 6]\n"
          ]
        },
        {
          "output_type": "error",
          "ename": "KeyError",
          "evalue": "'w'",
          "traceback": [
            "\u001b[0;31m---------------------------------------------------------------------------\u001b[0m",
            "\u001b[0;31mKeyError\u001b[0m                                  Traceback (most recent call last)",
            "\u001b[0;32m/tmp/ipython-input-2772980581.py\u001b[0m in \u001b[0;36m<cell line: 0>\u001b[0;34m()\u001b[0m\n\u001b[1;32m      5\u001b[0m     \u001b[0;31m# This will work fine for 'x', 'y', 'z' but will raise a KeyError for 'w'\u001b[0m\u001b[0;34m\u001b[0m\u001b[0;34m\u001b[0m\u001b[0m\n\u001b[1;32m      6\u001b[0m     \u001b[0;31m# The program will crash when it tries to access the non-existent key 'w'\u001b[0m\u001b[0;34m\u001b[0m\u001b[0;34m\u001b[0m\u001b[0m\n\u001b[0;32m----> 7\u001b[0;31m     \u001b[0mprint\u001b[0m\u001b[0;34m(\u001b[0m\u001b[0mthird_dict\u001b[0m\u001b[0;34m[\u001b[0m\u001b[0mkey\u001b[0m\u001b[0;34m]\u001b[0m\u001b[0;34m)\u001b[0m  \u001b[0;31m# Returns an error for w\u001b[0m\u001b[0;34m\u001b[0m\u001b[0;34m\u001b[0m\u001b[0m\n\u001b[0m",
            "\u001b[0;31mKeyError\u001b[0m: 'w'"
          ]
        }
      ]
    },
    {
      "cell_type": "code",
      "source": [
        "#Demonstrate safe dictionary key access method\n",
        "for key in ['x', 'y', 'z', 'w']:\n",
        "    # Safe method: get() returns None if key doesn't exist\n",
        "    # For keys 'x', 'y', 'z' it returns their values\n",
        "    # For key 'w' (which doesn't exist), it returns None instead of crashing\n",
        "    print(third_dict.get(key))  # Returns None for w"
      ],
      "metadata": {
        "colab": {
          "base_uri": "https://localhost:8080/"
        },
        "outputId": "9fcacdd4-fc07-43d8-9d79-3c59f4c01291",
        "id": "G6uAW-IgwHMX"
      },
      "execution_count": null,
      "outputs": [
        {
          "output_type": "stream",
          "name": "stdout",
          "text": [
            "None\n",
            "None\n",
            "None\n",
            "None\n"
          ]
        }
      ]
    },
    {
      "cell_type": "markdown",
      "source": [
        "## The <font color='green'>items()</font> Method Returns key:value As A List Of Tuples\n"
      ],
      "metadata": {
        "id": "ytHrUXIxc_OP"
      }
    },
    {
      "cell_type": "code",
      "source": [
        "third_dict.items()"
      ],
      "metadata": {
        "colab": {
          "base_uri": "https://localhost:8080/"
        },
        "id": "5ddFPRaYcr4A",
        "outputId": "2a7eb636-3dac-41e8-d999-b0eeecd502bc"
      },
      "execution_count": null,
      "outputs": [
        {
          "output_type": "execute_result",
          "data": {
            "text/plain": [
              "dict_items([('a', 3), ('b', 5)])"
            ]
          },
          "metadata": {},
          "execution_count": 16
        }
      ]
    },
    {
      "cell_type": "markdown",
      "source": [
        "## The <font color='green'>items()</font> Method Equivalent To zip Of Keys And Values.\n",
        "\n",
        " The <font color='green'>items()</font> method returns a view of key:value pairs as tuples, which are then unpacked into the key and value variables in the for loop. This produces the same output as the earlier key-based iteration but with better performance and style.\n",
        "\n",
        "\n",
        "```\n",
        "# Most Pythonic way to iterate through dictionary key:value pairs\n",
        "for key, value in third_dict.items():\n",
        "    # The items() method returns key:value pairs as tuples\n",
        "    # Tuple unpacking assigns each tuple to (key, value) variables\n",
        "    # This is cleaner and more efficient than accessing values by key lookup\n",
        "    print(key, value)\n",
        "\n",
        "```\n"
      ],
      "metadata": {
        "id": "cYhGfh0veD0V"
      }
    },
    {
      "cell_type": "code",
      "source": [
        "# Most Pythonic way to iterate through dictionary key:value pairs\n",
        "for key, value in third_dict.items():\n",
        "    # The items() method returns key:value pairs as tuples\n",
        "    # Tuple unpacking assigns each tuple to (key, value) variables\n",
        "    # This is cleaner and more efficient than accessing values by key lookup\n",
        "    print(key, value)"
      ],
      "metadata": {
        "colab": {
          "base_uri": "https://localhost:8080/"
        },
        "id": "d816oUIhdaTt",
        "outputId": "9bd58eb9-f2ec-469f-9935-12dce86c7db0"
      },
      "execution_count": null,
      "outputs": [
        {
          "output_type": "stream",
          "name": "stdout",
          "text": [
            "a 3\n",
            "b 5\n"
          ]
        }
      ]
    },
    {
      "cell_type": "code",
      "source": [
        "# Results with zip of keys and values are identical\n",
        "for key,value in zip(third_dict.keys(),third_dict.values()):\n",
        "  print(key,value)"
      ],
      "metadata": {
        "id": "zFdv90g2dteY"
      },
      "execution_count": null,
      "outputs": []
    },
    {
      "cell_type": "markdown",
      "source": [
        "## Removing A Key With The <font color='green'>del</font> Command And <font color='green'>pop()</font> Method\n",
        "\n",
        "\n",
        " <font color='green'>del</font> permanently removes the key:value pair from the dictionary.\n",
        "\n",
        "```\n",
        "del third_dict['z']\n",
        "third_dict\n",
        "\n",
        "```"
      ],
      "metadata": {
        "id": "6a_s0C-OaQi0"
      }
    },
    {
      "cell_type": "code",
      "source": [
        "del third_dict['z']\n",
        "third_dict"
      ],
      "metadata": {
        "colab": {
          "base_uri": "https://localhost:8080/",
          "height": 159
        },
        "id": "UDRGz-6ZaK8N",
        "outputId": "7bbed7ca-82df-478f-823c-5ffc5b9ed5e7"
      },
      "execution_count": null,
      "outputs": [
        {
          "output_type": "error",
          "ename": "KeyError",
          "evalue": "'z'",
          "traceback": [
            "\u001b[0;31m---------------------------------------------------------------------------\u001b[0m",
            "\u001b[0;31mKeyError\u001b[0m                                  Traceback (most recent call last)",
            "\u001b[0;32m/tmp/ipython-input-3642017985.py\u001b[0m in \u001b[0;36m<cell line: 0>\u001b[0;34m()\u001b[0m\n\u001b[0;32m----> 1\u001b[0;31m \u001b[0;32mdel\u001b[0m \u001b[0mthird_dict\u001b[0m\u001b[0;34m[\u001b[0m\u001b[0;34m'z'\u001b[0m\u001b[0;34m]\u001b[0m\u001b[0;34m\u001b[0m\u001b[0;34m\u001b[0m\u001b[0m\n\u001b[0m\u001b[1;32m      2\u001b[0m \u001b[0mthird_dict\u001b[0m\u001b[0;34m\u001b[0m\u001b[0;34m\u001b[0m\u001b[0m\n",
            "\u001b[0;31mKeyError\u001b[0m: 'z'"
          ]
        }
      ]
    },
    {
      "cell_type": "markdown",
      "source": [
        "## Attempting To Remove A Key When The Key Doesn't Exist\n",
        "\n",
        " If you try to delete a non-existent key, it will raise a KeyError. There are two methods to avoid the error. The first method uses <font color='green'>try-except</font>.\n",
        "\n",
        "\n",
        "```\n",
        "# Method 1: Safe deletion using try-except with del statement\n",
        "try:\n",
        "    # Attempt to delete key 'z' using del statement\n",
        "    # Since 'z' has already been deleted, this will raise a KeyError\n",
        "    del third_dict['z']\n",
        "except:\n",
        "    # Catch the exception and do nothing (silent failure)\n",
        "    pass\n",
        "\n",
        "# Display the final dictionary state\n",
        "# Dictionary remains unchanged since 'z' was already deleted previously\n",
        "third_dict\n",
        "\n",
        "```"
      ],
      "metadata": {
        "id": "coO-Y13vzR9v"
      }
    },
    {
      "cell_type": "code",
      "source": [
        "# Method 1: Safe deletion using try-except with del statement\n",
        "try:\n",
        "    # Attempt to delete key 'z' using del statement\n",
        "    # Since 'z' has already been deleted, this will raise a KeyError\n",
        "    del third_dict['z']\n",
        "except:\n",
        "    # Catch the exception and do nothing (silent failure)\n",
        "    pass\n",
        "# Display the final dictionary state\n",
        "# Dictionary remains unchanged since 'z' was already deleted previously\n",
        "third_dict"
      ],
      "metadata": {
        "colab": {
          "base_uri": "https://localhost:8080/"
        },
        "id": "gkZZkIQp0jhm",
        "outputId": "61c5dd0b-b467-4344-f451-f10efa425e91"
      },
      "execution_count": null,
      "outputs": [
        {
          "output_type": "execute_result",
          "data": {
            "text/plain": [
              "{'a': 3, 'b': 5}"
            ]
          },
          "metadata": {},
          "execution_count": 20
        }
      ]
    },
    {
      "cell_type": "markdown",
      "source": [
        " Alternative method is <font color='green'>dict.pop('key')</font> which returns the deleted value\n",
        "\n",
        "\n",
        "```\n",
        "# Method 2: Safe deletion using pop() with default value\n",
        "# pop() removes and returns the value for the given key\n",
        "# If key doesn't exist, it returns the default value (None) instead of raising an error\n",
        "# This is more Pythonic than try-except for safe deletion\n",
        "\n",
        "third_dict.pop('z', None)\n",
        "\n",
        "# Display the final dictionary state\n",
        "# Dictionary remains unchanged since 'z' was already deleted previously\n",
        "# Both deletion methods handled the missing key gracefully\n",
        "third_dict\n",
        "\n",
        "```"
      ],
      "metadata": {
        "id": "sBHlFp3Y0tiR"
      }
    },
    {
      "cell_type": "code",
      "source": [
        "# Method 2: Safe deletion using pop() with default value\n",
        "# pop() removes and returns the value for the given key\n",
        "# If key doesn't exist, it returns the default value (None) instead of raising an error\n",
        "# This is more Pythonic than try-except for safe deletion\n",
        "third_dict.pop('z', None)\n",
        "\n",
        "# Display the final dictionary state\n",
        "# Dictionary remains unchanged since 'z' was already deleted previously\n",
        "# Both deletion methods handled the missing key gracefully\n",
        "third_dict"
      ],
      "metadata": {
        "colab": {
          "base_uri": "https://localhost:8080/"
        },
        "id": "Hg-O-vY-ethS",
        "outputId": "76cffbd9-9501-4ea2-8970-2d02cc7e9549"
      },
      "execution_count": null,
      "outputs": [
        {
          "output_type": "execute_result",
          "data": {
            "text/plain": [
              "{'a': 3, 'b': 5}"
            ]
          },
          "metadata": {},
          "execution_count": 21
        }
      ]
    },
    {
      "cell_type": "markdown",
      "source": [
        "## Add A Dictionary To Or Modify An Existing Dictionary: The <font color='green'>update()</font> Method\n",
        " The <font color='green'>update()</font> method allows you to add new key-value pairs or modify existing ones in a dictionary. It takes another dictionary or an iterable of key-value pairs (like a list of tuples) as an argument."
      ],
      "metadata": {
        "id": "4g9c9cIhHa3d"
      }
    },
    {
      "cell_type": "markdown",
      "source": [
        "## Add With Dictionary And Tuple"
      ],
      "metadata": {
        "id": "4I-NxnfeK_Io"
      }
    },
    {
      "cell_type": "code",
      "source": [
        "#add with dictionary: third_dict\n",
        "first_dict={'a':1,'b':2}\n",
        "second_dict={'c':3,'d':5}\n",
        "first_dict.update(second_dict)\n",
        "first_dict"
      ],
      "metadata": {
        "colab": {
          "base_uri": "https://localhost:8080/"
        },
        "id": "QwCVFkXnIUb6",
        "outputId": "bb8360ea-c58c-4383-834a-e259ba509d89"
      },
      "execution_count": null,
      "outputs": [
        {
          "output_type": "execute_result",
          "data": {
            "text/plain": [
              "{'a': 1, 'b': 2, 'c': 3, 'd': 5}"
            ]
          },
          "metadata": {},
          "execution_count": 11
        }
      ]
    },
    {
      "cell_type": "code",
      "source": [
        "#add with tuple: third_tuple\n",
        "first_dict={'a':1,'b':2}\n",
        "second_tuple=(('c',3),('d',4))\n",
        "first_dict.update(second_tuple)\n",
        "first_dict"
      ],
      "metadata": {
        "colab": {
          "base_uri": "https://localhost:8080/"
        },
        "outputId": "3453e281-cc83-4471-860c-232d0b6786e8",
        "id": "5NmTrrRPJkYG"
      },
      "execution_count": null,
      "outputs": [
        {
          "output_type": "execute_result",
          "data": {
            "text/plain": [
              "{'a': 1, 'b': 2, 'c': 3, 'd': 4}"
            ]
          },
          "metadata": {},
          "execution_count": 12
        }
      ]
    },
    {
      "cell_type": "markdown",
      "source": [
        "## Modify With Dictionary And List"
      ],
      "metadata": {
        "id": "5EAsQ-3LLORt"
      }
    },
    {
      "cell_type": "code",
      "source": [
        "#modify With dictionary: third_dict\n",
        "first_dict={'a':1,'b':2}\n",
        "third_dict={'a':3,'b':5}\n",
        "first_dict.update(third_dict)\n",
        "first_dict"
      ],
      "metadata": {
        "colab": {
          "base_uri": "https://localhost:8080/"
        },
        "outputId": "c1c01f3a-5039-4a46-a174-067d05a249d1",
        "id": "OpahLYx4JHsX"
      },
      "execution_count": null,
      "outputs": [
        {
          "output_type": "execute_result",
          "data": {
            "text/plain": [
              "{'a': 3, 'b': 5}"
            ]
          },
          "metadata": {},
          "execution_count": 13
        }
      ]
    },
    {
      "cell_type": "code",
      "source": [
        "#modify With list: third_list\n",
        "first_dict={'a':1,'b':2}\n",
        "third_list=[['a',3],['b',5]]\n",
        "first_dict.update(third_list)\n",
        "first_dict"
      ],
      "metadata": {
        "colab": {
          "base_uri": "https://localhost:8080/"
        },
        "outputId": "3279650c-86be-44e2-835b-f2edad56e6ec",
        "id": "RgCrNnrRKMVP"
      },
      "execution_count": null,
      "outputs": [
        {
          "output_type": "execute_result",
          "data": {
            "text/plain": [
              "{'a': 3, 'b': 5}"
            ]
          },
          "metadata": {},
          "execution_count": 14
        }
      ]
    }
  ]
}