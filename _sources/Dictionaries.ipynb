{
  "nbformat": 4,
  "nbformat_minor": 0,
  "metadata": {
    "colab": {
      "provenance": [],
      "toc_visible": true
    },
    "kernelspec": {
      "name": "python3",
      "display_name": "Python 3"
    },
    "language_info": {
      "name": "python"
    }
  },
  "cells": [
    {
      "cell_type": "markdown",
      "source": [
        "<img src='https://docs.google.com/drawings/d/e/2PACX-1vSOMPMjnrXKXQBVtI8QzRwsQ_ReVMHN12SVPyynW1Ip-xH8XZeD2N5uI3l636tNar-_KUEBNHhFlKZ2/pub?w=960&h=720'>"
      ],
      "metadata": {
        "id": "6ttlGkSoPYDR"
      }
    },
    {
      "cell_type": "markdown",
      "source": [
        "## ***Dictionaries***\n",
        "#### Dictionaries store data as key:value pairs. Much like a physical dictionary where a definition is found for a word, Python dictionaries hold data (the value) associated with a label (key). Like lists and tuples, dictionairies are iterable and can be created in multiple ways: using curly brackets, the <font color='green'>dict()</font> constructor, or dictionary comprehension. Dictionary keys must be unique and immutable, but the data associated with those keys is mutable.  key:value pairs may be deleted or added.\n",
        "\n",
        "\n",
        "```\n",
        "# Define x, y and z lists\n",
        "x=[1,2]\n",
        "y=[3,4]\n",
        "z=[5,6]\n",
        "\n",
        "# Method 1: Create an empty dictionary using curly braces\n",
        "first_dict = {}\n",
        "\n",
        "# Add a key:value pair to the dictionary dynamically\n",
        "# The string 'x' is created on-the-fly as the key and assigned the value stored in variable x\n",
        "# This demonstrates how dictionaries can be built incrementally\n",
        "first_dict['x'] = x  # key value created on the fly\n",
        "\n",
        "```"
      ],
      "metadata": {
        "id": "QbO2UYV7B1S9"
      }
    },
    {
      "cell_type": "code",
      "source": [
        "# Define x, y and z lists\n",
        "x=[1,2]\n",
        "y=[3,4]\n",
        "z=[5,6]\n",
        "\n",
        "# Method 1: Create an empty dictionary using curly braces\n",
        "first_dict = {}\n",
        "\n",
        "# Add a key:value pair to the dictionary dynamically\n",
        "# The string 'x' is created on-the-fly as the key and assigned the value stored in variable x\n",
        "# This demonstrates how dictionaries can be built incrementally\n",
        "first_dict['x'] = x  # key value created on the fly\n",
        "print(first_dict)"
      ],
      "metadata": {
        "colab": {
          "base_uri": "https://localhost:8080/"
        },
        "id": "T3YBlYRvrdGG",
        "outputId": "e64ec3e3-889f-4dbe-d352-3f2622035895"
      },
      "execution_count": null,
      "outputs": [
        {
          "output_type": "stream",
          "name": "stdout",
          "text": [
            "{'x': [1, 2]}\n"
          ]
        }
      ]
    },
    {
      "cell_type": "markdown",
      "source": [
        "\n",
        "#### The <font color='green'>zip()</font> function is particularly useful for the second method as it pairs up corresponding elements from the keys list <font color='green'>['x','y','z']</font> with the value lists <font color='green'>[x,y,z]</font>, creating tuples that the dictionary comprehension then converts into key:value pairs.\n",
        "\n",
        "```\n",
        "# Method 2: Create dictionary using dictionary comprehension\n",
        "# zip() function pairs up elements from two lists: keys ['x','y','z'] with values [x,y,z]\n",
        "# Dictionary comprehension {key:value for key,value in iterable} creates the dictionary in one line\n",
        "# This is a more concise way to create dictionaries from paired data\n",
        "second_dict = {key: value for key, value in zip(['x', 'y', 'z'], [x, y, z])}\n",
        "\n",
        "# Print both dictionaries to compare the results\n",
        "# Both methods create dictionaries with string keys and list values\n",
        "print(first_dict, second_dict)\n",
        "\n",
        "```\n"
      ],
      "metadata": {
        "id": "pNsfJ0zCrTsl"
      }
    },
    {
      "cell_type": "code",
      "source": [
        "# Method 2: Create dictionary using dictionary comprehension\n",
        "# zip() function pairs up elements from two lists: keys ['x','y','z'] with values [x,y,z]\n",
        "# Dictionary comprehension {key:value for key,value in iterable} creates the dictionary in one line\n",
        "# This is a more concise way to create dictionaries from paired data\n",
        "second_dict = {key: value for key, value in zip(['x', 'y', 'z'], [x, y, z])}\n",
        "\n",
        "# Print both dictionaries to compare the results\n",
        "print(first_dict, second_dict)"
      ],
      "metadata": {
        "colab": {
          "base_uri": "https://localhost:8080/"
        },
        "id": "tWh-HeJwCNyx",
        "outputId": "b819b469-6c10-427c-bbca-b00dbf9590f8"
      },
      "execution_count": null,
      "outputs": [
        {
          "output_type": "stream",
          "name": "stdout",
          "text": [
            "{'x': [1, 2]} {'x': [1, 2], 'y': [3, 4], 'z': [5, 6]}\n"
          ]
        }
      ]
    },
    {
      "cell_type": "markdown",
      "source": [
        "####Both methods are valid approaches, with dictionary comprehension being more Pythonic when you have all the data available at once. Both methods create dictionaries with string keys and list values"
      ],
      "metadata": {
        "id": "m6JhmSkD9p1z"
      }
    },
    {
      "cell_type": "markdown",
      "source": [
        "## ***Access Keys With <font color='green'>keys()</font> Method***"
      ],
      "metadata": {
        "id": "YijvXWMpaI3J"
      }
    },
    {
      "cell_type": "code",
      "source": [
        "# Access all keys from the dictionary using the keys() method\n",
        "# This returns a dict_keys object containing all the keys: 'x', 'y', 'z'\n",
        "# Note: dict_keys is a view object, not a regular list\n",
        "second_dict.keys()"
      ],
      "metadata": {
        "colab": {
          "base_uri": "https://localhost:8080/"
        },
        "id": "JGVFqSy5DWPr",
        "outputId": "943583f5-71b1-426d-9537-9676b7121110"
      },
      "execution_count": null,
      "outputs": [
        {
          "output_type": "execute_result",
          "data": {
            "text/plain": [
              "dict_keys(['x', 'y', 'z'])"
            ]
          },
          "metadata": {},
          "execution_count": 3
        }
      ]
    },
    {
      "cell_type": "markdown",
      "source": [
        "## ***Access Values With <font color='green'>values()</font> Method***"
      ],
      "metadata": {
        "id": "rtZx_gKfaccv"
      }
    },
    {
      "cell_type": "code",
      "source": [
        "# Access all values from the dictionary using the values() method\n",
        "# This returns a dict_values object containing all the values stored in the dictionary\n",
        "# Based on previous code, this would contain the lists: x, y, z\n",
        "# Note: dict_values is also a view object, not a regular list\n",
        "second_dict.values()"
      ],
      "metadata": {
        "id": "d7NjW7iLEerC",
        "outputId": "c7a703b2-4de9-4072-c283-faed0ef6583c",
        "colab": {
          "base_uri": "https://localhost:8080/"
        }
      },
      "execution_count": null,
      "outputs": [
        {
          "output_type": "execute_result",
          "data": {
            "text/plain": [
              "dict_values([[1, 2], [3, 4], [5, 6]])"
            ]
          },
          "metadata": {},
          "execution_count": 4
        }
      ]
    },
    {
      "cell_type": "markdown",
      "source": [
        "## ***Iterate Through Keys And Access Values***"
      ],
      "metadata": {
        "id": "9Gg8RVZ0aphR"
      }
    },
    {
      "cell_type": "code",
      "source": [
        "# Iterate through all keys in the dictionary\n",
        "for key in second_dict.keys():\n",
        "    # Print each key alongside its corresponding value\n",
        "    # Uses dictionary indexing [key] to retrieve the value for each key\n",
        "    # This print displays each key:value pair on a separate line for each iteration\n",
        "    print(key, second_dict[key])"
      ],
      "metadata": {
        "colab": {
          "base_uri": "https://localhost:8080/"
        },
        "id": "UmB32zF2aw9o",
        "outputId": "65e5c03f-f6b0-4746-9d4c-b7109177ea2e"
      },
      "execution_count": null,
      "outputs": [
        {
          "output_type": "stream",
          "name": "stdout",
          "text": [
            "x [1, 2]\n",
            "y [3, 4]\n",
            "z [5, 6]\n"
          ]
        }
      ]
    },
    {
      "cell_type": "markdown",
      "source": [
        "## ***The <font color='green'>get()</font> Method Doesn't Return An Error If Key Is Missing.***\n",
        "\n",
        "```\n",
        "#Demonstrate UNSAFE dictionary key access method\n",
        "for key in ['x', 'y', 'z', 'w']:\n",
        "    # Unsafe method: direct indexing raises KeyError if key doesn't exist\n",
        "    # This will work fine for 'x', 'y', 'z' but will raise a KeyError for 'w'\n",
        "    # The program will crash when it tries to access the non-existent key 'w'\n",
        "    print(second_dict[key])  # Returns an error for w\n",
        "\n",
        "```"
      ],
      "metadata": {
        "id": "T31yXSRQbKBN"
      }
    },
    {
      "cell_type": "code",
      "source": [
        "#Demonstrate UNSAFE dictionary key access method\n",
        "for key in ['x', 'y', 'z', 'w']:\n",
        "\n",
        "    # Unsafe method: direct indexing raises KeyError if key doesn't exist\n",
        "    # This will work fine for 'x', 'y', 'z' but will raise a KeyError for 'w'\n",
        "    # The program will crash when it tries to access the non-existent key 'w'\n",
        "    print(second_dict[key])  # Returns an error for w"
      ],
      "metadata": {
        "colab": {
          "base_uri": "https://localhost:8080/",
          "height": 228
        },
        "outputId": "00266ee4-d538-4431-d857-4816a4d00188",
        "id": "nas3ineSbPsz"
      },
      "execution_count": null,
      "outputs": [
        {
          "output_type": "stream",
          "name": "stdout",
          "text": [
            "[1, 2]\n",
            "[3, 4]\n",
            "[5, 6]\n"
          ]
        },
        {
          "output_type": "error",
          "ename": "KeyError",
          "evalue": "'w'",
          "traceback": [
            "\u001b[0;31m---------------------------------------------------------------------------\u001b[0m",
            "\u001b[0;31mKeyError\u001b[0m                                  Traceback (most recent call last)",
            "\u001b[0;32m/tmp/ipython-input-1060415269.py\u001b[0m in \u001b[0;36m<cell line: 0>\u001b[0;34m()\u001b[0m\n\u001b[1;32m      5\u001b[0m     \u001b[0;31m# This will work fine for 'x', 'y', 'z' but will raise a KeyError for 'w'\u001b[0m\u001b[0;34m\u001b[0m\u001b[0;34m\u001b[0m\u001b[0m\n\u001b[1;32m      6\u001b[0m     \u001b[0;31m# The program will crash when it tries to access the non-existent key 'w'\u001b[0m\u001b[0;34m\u001b[0m\u001b[0;34m\u001b[0m\u001b[0m\n\u001b[0;32m----> 7\u001b[0;31m     \u001b[0mprint\u001b[0m\u001b[0;34m(\u001b[0m\u001b[0msecond_dict\u001b[0m\u001b[0;34m[\u001b[0m\u001b[0mkey\u001b[0m\u001b[0;34m]\u001b[0m\u001b[0;34m)\u001b[0m  \u001b[0;31m# Returns an error for w\u001b[0m\u001b[0;34m\u001b[0m\u001b[0;34m\u001b[0m\u001b[0m\n\u001b[0m",
            "\u001b[0;31mKeyError\u001b[0m: 'w'"
          ]
        }
      ]
    },
    {
      "cell_type": "code",
      "source": [
        "#Demonstrate safe dictionary key access method\n",
        "for key in ['x', 'y', 'z', 'w']:\n",
        "    # Safe method: get() returns None if key doesn't exist\n",
        "    # For keys 'x', 'y', 'z' it returns their values\n",
        "    # For key 'w' (which doesn't exist), it returns None instead of crashing\n",
        "    print(second_dict.get(key))  # Returns None for w"
      ],
      "metadata": {
        "colab": {
          "base_uri": "https://localhost:8080/"
        },
        "outputId": "e829f312-048d-424e-b2cc-a0b6341c9c0c",
        "id": "G6uAW-IgwHMX"
      },
      "execution_count": null,
      "outputs": [
        {
          "output_type": "stream",
          "name": "stdout",
          "text": [
            "[1, 2]\n",
            "[3, 4]\n",
            "[5, 6]\n",
            "None\n"
          ]
        }
      ]
    },
    {
      "cell_type": "markdown",
      "source": [
        "##***The <font color='green'>items()</font> Method Returns key:value As A List Of Tuples***\n"
      ],
      "metadata": {
        "id": "ytHrUXIxc_OP"
      }
    },
    {
      "cell_type": "code",
      "source": [
        "second_dict.items()"
      ],
      "metadata": {
        "colab": {
          "base_uri": "https://localhost:8080/"
        },
        "id": "5ddFPRaYcr4A",
        "outputId": "cbf1270a-a499-48c8-d539-17ad339eb6d9"
      },
      "execution_count": null,
      "outputs": [
        {
          "output_type": "execute_result",
          "data": {
            "text/plain": [
              "dict_items([('x', [1, 2]), ('y', [3, 4]), ('z', [5, 6])])"
            ]
          },
          "metadata": {},
          "execution_count": 8
        }
      ]
    },
    {
      "cell_type": "markdown",
      "source": [
        "## ***The <font color='green'>items()</font> Method Equivalent To zip Of Keys And Values.***\n",
        "\n",
        "#### The <font color='green'>items()</font> method returns a view of key:value pairs as tuples, which are then unpacked into the key and value variables in the for loop. This produces the same output as the earlier key-based iteration but with better performance and style.\n",
        "\n",
        "\n",
        "```\n",
        "# Most Pythonic way to iterate through dictionary key:value pairs\n",
        "for key, value in second_dict.items():\n",
        "    # The items() method returns key:value pairs as tuples\n",
        "    # Tuple unpacking assigns each tuple to (key, value) variables\n",
        "    # This is cleaner and more efficient than accessing values by key lookup\n",
        "    print(key, value)\n",
        "\n",
        "```\n"
      ],
      "metadata": {
        "id": "cYhGfh0veD0V"
      }
    },
    {
      "cell_type": "code",
      "source": [
        "# Most Pythonic way to iterate through dictionary key:value pairs\n",
        "for key, value in second_dict.items():\n",
        "    # The items() method returns key:value pairs as tuples\n",
        "    # Tuple unpacking assigns each tuple to (key, value) variables\n",
        "    # This is cleaner and more efficient than accessing values by key lookup\n",
        "    print(key, value)"
      ],
      "metadata": {
        "colab": {
          "base_uri": "https://localhost:8080/"
        },
        "id": "d816oUIhdaTt",
        "outputId": "83add2b6-8085-4709-f13d-d4d8866ce63a"
      },
      "execution_count": null,
      "outputs": [
        {
          "output_type": "stream",
          "name": "stdout",
          "text": [
            "x [1, 2]\n",
            "y [3, 4]\n",
            "z [5, 6]\n"
          ]
        }
      ]
    },
    {
      "cell_type": "code",
      "source": [
        "# Results with zip of keys and values are identical\n",
        "for key,value in zip(second_dict.keys(),second_dict.values()):\n",
        "  print(key,value)"
      ],
      "metadata": {
        "colab": {
          "base_uri": "https://localhost:8080/"
        },
        "id": "zFdv90g2dteY",
        "outputId": "03da64f4-32ef-495f-ee99-7d21c0e4cc69"
      },
      "execution_count": null,
      "outputs": [
        {
          "output_type": "stream",
          "name": "stdout",
          "text": [
            "x [1, 2]\n",
            "y [3, 4]\n",
            "z [5, 6]\n"
          ]
        }
      ]
    },
    {
      "cell_type": "markdown",
      "source": [
        "## ***Removing A Key With The <font color='green'>del</font> Command And <font color='green'>pop()</font> Method***\n",
        "\n",
        "\n",
        "#### <font color='green'>del</font> Permanently removes the key:value pair from the dictionary.\n",
        "\n",
        "```\n",
        "del second_dict['z']\n",
        "second_dict\n",
        "\n",
        "```"
      ],
      "metadata": {
        "id": "6a_s0C-OaQi0"
      }
    },
    {
      "cell_type": "code",
      "source": [
        "del second_dict['z']\n",
        "second_dict"
      ],
      "metadata": {
        "colab": {
          "base_uri": "https://localhost:8080/"
        },
        "id": "UDRGz-6ZaK8N",
        "outputId": "7a913d00-22f6-43c7-b78a-e39e55af82f5"
      },
      "execution_count": null,
      "outputs": [
        {
          "output_type": "execute_result",
          "data": {
            "text/plain": [
              "{'x': [1, 2], 'y': [3, 4]}"
            ]
          },
          "metadata": {},
          "execution_count": 11
        }
      ]
    },
    {
      "cell_type": "markdown",
      "source": [
        "## ***Attempting To Remove A Key When The Key Doesn't Exist***\n",
        "\n",
        "#### If you try to delete a non-existent key, it will raise a KeyError. There are two methods to avoid the error. The first method uses <font color='green'>try/except</font>.\n",
        "\n",
        "\n",
        "```\n",
        "# Method 1: Safe deletion using try-except with del statement\n",
        "try:\n",
        "    # Attempt to delete key 'z' using del statement\n",
        "    # Since 'z' doesn't exist, this will raise a KeyError\n",
        "    del second_dict['z']\n",
        "except:\n",
        "    # Catch the exception and do nothing (silent failure)\n",
        "    pass\n",
        "\n",
        "# Display the final dictionary state\n",
        "# Dictionary remains unchanged since 'z' was already deleted previously\n",
        "second_dict\n",
        "\n",
        "```"
      ],
      "metadata": {
        "id": "coO-Y13vzR9v"
      }
    },
    {
      "cell_type": "code",
      "source": [
        "# Method 1: Safe deletion using try-except with del statement\n",
        "try:\n",
        "    # Attempt to delete key 'z' using del statement\n",
        "    # Since 'z' doesn't exist, this will raise a KeyError\n",
        "    del second_dict['z']\n",
        "except:\n",
        "    # Catch the exception and do nothing (silent failure)\n",
        "    pass\n",
        "# Display the final dictionary state\n",
        "# Dictionary remains unchanged since 'z' was already deleted previously\n",
        "second_dict"
      ],
      "metadata": {
        "colab": {
          "base_uri": "https://localhost:8080/"
        },
        "id": "gkZZkIQp0jhm",
        "outputId": "d02165a2-376d-44a8-b2c5-daa8b593f4f9"
      },
      "execution_count": null,
      "outputs": [
        {
          "output_type": "execute_result",
          "data": {
            "text/plain": [
              "{'x': [1, 2], 'y': [3, 4]}"
            ]
          },
          "metadata": {},
          "execution_count": 12
        }
      ]
    },
    {
      "cell_type": "markdown",
      "source": [
        "#### Alternative method is <font color='green'>dict.pop('key')</font> which returns the deleted value\n",
        "\n",
        "\n",
        "```\n",
        "# Method 2: Safe deletion using pop() with default value\n",
        "# pop() removes and returns the value for the given key\n",
        "# If key doesn't exist, it returns the default value (None) instead of raising an error\n",
        "# This is more Pythonic than try-except for safe deletion\n",
        "\n",
        "second_dict.pop('z', None)\n",
        "\n",
        "# Display the final dictionary state\n",
        "# Dictionary remains unchanged since 'z' was already deleted previously\n",
        "# Both deletion methods handled the missing key gracefully\n",
        "second_dict\n",
        "\n",
        "```"
      ],
      "metadata": {
        "id": "sBHlFp3Y0tiR"
      }
    },
    {
      "cell_type": "code",
      "source": [
        "# Method 2: Safe deletion using pop() with default value\n",
        "# pop() removes and returns the value for the given key\n",
        "# If key doesn't exist, it returns the default value (None) instead of raising an error\n",
        "# This is more Pythonic than try-except for safe deletion\n",
        "second_dict.pop('z', None)\n",
        "\n",
        "# Display the final dictionary state\n",
        "# Dictionary remains unchanged since 'z' was already deleted previously\n",
        "# Both deletion methods handled the missing key gracefully\n",
        "second_dict"
      ],
      "metadata": {
        "colab": {
          "base_uri": "https://localhost:8080/"
        },
        "id": "Hg-O-vY-ethS",
        "outputId": "82369df5-38a7-44e8-9619-527018cd3292"
      },
      "execution_count": null,
      "outputs": [
        {
          "output_type": "execute_result",
          "data": {
            "text/plain": [
              "{'x': [1, 2], 'y': [3, 4]}"
            ]
          },
          "metadata": {},
          "execution_count": 13
        }
      ]
    },
    {
      "cell_type": "markdown",
      "source": [
        "## ***Add A Dictionary To Or Modify An Existing Dictionary: The <font color='green'>update()</font> method***\n",
        "#### The <font color='green'>update()</font> method allows you to add new key-value pairs or modify existing ones in a dictionary. It takes another dictionary or an iterable of key-value pairs (like a list of tuples) as an argument."
      ],
      "metadata": {
        "id": "4g9c9cIhHa3d"
      }
    },
    {
      "cell_type": "markdown",
      "source": [
        "## ***Add With Dictionary And Tuple***"
      ],
      "metadata": {
        "id": "4I-NxnfeK_Io"
      }
    },
    {
      "cell_type": "code",
      "source": [
        "first_dict={'a':1,'b':2}\n",
        "second_dict={'c':3,'d':5}\n",
        "first_dict.update(second_dict)\n",
        "first_dict"
      ],
      "metadata": {
        "colab": {
          "base_uri": "https://localhost:8080/"
        },
        "id": "QwCVFkXnIUb6",
        "outputId": "2f670e3b-977a-4708-ed90-843e91f2b49e"
      },
      "execution_count": null,
      "outputs": [
        {
          "output_type": "execute_result",
          "data": {
            "text/plain": [
              "{'a': 1, 'b': 2, 'c': 3, 'd': 5}"
            ]
          },
          "metadata": {},
          "execution_count": 14
        }
      ]
    },
    {
      "cell_type": "code",
      "source": [
        "first_dict={'a':1,'b':2}\n",
        "second_tuple=(('c',3),('d',4))\n",
        "first_dict.update(second_tuple)\n",
        "first_dict"
      ],
      "metadata": {
        "colab": {
          "base_uri": "https://localhost:8080/"
        },
        "outputId": "2dfdec28-2820-4de7-b161-e3bc4d2e7759",
        "id": "5NmTrrRPJkYG"
      },
      "execution_count": null,
      "outputs": [
        {
          "output_type": "execute_result",
          "data": {
            "text/plain": [
              "{'a': 1, 'b': 2, 'c': 3, 'd': 4}"
            ]
          },
          "metadata": {},
          "execution_count": 15
        }
      ]
    },
    {
      "cell_type": "markdown",
      "source": [
        "## ***Modify With Dictionary And List***"
      ],
      "metadata": {
        "id": "5EAsQ-3LLORt"
      }
    },
    {
      "cell_type": "code",
      "source": [
        "first_dict={'a':1,'b':2}\n",
        "third_dict={'a':3,'b':5}\n",
        "first_dict.update(third_dict)\n",
        "first_dict"
      ],
      "metadata": {
        "colab": {
          "base_uri": "https://localhost:8080/"
        },
        "outputId": "e9af860f-b18a-44b9-f015-c3c0824a9e21",
        "id": "OpahLYx4JHsX"
      },
      "execution_count": null,
      "outputs": [
        {
          "output_type": "execute_result",
          "data": {
            "text/plain": [
              "{'a': 3, 'b': 5}"
            ]
          },
          "metadata": {},
          "execution_count": 16
        }
      ]
    },
    {
      "cell_type": "code",
      "source": [
        "first_dict={'a':1,'b':2}\n",
        "third_list=[['a',3],['b',5]]\n",
        "first_dict.update(third_list)\n",
        "first_dict"
      ],
      "metadata": {
        "colab": {
          "base_uri": "https://localhost:8080/"
        },
        "outputId": "7f113fde-ed74-45fe-ecf5-377dc5fff277",
        "id": "RgCrNnrRKMVP"
      },
      "execution_count": null,
      "outputs": [
        {
          "output_type": "execute_result",
          "data": {
            "text/plain": [
              "{'a': 3, 'b': 5}"
            ]
          },
          "metadata": {},
          "execution_count": 17
        }
      ]
    }
  ]
}