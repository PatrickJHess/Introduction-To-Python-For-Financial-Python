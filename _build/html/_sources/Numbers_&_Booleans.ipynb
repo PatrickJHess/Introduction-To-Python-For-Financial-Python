{
  "nbformat": 4,
  "nbformat_minor": 0,
  "metadata": {
    "colab": {
      "provenance": []
    },
    "kernelspec": {
      "name": "python3",
      "display_name": "Python 3"
    },
    "language_info": {
      "name": "python"
    }
  },
  "cells": [
    {
      "cell_type": "markdown",
      "source": [
        "<img src='https://docs.google.com/drawings/d/e/2PACX-1vQlbnl2em6SbqFT34k4N9yIKcE75URI01HANtJbf8Eo11zwHAs2Ioyh4OrJQBYyldDaTSFfi8kOKIaV/pub?w=960&h=720'>"
      ],
      "metadata": {
        "id": "DzqBSCPYZjPb"
      }
    },
    {
      "cell_type": "markdown",
      "source": [
        "# ***A Quick Introduction To Numbers And Booleans***\n",
        "#### When the Python interpreter parses the value assigned to a variable, a type is assigned to the data stored at that address. The basic data types of Python that hold single values are numbers, booleans or true/false values, and strings.  Other data types including binary, complex, octal, and hexadecimal are ignored. Integers, floating points, and booleans are less complex than strings."
      ],
      "metadata": {
        "id": "YqjUIVOr4zPI"
      }
    },
    {
      "cell_type": "markdown",
      "source": [
        "## ***Integers***\n",
        "#### Integers are the values of counting: numbers without decimal points. In the code below, the integer 11 is assigned to the variable <font color='green'>eleven</font>.\n",
        "\n",
        "\n",
        "```\n",
        "eleven=11\n",
        "```\n",
        "\n",
        "#### The value and the data type of <font color='green'>eleven</font> are printed with the built-in functions <font color='green'>print()</font> and <font color='green'>type()</font>.  The <font color='green'>type()</font> function returns class 'int' indicating that the variable <font color='green'>eleven</font> is an integer. One of the advantages of Python is that it automatically sets the type of a variable when it is assigned.  Unlike many other computer languages, there are no declaration statements."
      ],
      "metadata": {
        "id": "7c-TNGeLhtoZ"
      }
    },
    {
      "cell_type": "code",
      "source": [
        "eleven=11\n",
        "print(eleven)\n",
        "print('Type of eleven is :',type(eleven))"
      ],
      "metadata": {
        "colab": {
          "base_uri": "https://localhost:8080/"
        },
        "id": "8NQuHxfftX_J",
        "outputId": "a9967091-3677-4181-912a-77ad418d243d"
      },
      "execution_count": null,
      "outputs": [
        {
          "output_type": "stream",
          "name": "stdout",
          "text": [
            "11\n",
            "Type of eleven is : <class 'int'>\n"
          ]
        }
      ]
    },
    {
      "cell_type": "markdown",
      "source": [
        "## ***Floating Points***\n",
        "\n",
        "#### A floating-point number has a fractional component (a decimal point). In the code below, the value 0.5 is assigned to the variable <font color='green'>one_half</font>.\n",
        "\n",
        "```\n",
        "one_half=0.5\n",
        "print(one_half)\n",
        "print('Type of one_half is :',type('float'))\n",
        "\n",
        "```"
      ],
      "metadata": {
        "id": "f8tbgLwuh9Tm"
      }
    },
    {
      "cell_type": "code",
      "source": [
        "one_half=0.5\n",
        "print(one_half)\n",
        "print('Type of one_half is :',type(one_half))"
      ],
      "metadata": {
        "colab": {
          "base_uri": "https://localhost:8080/"
        },
        "id": "7ivdN4PXu77E",
        "outputId": "de9a69b7-a01a-46f0-ed19-7af644c73370"
      },
      "execution_count": null,
      "outputs": [
        {
          "output_type": "stream",
          "name": "stdout",
          "text": [
            "0.5\n",
            "Type of one_half is : <class 'float'>\n"
          ]
        }
      ]
    },
    {
      "cell_type": "markdown",
      "source": [
        "## ***Mathematical Operators***\n",
        "#### There are seven basic arithmetic operators of Python and the associated code.\n",
        "\n",
        "\n",
        "*   ***Addition +***\n",
        "*   ***Subtraction -***\n",
        "*   ***Multiplication \\****\n",
        "*   ***Division /***\n",
        "*   ***Floor division //***\n",
        "*   ***Modulus  %***\n",
        "*   <b><i>Exponent **</b></i>\n",
        "\n",
        "\n",
        "#### Of these seven, <font color='green'>floor division</font> and <font color='green'>modulus</font> might be unfamiliar.  <font color='green'>Floor division</font> rounds down the results of the division.  If both numbers are integers, <font color='green'>floor division</font> returns an integer; otherwise, a floating point.  There is one thing to be mindful of when using <font color='green'>floor division</font>: it always rounds down and this can seem confusing if the numerator and denominator have opposite signs.  <font color='green'>Modulus</font> returns the remainder of division.\n",
        "\n",
        "```\n",
        "print('Floor Division Same Sign',3//2)\n",
        "print('Floor Division Opposite Sign',3//-2)\n",
        "#The remainder of 3%2 is 0.5 which rounds up to the integer 1\n",
        "print('Modulus', 3%2)\n",
        "\n",
        "```\n"
      ],
      "metadata": {
        "id": "69-dXyDXETgP"
      }
    },
    {
      "cell_type": "code",
      "source": [
        "print('Floor Division Same Sign',3//2)\n",
        "print('Floor Division Opposite Sign',3//-2)\n",
        "#The remainder of 3%2 is 0.5 which rounds up to the integer 1\n",
        "print('Modulus', 3%2)"
      ],
      "metadata": {
        "colab": {
          "base_uri": "https://localhost:8080/"
        },
        "id": "X8KqDlksEhoO",
        "outputId": "07f33801-eaa4-446f-a250-d1a5ed3a4a33"
      },
      "execution_count": null,
      "outputs": [
        {
          "output_type": "stream",
          "name": "stdout",
          "text": [
            "Floor Division Same Sign 1\n",
            "Floor Division Opposite Sign -2\n",
            "Modulus 1\n"
          ]
        }
      ]
    },
    {
      "cell_type": "markdown",
      "source": [
        "## ***Short-Cut Mathematical Operators***\n",
        "#### Python has a convenient way of applying repetitive operations on the same variable.  Suppose you want to increment the value assigned to <font color='green'>x</font> with the value assigned to <font color='green'>y</font>.  Instead of typing <font color='green'>x</font> on both sides of the statement <font color='green'>(x=x+y)</font>, the short-cut allows you to include <font color='green'>x</font> and the operator on the left-hand side of the statement and <font color='green'>y</font> on the right-hand side <font color='green'>(x+=y)</font>.  Here are a few examples.\n",
        "\n",
        "```\n",
        "x=2\n",
        "x+=1\n",
        "print('Addition',x)\n",
        "x=2\n",
        "x*=2\n",
        "print('Multiplication',x)\n",
        "x=2\n",
        "x**=3\n",
        "print('Exponent',x)\n",
        "x=2\n",
        "x%=3\n",
        "print('Modulus',x)\n",
        "\n",
        "```"
      ],
      "metadata": {
        "id": "niFwuzGGa9GI"
      }
    },
    {
      "cell_type": "code",
      "source": [
        "x=2\n",
        "x+=1\n",
        "print('Addition',x)\n",
        "x=2\n",
        "x*=2\n",
        "print('Multiplication',x)\n",
        "x=2\n",
        "x**=3\n",
        "print('Exponent',x)\n",
        "x=2\n",
        "x%=3\n",
        "print('Modulus',x)"
      ],
      "metadata": {
        "colab": {
          "base_uri": "https://localhost:8080/"
        },
        "id": "MgdMHi-EbGch",
        "outputId": "3948fc01-be0e-4149-c7b4-c096d65c20d3"
      },
      "execution_count": null,
      "outputs": [
        {
          "output_type": "stream",
          "name": "stdout",
          "text": [
            "Addition 3\n",
            "Multiplication 4\n",
            "Exponent 8\n",
            "Modulus 2\n"
          ]
        }
      ]
    },
    {
      "cell_type": "markdown",
      "source": [
        "## **Booleans**\n",
        "#### Booleans represent true or false states and return the Python values True or False. In the following code, <font color='green'>x</font> is set to 5 and <font color='green'>y</font> to 10. Most comparisons such as greater than, less than, or greater than/equal to are straightforward. The equality check requires attention. The double equal signs <font color='green'>==</font> tests for equality. A single equal sign <font color='green'>=</font> assign a value. Finally, <font color='green'>!=</font> checks for inequality.\n",
        "\n",
        "```\n",
        "x=5\n",
        "y=10\n",
        "print('10 Is > 5: ',y>x)\n",
        "print('10 Is < 5: ',y<x)\n",
        "print('5 Is > or = 5',x>=5)\n",
        "print('10 Is = 5: ',x==y)\n",
        "print('10 Is Not = 5: ',x!=y)\n",
        "print('Type of 10 is > 5: ',type(y>5))\n",
        "\n",
        "```"
      ],
      "metadata": {
        "id": "hMGZczZtiJsP"
      }
    },
    {
      "cell_type": "code",
      "source": [
        "x=5\n",
        "y=10\n",
        "print('10 Is > 5: ',y>x)\n",
        "print('10 Is < 5: ',y<x)\n",
        "print('5 Is > or = 5',x>=5)\n",
        "print('10 Is = 5: ',x==y)\n",
        "print('10 Is Not = 5: ',x!=y)\n",
        "print('Type of 10 is > 5: ',type(y>5))"
      ],
      "metadata": {
        "colab": {
          "base_uri": "https://localhost:8080/"
        },
        "id": "Y2_NJhwGxmop",
        "outputId": "00b5c5c3-049e-4034-84b8-a23402b63faa"
      },
      "execution_count": null,
      "outputs": [
        {
          "output_type": "stream",
          "name": "stdout",
          "text": [
            "10 Is > 5:  True\n",
            "10 Is < 5:  False\n",
            "5 Is > or = 5 True\n",
            "10 Is = 5:  False\n",
            "10 Is Not = 5:  True\n",
            "Type of 10 is > 5:  <class 'bool'>\n"
          ]
        }
      ]
    },
    {
      "cell_type": "markdown",
      "source": [
        "## **Converting Integers, Floating Points, and Booleans**\n",
        "#### Integers, floating points, and booleans can be converted from one type to another.\n",
        "\n",
        "*   The builtin function <font color='green'>float()</font> converts integers and booleans to floating points.\n",
        "\n",
        "```\n",
        "print('Convert Integer To Floating Point',float(11))\n",
        "print('Convert Boolean True To Floating Point',float(True))\n",
        "\n",
        "```\n",
        "*   The builtin function <font color='green'>int()</font> converts floating points and booleans to integers. The function truncates the number as opposed to rounding up or down.\n",
        "\n",
        "```\n",
        "print('Convert Floating Point To Integer',int(11.5))\n",
        "print('Convert Boolean False To Integer',int(False))\n",
        "\n",
        "```\n",
        "\n",
        "*   The builtin function <font color='green'>bool()</font> converts floating points and integers to booleans.\n",
        "\n",
        "```\n",
        "\n",
        "print('Convert Integer 11 To Boolean',bool(11))\n",
        "print('Convert Floating Point 0.0 To Boolean',bool(0.0))\n",
        "\n",
        "```\n",
        "\n",
        "#### Because booleans have two possible states (True or False), the numerical value of a boolean is zero for False and one for True.  The boolean value of any nonzero number is True; zero is false."
      ],
      "metadata": {
        "id": "7O7cUb-4iuKN"
      }
    },
    {
      "cell_type": "code",
      "source": [
        "print('Convert Integer To Floating Point',float(11))\n",
        "print('Convert Boolean True To Floating Point',float(True))\n",
        "print('Convert Floating Point To Integer',int(11.5))\n",
        "print('Convert Boolean False To Integer',int(False))\n",
        "print('Convert Integer 11 To Boolean',bool(11))\n",
        "print('Convert Floating Point 0.0 To Boolean',bool(0.0))"
      ],
      "metadata": {
        "colab": {
          "base_uri": "https://localhost:8080/"
        },
        "id": "GuM40gZS3XN2",
        "outputId": "2f3b5431-d05a-45b5-9394-f859e717a9c6"
      },
      "execution_count": null,
      "outputs": [
        {
          "output_type": "stream",
          "name": "stdout",
          "text": [
            "Convert Integer To Floating Point 11.0\n",
            "Convert Boolean True To Floating Point 1.0\n",
            "Convert Floating Point To Integer 11\n",
            "Convert Boolean False To Integer 0\n",
            "Convert Integer 11 To Boolean True\n",
            "Convert Floating Point 0.0 To Boolean False\n"
          ]
        }
      ]
    }
  ]
}