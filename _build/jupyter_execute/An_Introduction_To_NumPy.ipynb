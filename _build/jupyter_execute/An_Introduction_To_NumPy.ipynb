{
 "cells": [
  {
   "cell_type": "markdown",
   "metadata": {
    "id": "V8ozM4z_aCul"
   },
   "source": [
    "# A Quick Introduction To NumPy\n",
    "The NumPy library offers efficient numerical procedures that simplify complex calculations. The fundamental object in this library is the NumPy array. Like Pandas, NumPy must be imported before use. Depending on your notebook, you may need to install NumPy before importing it.\n",
    "\n",
    "The example code cell below uses a <font color='green'>try</font> and <font color='green'>except</font> code block to import NumPy and assigns<br> it the common alias <font color='green'>np</font>.$^{1}$\n",
    "\n",
    "\n",
    "\n",
    "---\n",
    "$^{1}$ For a discusion of  <font color='green'>try</font> and <font color='green'>except</font> code blocks see Chapter *Control Statements*.\n",
    "\n"
   ]
  },
  {
   "cell_type": "code",
   "execution_count": 1,
   "metadata": {
    "id": "0Z5LgpGJWHPP"
   },
   "outputs": [],
   "source": [
    "try:\n",
    "  import numpy as np\n",
    "except:\n",
    "  !pip install numpy\n",
    "  import numpy as np"
   ]
  },
  {
   "cell_type": "markdown",
   "metadata": {
    "id": "MTKji5FUgaAg"
   },
   "source": [
    "## A One Dimensional Array\n",
    "The <font color='green'>array()</font> method uses iterable data, such as a list, as its argument to generate NumPy arrays. For instance, an array containing the numbers 1, 2, and 3 can be created from a list.$^{2}$\n",
    "\n",
    "---\n",
    "$^{2}$ If you need a little help with this concept see Chapter *A First Look At Lists*."
   ]
  },
  {
   "cell_type": "code",
   "execution_count": 2,
   "metadata": {
    "colab": {
     "base_uri": "https://localhost:8080/"
    },
    "id": "Ie6-H8SXelW6",
    "outputId": "1e8fa3b3-35d5-43ca-dc9c-586e55f6e6ed"
   },
   "outputs": [
    {
     "data": {
      "text/plain": [
       "array([1, 2, 3])"
      ]
     },
     "execution_count": 2,
     "metadata": {},
     "output_type": "execute_result"
    }
   ],
   "source": [
    "data=[1,2,3]\n",
    "x=np.array(data)\n",
    "x"
   ]
  },
  {
   "cell_type": "markdown",
   "metadata": {
    "id": "9R8rWWFQmRTL"
   },
   "source": [
    "Three Important Attributes Of Arrays\n",
    "The array attribute <font color='green'>ndim</font> is the number of axes or dimensions of an array.  The <font color='green'>shape</font> attribute is the<br> size of an array on each axis.  The type of data is dtype. The array <font color='green'>x</font> has one axis, the size of the axis is<br> three, and <font color='green'>dtype</font>  are 64 byte integers."
   ]
  },
  {
   "cell_type": "code",
   "execution_count": 3,
   "metadata": {
    "colab": {
     "base_uri": "https://localhost:8080/"
    },
    "id": "jobEMRrzkL8-",
    "outputId": "385aae8d-4fb5-45d2-c0c1-1d05a38283e7"
   },
   "outputs": [
    {
     "name": "stdout",
     "output_type": "stream",
     "text": [
      "Number Of Axes 1\n",
      "Size Of Axes (3,)\n",
      "Type Of Data int64\n"
     ]
    }
   ],
   "source": [
    "print('Number Of Axes',np.array(x).ndim)\n",
    "print('Size Of Axes',np.array(x).shape)\n",
    "print('Type Of Data',np.array(x).dtype)"
   ]
  },
  {
   "cell_type": "markdown",
   "metadata": {
    "id": "BHQAFjIBgjEI"
   },
   "source": [
    "## Element-By-Element Calculations\n",
    "Calculations on NumPy arrays are element by element creating a new array of<br> results with size attribute of three.  Here results are demonstrated with two<br> one-dimensional arrays."
   ]
  },
  {
   "cell_type": "code",
   "execution_count": 4,
   "metadata": {
    "colab": {
     "base_uri": "https://localhost:8080/"
    },
    "id": "tj9qx0P8wGod",
    "outputId": "d8895c92-3e20-434a-de72-6e1d33eabfb2"
   },
   "outputs": [
    {
     "name": "stdout",
     "output_type": "stream",
     "text": [
      "Multiplication [ 4 10 18]\n",
      "Natural Log Of x [0.         0.69314718 1.09861229]\n",
      "Raising e To x [ 2.71828183  7.3890561  20.08553692]\n"
     ]
    }
   ],
   "source": [
    "y=np.array([4,5,6])    #Create  the NumPy array y from a list with array() method\n",
    "x_times_y=x*y\n",
    "print('Multiplication',x_times_y)\n",
    "log_x=np.log(x)\n",
    "print('Natural Log Of x',log_x)\n",
    "euler_to_x=np.exp(x)\n",
    "print('Raising e To x',euler_to_x)"
   ]
  },
  {
   "cell_type": "markdown",
   "metadata": {
    "id": "DQZuiif41hKm"
   },
   "source": [
    "## Multi-Dimensional Arrays\n",
    "Numpy arrays cam have any number of dimensions.  Our attention is limited to two:\n",
    "\n",
    "\n",
    "1.   One-dimensional arrays: These are single-row vectors (1 x n).\n",
    "2.   Two-dimensional arrays: These are matrices with multiple rows (m x n), including m x 1 column vectors.\n"
   ]
  },
  {
   "cell_type": "markdown",
   "metadata": {
    "id": "_1NdWrABpvh_"
   },
   "source": [
    "A Simple Two-Dimensional Array\n",
    "A column vector represents the simplest multi-dimensional array. An array is generated from a nested list of the integers one, two, and three. This array has two dimensions (<font color='green'>ndim</font>) and its rows and columns (<font color='green'>shape</font>) are three and one, respectively."
   ]
  },
  {
   "cell_type": "code",
   "execution_count": 5,
   "metadata": {
    "colab": {
     "base_uri": "https://localhost:8080/",
     "height": 104
    },
    "id": "808bmbeboiOX",
    "outputId": "8231267f-ed85-44e4-a0d6-54069847eb64"
   },
   "outputs": [
    {
     "data": {
      "text/plain": [
       "array([[1],\n",
       "       [2],\n",
       "       [3]])"
      ]
     },
     "metadata": {},
     "output_type": "display_data"
    },
    {
     "data": {
      "text/plain": [
       "2"
      ]
     },
     "metadata": {},
     "output_type": "display_data"
    },
    {
     "data": {
      "text/plain": [
       "(3, 1)"
      ]
     },
     "metadata": {},
     "output_type": "display_data"
    }
   ],
   "source": [
    "z=np.array([[1],[2],[3]])\n",
    "display(z)\n",
    "display(z.ndim)\n",
    "display(z.shape)"
   ]
  },
  {
   "cell_type": "markdown",
   "metadata": {
    "id": "D8Q3BCip5pRM"
   },
   "source": [
    "Transposing Arrays Or Matrices\n",
    "<font color='green'>array_method</font> with two rows and three columns is transposed and assigned to<br> <font color='green'>transpose_array</font> with three rows and two columns The sole argument of <font color='green'>transpose()</font><br> is the array that is to be transposed."
   ]
  },
  {
   "cell_type": "code",
   "execution_count": 6,
   "metadata": {
    "id": "v-z5FWlRKLHW"
   },
   "outputs": [],
   "source": [
    "#create two dimensitional array: array_method\n",
    "array_method=np.array([[1,2,3],[4,5,6]])"
   ]
  },
  {
   "cell_type": "code",
   "execution_count": 7,
   "metadata": {
    "colab": {
     "base_uri": "https://localhost:8080/"
    },
    "id": "kYFDcLqk6B0U",
    "outputId": "39de0820-b64d-473b-b41b-ad52217a46b4"
   },
   "outputs": [
    {
     "name": "stdout",
     "output_type": "stream",
     "text": [
      "Shape Of array_method (2, 3) Shape of transpose_array (3, 2)\n",
      "[[1 2 3]\n",
      " [4 5 6]]\n",
      "[[1 4]\n",
      " [2 5]\n",
      " [3 6]]\n"
     ]
    }
   ],
   "source": [
    "#transpose array_method from (2,3) shape to (3,2) share\n",
    "transpose_array=np.transpose(array_method)\n",
    "print('Shape Of array_method',array_method.shape,\n",
    "      'Shape of transpose_array',transpose_array.shape)\n",
    "print(array_method)\n",
    "print(transpose_array)"
   ]
  },
  {
   "cell_type": "markdown",
   "metadata": {
    "id": "4tHTJb7cuztc"
   },
   "source": [
    "Multiplying Arrays\n",
    "The number of columns in the first matrix must equal the number of rows in the second matrix<br> in order to perform matrix multiplication. The resulting matrix has elements that are equal to<br> the sum product of the columns and rows. These elements are indexed by the rows and<br> columns. The NumPy method <font color='green'>matmul()</font> can be used to multiply two conforming matrices.<br> In the example provided, <font color='green'>array_method</font> is the first matrix and <font color='green'>transpose_array</font> is the second<br> matrix. Because <font color='green'>transpose()</font> converts rows to columns, the number of columns of the original matrix will equal number of rows of the transposed matrix. The result is <font color='green'>multiplied_array</font>, a square matrix with two rows and two columns.$^{3}$\n",
    "\n",
    "---\n",
    "\n",
    "$^{3}$The volumes use the <font color='green'>matmul()</font> method to multiply matrices; the ampersand symbol (@) can also be used for this purpose,<br> but <font color='green'>matmul()</font> is preferred for clarity."
   ]
  },
  {
   "cell_type": "code",
   "execution_count": 8,
   "metadata": {
    "colab": {
     "base_uri": "https://localhost:8080/"
    },
    "id": "NrF5bqnY_Sfy",
    "outputId": "5772bcd8-ef5f-458d-f59d-04424db6be76"
   },
   "outputs": [
    {
     "data": {
      "text/plain": [
       "array([[14, 32],\n",
       "       [32, 77]])"
      ]
     },
     "execution_count": 8,
     "metadata": {},
     "output_type": "execute_result"
    }
   ],
   "source": [
    "multiplied_array=np.matmul(array_method,transpose_array)\n",
    "multiplied_array"
   ]
  },
  {
   "cell_type": "markdown",
   "metadata": {
    "id": "6liyZDabFCNK"
   },
   "source": [
    "Inverting Matrices\n",
    "The NumPy module <font color='green'>linalg</font> includes the <font color='green'>inv()</font> method that returns the inverse of<br> a square matrix. This is often necessary for numerical and statistical calculations.<br> The inverse of multiplied array is calculated using <font color='green'>np.linalg.inv()</font> and then multiplied into <br> <font color='green'>multiplied_array</font>. This results in the identity matrix, with ones on the main diagonal<br> and zeros everywhere else."
   ]
  },
  {
   "cell_type": "code",
   "execution_count": 9,
   "metadata": {
    "colab": {
     "base_uri": "https://localhost:8080/"
    },
    "id": "Zpd2Z3LlDlFP",
    "outputId": "545752f2-db08-405a-b71b-1eeebb91a2f4"
   },
   "outputs": [
    {
     "data": {
      "text/plain": [
       "array([[1., 0.],\n",
       "       [0., 1.]])"
      ]
     },
     "execution_count": 9,
     "metadata": {},
     "output_type": "execute_result"
    }
   ],
   "source": [
    "inverse_multiplied_array=np.linalg.inv(multiplied_array)\n",
    "np.matmul(inverse_multiplied_array,multiplied_array)"
   ]
  },
  {
   "cell_type": "markdown",
   "metadata": {
    "id": "Y6ohZgyPIzAb"
   },
   "source": [
    "NumPy Arrays Are Iterable\n",
    "NumPy arrays can be sliced or iterated through. In the example, the <font color='green'>multiplied_array</font> is<br> first sliced, and then its rows are iterated over."
   ]
  },
  {
   "cell_type": "code",
   "execution_count": 10,
   "metadata": {
    "colab": {
     "base_uri": "https://localhost:8080/"
    },
    "id": "3z5JmZFeHt_X",
    "outputId": "0368bcfe-4388-471a-8efa-ac5c28e05da3"
   },
   "outputs": [
    {
     "name": "stdout",
     "output_type": "stream",
     "text": [
      "First & Second Rows [[14 32]] & [[32 77]]\n",
      "Row Number & Row Array 0  &  [14 32]\n",
      "Row Number & Row Array 1  &  [32 77]\n"
     ]
    }
   ],
   "source": [
    "first_row=multiplied_array[0:1]\n",
    "second_row=multiplied_array[1:]\n",
    "print('First & Second Rows',first_row,'&',second_row)\n",
    "for row_number,array in enumerate(multiplied_array[0:]):\n",
    "  print('Row Number & Row Array',row_number,' & ',array)"
   ]
  },
  {
   "cell_type": "markdown",
   "metadata": {
    "id": "AjZZpcuiPR5A"
   },
   "source": [
    "## Vectorize Functions\n",
    "The NumPy function <font color='green'>vectorize()</font> allows passing NumPy arrays to functions that manipulate scalars or single values.  It's different from the vectorization of calculations achieved by direct NumPy calculations such as multiplying two arrays. In the example, the function does operate on the arrays and benefits from vectorizing the calculations."
   ]
  },
  {
   "cell_type": "code",
   "execution_count": 11,
   "metadata": {
    "colab": {
     "base_uri": "https://localhost:8080/"
    },
    "id": "aRsT30UxPZLF",
    "outputId": "a88f694c-ed05-4f2b-d124-4b81f1165ee9"
   },
   "outputs": [
    {
     "data": {
      "text/plain": [
       "array([3, 1, 7, 1])"
      ]
     },
     "execution_count": 11,
     "metadata": {},
     "output_type": "execute_result"
    }
   ],
   "source": [
    "def myfunc(a, b):\n",
    "  \"Return a-b if a>b, otherwise return a+b\"\n",
    "  if a > b:\n",
    "      return a - b\n",
    "  else:\n",
    "      return a + b\n",
    "vfunc = np.vectorize(myfunc)\n",
    "vfunc(np.array([1, 2, 3, 4]),\n",
    "      np.array([2, 1, 4, 3]))"
   ]
  }
 ],
 "metadata": {
  "colab": {
   "provenance": []
  },
  "kernelspec": {
   "display_name": "Python 3",
   "name": "python3"
  },
  "language_info": {
   "codemirror_mode": {
    "name": "ipython",
    "version": 3
   },
   "file_extension": ".py",
   "mimetype": "text/x-python",
   "name": "python",
   "nbconvert_exporter": "python",
   "pygments_lexer": "ipython3",
   "version": "3.9.7"
  }
 },
 "nbformat": 4,
 "nbformat_minor": 0
}